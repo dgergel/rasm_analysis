{
 "cells": [
  {
   "cell_type": "code",
   "execution_count": 17,
   "metadata": {
    "collapsed": true
   },
   "outputs": [],
   "source": [
    "%matplotlib inline\n",
    "import matplotlib.pyplot as plt\n",
    "import numpy as np\n",
    "import xarray as xr\n",
    "import os\n",
    "import matplotlib.dates as mdates\n",
    "from netCDF4 import default_fillvals"
   ]
  },
  {
   "cell_type": "markdown",
   "metadata": {},
   "source": [
    "load domain file and parameters file that will be modified"
   ]
  },
  {
   "cell_type": "code",
   "execution_count": 2,
   "metadata": {
    "collapsed": true
   },
   "outputs": [],
   "source": [
    "direc = '/Users/diana/Dropbox/UW/Research/rasm/25_km'\n",
    "params_filename = 'vic_params_wr50a_vic5.0.dev_20160328.nc'\n",
    "domain_filename = 'domain.lnd.wr50a_ar9v4.100920.nc'\n",
    "domain = xr.open_dataset(os.path.join(direc, domain_filename))\n",
    "params = xr.open_dataset(os.path.join(direc, params_filename))"
   ]
  },
  {
   "cell_type": "markdown",
   "metadata": {},
   "source": [
    "change run_cell and domain mask to 0 values for all gridcells "
   ]
  },
  {
   "cell_type": "code",
   "execution_count": 7,
   "metadata": {
    "collapsed": false
   },
   "outputs": [],
   "source": [
    "runcell_vals = params.run_cell.values\n",
    "mask_vals = domain.mask.values\n",
    "runcell_vals[runcell_vals == 1] = 0\n",
    "mask_vals[mask_vals == 1] = 0"
   ]
  },
  {
   "cell_type": "markdown",
   "metadata": {},
   "source": [
    "reassign those numpy arrays to the domain mask DataArray and parameters file run_cell DataArray"
   ]
  },
  {
   "cell_type": "code",
   "execution_count": 8,
   "metadata": {
    "collapsed": true
   },
   "outputs": [],
   "source": [
    "domain.mask.values = mask_vals\n",
    "params.run_cell.values = runcell_vals"
   ]
  },
  {
   "cell_type": "markdown",
   "metadata": {},
   "source": [
    "now use the nj and ni indices to run for one or a set of points that we want to understand better \n",
    "\n",
    "and change domain mask and parameters run_cell values to 1 for that gridcell using the nj and ni indices"
   ]
  },
  {
   "cell_type": "code",
   "execution_count": 10,
   "metadata": {
    "collapsed": true
   },
   "outputs": [],
   "source": [
    "nj_ind = 39\n",
    "ni_ind = 134\n",
    "domain.mask.values[nj_ind, ni_ind] = 1\n",
    "params.run_cell.values[nj_ind, ni_ind] = 1"
   ]
  },
  {
   "cell_type": "markdown",
   "metadata": {},
   "source": [
    "plot them and output them to make sure that the values actually changed "
   ]
  },
  {
   "cell_type": "code",
   "execution_count": 11,
   "metadata": {
    "collapsed": false
   },
   "outputs": [
    {
     "name": "stdout",
     "output_type": "stream",
     "text": [
      "1\n"
     ]
    },
    {
     "data": {
      "text/plain": [
       "<matplotlib.collections.QuadMesh at 0x11315ee48>"
      ]
     },
     "execution_count": 11,
     "metadata": {},
     "output_type": "execute_result"
    },
    {
     "data": {
      "image/png": "[encoded data removed]",
      "text/plain": [
       "<matplotlib.figure.Figure at 0x1130d0908>"
      ]
     },
     "metadata": {},
     "output_type": "display_data"
    }
   ],
   "source": [
    "print(domain.mask.values[nj_ind, ni_ind])\n",
    "domain.mask.plot()"
   ]
  },
  {
   "cell_type": "code",
   "execution_count": 12,
   "metadata": {
    "collapsed": false
   },
   "outputs": [
    {
     "name": "stdout",
     "output_type": "stream",
     "text": [
      "1.0\n"
     ]
    },
    {
     "data": {
      "text/plain": [
       "<matplotlib.collections.QuadMesh at 0x1136720f0>"
      ]
     },
     "execution_count": 12,
     "metadata": {},
     "output_type": "execute_result"
    },
    {
     "data": {
      "image/png": "[encoded data removed]",
      "text/plain": [
       "<matplotlib.figure.Figure at 0x11313f0f0>"
      ]
     },
     "metadata": {},
     "output_type": "display_data"
    }
   ],
   "source": [
    "print(params.run_cell.values[nj_ind, ni_ind])\n",
    "params.run_cell.plot()"
   ]
  },
  {
   "cell_type": "markdown",
   "metadata": {},
   "source": [
    "now save the domain and parameters file with new names and make sure that the numbers are properly encoded by type\n",
    "(e.g. `mask` and `run_cell` have to be `np.int32` type or VIC will crash) \n",
    "\n",
    "specify directory for these files to be written to"
   ]
  },
  {
   "cell_type": "code",
   "execution_count": 18,
   "metadata": {
    "collapsed": true
   },
   "outputs": [],
   "source": [
    "fillval_i = default_fillvals['i4']\n",
    "encoding_params = {'run_cell': {'dtype': 'int32', \"_FillValue\": fillval_i}, \n",
    "                   'gridcell': {'dtype': 'int32', \"_FillValue\": fillval_i}, \n",
    "                   'fs_active': {'dtype': 'int32', \"_FillValue\": fillval_i}, \n",
    "                   'Nveg': {'dtype': 'int32', \"_FillValue\": fillval_i},\n",
    "                   'overstory': {'dtype': 'int32', \"_FillValue\": fillval_i}}\n",
    "encoding_domain = {'mask': {'dtype': 'int32', \"_FillValue\": fillval_i}}"
   ]
  },
  {
   "cell_type": "code",
   "execution_count": 19,
   "metadata": {
    "collapsed": false
   },
   "outputs": [],
   "source": [
    "direc_point_runs = '/Users/diana/Dropbox/UW/Research/rasm/point_runs_timing'\n",
    "new_domain_file = os.path.join(direc_point_runs, 'domain.lnd.20171023.nc')\n",
    "new_params_file = os.path.join(direc_point_runs, 'params.wr50a.20171023.nc')\n",
    "domain.to_netcdf(new_domain_file, format='NETCDF4_CLASSIC', encoding=encoding_domain)\n",
    "params.to_netcdf(new_params_file, format='NETCDF4_CLASSIC', encoding=encoding_params)"
   ]
  },
  {
   "cell_type": "code",
   "execution_count": null,
   "metadata": {
    "collapsed": true
   },
   "outputs": [],
   "source": []
  }
 ],
 "metadata": {
  "kernelspec": {
   "display_name": "Python 3",
   "language": "python",
   "name": "python3"
  },
  "language_info": {
   "codemirror_mode": {
    "name": "ipython",
    "version": 3
   },
   "file_extension": ".py",
   "mimetype": "text/x-python",
   "name": "python",
   "nbconvert_exporter": "python",
   "pygments_lexer": "ipython3",
   "version": "3.5.0rc4"
  }
 },
 "nbformat": 4,
 "nbformat_minor": 0
}
