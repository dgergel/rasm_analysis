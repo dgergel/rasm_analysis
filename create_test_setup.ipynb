{
 "cells": [
  {
   "cell_type": "code",
   "execution_count": 1,
   "metadata": {
    "collapsed": true
   },
   "outputs": [],
   "source": [
    "%matplotlib inline\n",
    "import matplotlib.pyplot as plt\n",
    "import xarray as xr\n",
    "import numpy as np\n",
    "import os\n",
    "import warnings\n",
    "from collections import OrderedDict\n",
    "import pandas as pd\n",
    "import re"
   ]
  },
  {
   "cell_type": "code",
   "execution_count": 2,
   "metadata": {
    "collapsed": true
   },
   "outputs": [],
   "source": [
    "direc = '/raid/gergel/rasm/agu_2016'\n",
    "domain_file = 'domain.lnd.wr50a_ar9v4.130607.nc'\n",
    "params_file = os.path.join('/raid/gergel/rasm/rasm_25_km', 'vic_params_wr25b_vic5.0.dev_20170530.nc')\n",
    "calm_params_file = os.path.join(direc, 'params_calm_sites_11282016.nc')\n",
    "domain_file_calm = os.path.join(direc, 'calm_domain_file_adj_11282016.nc')"
   ]
  },
  {
   "cell_type": "code",
   "execution_count": 4,
   "metadata": {
    "collapsed": true
   },
   "outputs": [],
   "source": [
    "calm_params = xr.open_dataset(calm_params_file)\n",
    "calm_domain = xr.open_dataset(domain_file_calm)\n",
    "domain = xr.open_dataset(os.path.join(direc, domain_file))"
   ]
  },
  {
   "cell_type": "markdown",
   "metadata": {},
   "source": [
    "__WANT__: all three Alaska sites with soil temp data at three depths (Barrow, Toolik, and West Dock). West Dock has two sites. Are they in the same RASM grid cell? If so, maybe not that helpful to use both. \n",
    "\n",
    "THEN: sites with varied veg types, avg_T, thickness of soil layers, number of veg types, locations. Also sites that have less sparse yearly ALT data (so look at CALM time series to check number of NaNs). \n",
    "\n",
    "__IN TOTAL__: want 20 or so sites, maybe 30. But fewer if we can capture the above characteristics with fewer sites. Just want to make sure we have a good range in the included sites. "
   ]
  },
  {
   "cell_type": "markdown",
   "metadata": {},
   "source": [
    "these functions are taken from my metadata notebook, see read_calm_metadata.ipynb "
   ]
  },
  {
   "cell_type": "code",
   "execution_count": 39,
   "metadata": {
    "collapsed": true
   },
   "outputs": [],
   "source": [
    "def parse_calm_lat_or_lon(x):\n",
    "    '''takes in lat or lon from CALM data and produces list of degree, minutes, seconds\n",
    "    or decimal. If element is a decimal, returns decimal as a float. If not decimal, \n",
    "    or decimal with direction, it returns a decimal without the direction as a float'''\n",
    "    # symbols to parse by\n",
    "    upside_down_exc = '¡'\n",
    "    degree_sign= u'\\N{DEGREE SIGN}'\n",
    "    single_quote = \"'\"\n",
    "    double_quote = '''\"'''\n",
    "    space = \" \"\n",
    "    comma = \",\"\n",
    "    v = 'v'\n",
    "    zero_aigu = calm['lat'][70][8]\n",
    "    # combine all symbols into one reg ex\n",
    "    split_on = '%s|\\s|%s|%s|%s|%s|%s|%s|%s|' % (upside_down_exc, degree_sign, single_quote, \n",
    "                                             double_quote, space, comma, v, zero_aigu)\n",
    "    # parse lat or lon with reg ex \n",
    "    splitt = re.split(split_on, x)\n",
    "\n",
    "    # remove comma and v characters from strings in parsed list \n",
    "    chars_to_remove = [',' 'v']\n",
    "    for char_to_remove in chars_to_remove:\n",
    "        if char_to_remove in splitt: \n",
    "            splitt.remove(char_to_remove)\n",
    "            \n",
    "    # remove empty strings from parsed list \n",
    "    parsed_list = list(filter(None, splitt))\n",
    "\n",
    "    # 4 cases \n",
    "    if len(parsed_list) == 1:\n",
    "        # decimal so leave as is but convert to float\n",
    "        return(float(parsed_list[0]))\n",
    "    elif len(parsed_list) == 2: \n",
    "        # decimal with direction, remove direction, return first element as float\n",
    "        # with the correct sign \n",
    "        direction = parsed_list[1]\n",
    "        if direction == \"S\" or direction == \"W\": \n",
    "            return(float(parsed_list[0]) *-1)\n",
    "        else: \n",
    "            return(float(parsed_list[0]))\n",
    "    else:\n",
    "        # degree, min, sec OR min, sec; convert to decimal. \n",
    "        if len(parsed_list) == 3:\n",
    "            # case with no minutes\n",
    "            dd = float(parsed_list[0]) + float(parsed_list[1])/60.0\n",
    "            direction = parsed_list[2]\n",
    "        elif len(parsed_list) == 4:\n",
    "            # case where minutes are included\n",
    "            '''print(parsed_list[2])\n",
    "            print(type(parsed_list[2][2][0]))'''\n",
    "            dd = (float(parsed_list[0]) + float(parsed_list[1])/60.0 \n",
    "                  + float(parsed_list[2])/(60.0*60.0))\n",
    "            direction = parsed_list[3]\n",
    "        if direction == \"S\" or direction == \"W\":\n",
    "            dd *= -1\n",
    "        return(dd)\n",
    "    \n",
    "def convert_longitude_0_360(longitude):\n",
    "    ''' takes in longitude between -180 to 180 and converts it to the 0 to 360 longitude'''\n",
    "    lng = np.mod(longitude, 360)\n",
    "    return lng \n",
    "\n",
    "def get_nj_ni_indices(lat, lng, domain):\n",
    "    ''' takes in CALM latitude and longitude (not in 0-360 format) and an xarray dataset of \n",
    "    a domain file and returns nj and ni indices'''\n",
    "    lng_adj = convert_longitude_0_360(lng)\n",
    "    min_arg = (((domain.xc - lng_adj)**2) + ((domain.yc - lat)**2)).argmin()\n",
    "    nj, ni = np.unravel_index(min_arg, domain.xc.shape)\n",
    "    return(nj, ni)\n",
    "\n",
    "'''def get_X(row):\n",
    "    return utm.from_latlon(row['Latitude'], row['Longitude'])[0]\n",
    "\n",
    "def get_Y(row):\n",
    "    return utm.from_latlon(row['Latitude'], row['Longitude'])[1] \n",
    "\n",
    "df['X'] = df.apply(get_X, axis=1)\n",
    "df['Y'] = df.apply(get_Y, axis=1)'''\n",
    "\n",
    "def get_nj_indices_from_df(df):\n",
    "    ''' takes in Pandas DataFrame and returns nj Series'''\n",
    "    domain = xr.open_dataset(os.path.join(direc, domain_file))\n",
    "    return get_nj_ni_indices(df['lat_dec'], df['lng_dec'], domain)[0]\n",
    "\n",
    "def get_ni_indices_from_df(df):\n",
    "    ''' takes in Pandas DataFrame and returns nj Series'''\n",
    "    domain = xr.open_dataset(os.path.join(direc, domain_file))\n",
    "    return get_nj_ni_indices(df['lat_dec'], df['lng_dec'], domain)[1]"
   ]
  },
  {
   "cell_type": "markdown",
   "metadata": {},
   "source": [
    "__read in calm obs data__"
   ]
  },
  {
   "cell_type": "code",
   "execution_count": 6,
   "metadata": {
    "collapsed": true
   },
   "outputs": [],
   "source": [
    "calm_metadata = 'CALM_Summary_table_latslons.csv'\n",
    "calm = pd.read_csv(os.path.join(direc, calm_metadata),\n",
    "                   delimiter=',',\n",
    "                   header=0,\n",
    "                   error_bad_lines=False,\n",
    "                   nrows=236,\n",
    "                   encoding='ISO-8859-1')\n",
    "\n",
    "# rename columns \n",
    "calm.rename(index=str, columns={\"LAT\": \"lat\", \"LONG\": \"lng\"}, inplace=True)"
   ]
  },
  {
   "cell_type": "markdown",
   "metadata": {},
   "source": [
    "__convert lats/lons form deg min sec to dec format for using nj/ni indices__"
   ]
  },
  {
   "cell_type": "code",
   "execution_count": 7,
   "metadata": {},
   "outputs": [
    {
     "name": "stderr",
     "output_type": "stream",
     "text": [
      "/home/gergel/anaconda/envs/vic_test_env/lib/python3.5/re.py:203: FutureWarning: split() requires a non-empty pattern match.\n",
      "  return _compile(pattern, flags).split(string, maxsplit)\n"
     ]
    }
   ],
   "source": [
    "calm['lat_dec'] = calm['lat'].apply(parse_calm_lat_or_lon)\n",
    "calm['lng_dec'] = calm['lng'].apply(parse_calm_lat_or_lon)\n",
    "\n",
    "# add column to DataFrame for longitudes from 0 to 360 so that I can use them directly with nj/ni indices\n",
    "calm['lng_dec_360'] = calm['lng_dec'].apply(convert_longitude_0_360)"
   ]
  },
  {
   "cell_type": "markdown",
   "metadata": {},
   "source": [
    "add nj, ni indices to DataFrame so that I can find grid cells more easily based on their location"
   ]
  },
  {
   "cell_type": "code",
   "execution_count": 43,
   "metadata": {
    "collapsed": true
   },
   "outputs": [],
   "source": [
    "calm['nj'] = calm.apply(get_nj_indices_from_df, axis=1)\n",
    "calm['ni'] = calm.apply(get_ni_indices_from_df, axis=1)"
   ]
  },
  {
   "cell_type": "markdown",
   "metadata": {},
   "source": [
    "__sites to use__: \n",
    "\n",
    "__nj, ni__ indices\n",
    "\n",
    "__Barrow (Alaska)__: calm[0]: 71.31667, -156.6. (73, 130).\n",
    "\n",
    "__Toolik LTR (Alaska)__: 68.1667, -149.6. (64, 130).\n",
    "\n",
    "__West Dock (Alaska)__: 70.36667, -148.55. (67, 133). \n",
    "(NOTE: 70.36667, -148.56667 is the 2nd West Dock site, but not using it because it falls in the same grid cell as the other one we're using)\n",
    "\n",
    "__Pearl Creek (Alaska)__: 64.9, -147.8. (57, 127). \n",
    "\n",
    "__Bonanza Creek LTER, Alaska (Interior)__: 64.75, -148. (56, 126)\n",
    "\n",
    "__Abisko area, Sweden__: 68.33, 18.833. (136, 193). \n",
    "\n",
    "__Kapp Linne, Svalbard__: 78.05, 13.6167. (119, 178). \n",
    "\n",
    "__Janssonhaugen, Svalbard__: 78.1667, 16.4667. (120, 177)\n",
    "\n",
    "__Murtel-Corvatsch, Switzerland__: 49.433, 9.833. (156, 236). \n",
    "\n",
    "__Northern Tien Shan; Cosmostation, China__: 43.083, 76.91667. (204, 138). \n",
    "\n",
    "__Cape Rogozhny, Chukotka, Siberia__: 64.7833, 176.967. (83, 105). \n",
    "\n",
    "__Ayach-Yakha, Vorkuta, Russia__: 78.16667, 16.46667. (120, 177). \n",
    "\n",
    "__Reindeer Depot (thaw tube), Canada__: 68.6847, -134.146 (59, 142).\n",
    "\n",
    "__Willowlake River, Canada__: 62.6967, -123.065. (43, 148).\n",
    "\n",
    "__Marmot Mountain, Canada__: 52.8, -118.117. (19, 152). \n",
    "\n",
    "__Baganuur Depression, Mongolia__: 66.315, 76.9077. (156, 148). "
   ]
  },
  {
   "cell_type": "markdown",
   "metadata": {},
   "source": [
    "to locate a gridcell in the calm DataFrame"
   ]
  },
  {
   "cell_type": "code",
   "execution_count": 94,
   "metadata": {
    "collapsed": true
   },
   "outputs": [],
   "source": [
    "# calm.loc[calm['nj'] == 59]\n",
    "# print that row: \n",
    "calm.ix[94]\n",
    "# to print range of rows: \n",
    "# calm[80:82]"
   ]
  },
  {
   "cell_type": "code",
   "execution_count": 18,
   "metadata": {},
   "outputs": [
    {
     "data": {
      "text/plain": [
       "<matplotlib.collections.QuadMesh at 0x2ab69936dcf8>"
      ]
     },
     "execution_count": 18,
     "metadata": {},
     "output_type": "execute_result"
    },
    {
     "data": {
      "image/png": "[encoded data removed]",
      "text/plain": [
       "<matplotlib.figure.Figure at 0x2ab69912b320>"
      ]
     },
     "metadata": {},
     "output_type": "display_data"
    }
   ],
   "source": [
    "calm_params.avg_T.where(calm_domain.mask == 1).plot()"
   ]
  },
  {
   "cell_type": "code",
   "execution_count": 19,
   "metadata": {},
   "outputs": [
    {
     "data": {
      "text/plain": [
       "<matplotlib.collections.QuadMesh at 0x2ab699605c18>"
      ]
     },
     "execution_count": 19,
     "metadata": {},
     "output_type": "execute_result"
    },
    {
     "data": {
      "image/png": "[encoded data removed]",
      "text/plain": [
       "<matplotlib.figure.Figure at 0x2ab698cc6ac8>"
      ]
     },
     "metadata": {},
     "output_type": "display_data"
    }
   ],
   "source": [
    "calm_domain.mask.plot()"
   ]
  },
  {
   "cell_type": "code",
   "execution_count": null,
   "metadata": {
    "collapsed": true
   },
   "outputs": [],
   "source": []
  }
 ],
 "metadata": {
  "kernelspec": {
   "display_name": "Python 3",
   "language": "python",
   "name": "python3"
  },
  "language_info": {
   "codemirror_mode": {
    "name": "ipython",
    "version": 3
   },
   "file_extension": ".py",
   "mimetype": "text/x-python",
   "name": "python",
   "nbconvert_exporter": "python",
   "pygments_lexer": "ipython3",
   "version": "3.5.4"
  }
 },
 "nbformat": 4,
 "nbformat_minor": 2
}
