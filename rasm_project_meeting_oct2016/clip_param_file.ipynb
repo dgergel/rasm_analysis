{
 "cells": [
  {
   "cell_type": "code",
   "execution_count": 1,
   "metadata": {
    "collapsed": true
   },
   "outputs": [],
   "source": [
    "%matplotlib inline\n",
    "import xarray as xr\n",
    "import numpy as np\n",
    "import os"
   ]
  },
  {
   "cell_type": "code",
   "execution_count": 2,
   "metadata": {
    "collapsed": false
   },
   "outputs": [],
   "source": [
    "params_file = 'vic_params_wr50a_vic5.0.dev_20160328.nc'\n",
    "direc = os.getcwd()\n",
    "params = xr.open_dataset(os.path.join(direc, 'rasm_data_atm','imagemode_rasmri_historyfiles', params_file))"
   ]
  },
  {
   "cell_type": "code",
   "execution_count": 3,
   "metadata": {
    "collapsed": false
   },
   "outputs": [
    {
     "data": {
      "text/plain": [
       "<xarray.DataArray 'Cv' (veg_class: 12)>\n",
       "array([ 0.  ,  0.  ,  0.  ,  0.  ,  0.  ,  0.  ,  0.  ,  0.  ,  0.45,  0.  ,\n",
       "        0.  ,  0.55])\n",
       "Coordinates:\n",
       "    yc         float64 64.9\n",
       "    xc         float64 -72.92\n",
       "  * veg_class  (veg_class) int32 1 2 3 4 5 6 7 8 9 10 11 12\n",
       "Attributes:\n",
       "    long_name: Cv\n",
       "    units: fraction\n",
       "    description: Fraction of grid cell covered by vegetation tile"
      ]
     },
     "execution_count": 3,
     "metadata": {},
     "output_type": "execute_result"
    }
   ],
   "source": [
    "params.Cv[:, 61, 195]"
   ]
  },
  {
   "cell_type": "code",
   "execution_count": 4,
   "metadata": {
    "collapsed": false
   },
   "outputs": [
    {
     "data": {
      "text/plain": [
       "<xarray.DataArray 'Cv' (veg_class: 12)>\n",
       "array([ 0.   ,  0.   ,  0.   ,  0.   ,  0.   ,  0.   ,  0.027,  0.182,  0.779,\n",
       "        0.   ,  0.   ,  0.012])\n",
       "Coordinates:\n",
       "    yc         float64 59.92\n",
       "    xc         float64 170.0\n",
       "  * veg_class  (veg_class) int32 1 2 3 4 5 6 7 8 9 10 11 12\n",
       "Attributes:\n",
       "    long_name: Cv\n",
       "    units: fraction\n",
       "    description: Fraction of grid cell covered by vegetation tile"
      ]
     },
     "execution_count": 4,
     "metadata": {},
     "output_type": "execute_result"
    }
   ],
   "source": [
    "params.Cv[:, 87, 92]"
   ]
  },
  {
   "cell_type": "code",
   "execution_count": 5,
   "metadata": {
    "collapsed": false
   },
   "outputs": [
    {
     "data": {
      "text/plain": [
       "<xarray.DataArray 'Cv' (veg_class: 12)>\n",
       "array([ 0.   ,  0.   ,  0.   ,  0.   ,  0.   ,  0.   ,  0.027,  0.182,  0.779,\n",
       "        0.   ,  0.   ,  0.012])\n",
       "Coordinates:\n",
       "    yc         float64 60.33\n",
       "    xc         float64 170.2\n",
       "  * veg_class  (veg_class) int32 1 2 3 4 5 6 7 8 9 10 11 12\n",
       "Attributes:\n",
       "    long_name: Cv\n",
       "    units: fraction\n",
       "    description: Fraction of grid cell covered by vegetation tile"
      ]
     },
     "execution_count": 5,
     "metadata": {},
     "output_type": "execute_result"
    }
   ],
   "source": [
    "params.Cv[:, 87, 93]"
   ]
  },
  {
   "cell_type": "code",
   "execution_count": 8,
   "metadata": {
    "collapsed": false
   },
   "outputs": [
    {
     "data": {
      "text/plain": [
       "<xarray.DataArray 'Cv' (veg_class: 12)>\n",
       "array([ 0.      ,  0.      ,  0.      ,  0.      ,  0.      ,  0.      ,\n",
       "        0.030969,  0.370629,  0.217782,  0.380619,  0.      ,  0.      ])\n",
       "Coordinates:\n",
       "    yc         float64 61.15\n",
       "    xc         float64 170.7\n",
       "  * veg_class  (veg_class) int32 1 2 3 4 5 6 7 8 9 10 11 12\n",
       "Attributes:\n",
       "    long_name: Cv\n",
       "    units: fraction\n",
       "    description: Fraction of grid cell covered by vegetation tile"
      ]
     },
     "execution_count": 8,
     "metadata": {},
     "output_type": "execute_result"
    }
   ],
   "source": [
    "params.Cv[:, 87, 95]"
   ]
  },
  {
   "cell_type": "code",
   "execution_count": 11,
   "metadata": {
    "collapsed": false
   },
   "outputs": [
    {
     "data": {
      "text/plain": [
       "<xarray.DataArray 'Cv' (veg_class: 12)>\n",
       "array([ 0.   ,  0.   ,  0.   ,  0.   ,  0.   ,  0.   ,  0.027,  0.182,  0.779,\n",
       "        0.   ,  0.   ,  0.012])\n",
       "Coordinates:\n",
       "    yc         float64 60.22\n",
       "    xc         float64 171.0\n",
       "  * veg_class  (veg_class) int32 1 2 3 4 5 6 7 8 9 10 11 12\n",
       "Attributes:\n",
       "    long_name: Cv\n",
       "    units: fraction\n",
       "    description: Fraction of grid cell covered by vegetation tile"
      ]
     },
     "execution_count": 11,
     "metadata": {},
     "output_type": "execute_result"
    }
   ],
   "source": [
    "params.Cv[:, 86, 93]"
   ]
  },
  {
   "cell_type": "code",
   "execution_count": 29,
   "metadata": {
    "collapsed": true
   },
   "outputs": [],
   "source": [
    "# ds.isel(space=[0], time=[0])\n",
    "params_gridcell = params.isel(ni=[195], nj=[61])\n",
    "params_gridcell2 = params.isel(ni=92, nj=87)"
   ]
  },
  {
   "cell_type": "code",
   "execution_count": 30,
   "metadata": {
    "collapsed": false
   },
   "outputs": [
    {
     "data": {
      "text/plain": [
       "<xarray.Dataset>\n",
       "Dimensions:       (month: 12, nlayer: 3, nv4: 4, root_zone: 2, veg_class: 12)\n",
       "Coordinates:\n",
       "    yc            float64 59.92\n",
       "    xc            float64 170.0\n",
       "  * veg_class     (veg_class) int32 1 2 3 4 5 6 7 8 9 10 11 12\n",
       "  * month         (month) int32 1 2 3 4 5 6 7 8 9 10 11 12\n",
       "  * root_zone     (root_zone) int32 1 2\n",
       "Dimensions without coordinates: nlayer, nv4\n",
       "Data variables:\n",
       "    xv            (nv4) float64 286.8 168.9 138.7 63.99\n",
       "    yv            (nv4) float64 43.19 32.45 58.79 58.2\n",
       "    mask          int32 1\n",
       "    layer         (nlayer) float64 1.0 2.0 3.0\n",
       "    run_cell      float64 1.0\n",
       "    gridcell      float64 2.402e+04\n",
       "    lats          float64 59.92\n",
       "    lons          float64 170.0\n",
       "    infilt        float64 0.35\n",
       "    Ds            float64 0.0538\n",
       "    Dsmax         float64 0.0\n",
       "    Ws            float64 14.6\n",
       "    c             float64 1.258\n",
       "    expt          (nlayer) float64 6.24 6.24 9.09\n",
       "    Ksat          (nlayer) float64 903.8 903.8 1.275e+03\n",
       "    phi_s         (nlayer) float64 -9.999e+03 -9.999e+03 -9.999e+03\n",
       "    init_moist    (nlayer) float64 126.6 199.4 90.0\n",
       "    elev          float64 19.73\n",
       "    depth         (nlayer) float64 0.3 0.5 0.2257\n",
       "    avg_T         float64 -5.304\n",
       "    dp            float64 4.0\n",
       "    bubble        (nlayer) float64 12.32 14.24 14.24\n",
       "    quartz        (nlayer) float64 0.569 0.551 0.551\n",
       "    bulk_density  (nlayer) float64 1.293e+03 1.504e+03 1.504e+03\n",
       "    soil_density  (nlayer) float64 2.435e+03 2.7e+03 2.7e+03\n",
       "    off_gmt       timedelta64[ns] 11:20:03.480000\n",
       "    Wcr_FRACT     (nlayer) float64 0.381 0.403 0.403\n",
       "    Wpwp_FRACT    (nlayer) float64 0.213 0.225 0.225\n",
       "    rough         float64 0.001\n",
       "    snow_rough    float64 0.0005\n",
       "    annual_prec   float64 737.8\n",
       "    resid_moist   (nlayer) float64 0.0988 0.0986 0.0986\n",
       "    fs_active     float64 1.0\n",
       "    veg_descr     (veg_class) object 'Evergreen Needleleaf' ...\n",
       "    Nveg          float64 3.0\n",
       "    Cv            (veg_class) float64 0.0 0.0 0.0 0.0 0.0 0.0 0.027 0.182 ...\n",
       "    root_depth    (veg_class, root_zone) float64 0.0 0.0 0.0 0.0 0.0 0.0 0.0 ...\n",
       "    root_fract    (veg_class, root_zone) float64 0.0 0.0 0.0 0.0 0.0 0.0 0.0 ...\n",
       "    LAI           (veg_class, month) float64 0.0 0.0 0.0 0.0 0.0 0.0 0.0 0.0 ...\n",
       "    overstory     (veg_class) float64 1.0 1.0 1.0 1.0 1.0 1.0 0.0 0.0 0.0 ...\n",
       "    rarc          (veg_class) float64 60.0 60.0 60.0 60.0 60.0 60.0 40.0 ...\n",
       "    rmin          (veg_class) float64 150.0 150.0 150.0 150.0 140.0 125.0 ...\n",
       "    wind_h        (veg_class) float64 50.0 50.0 50.0 50.0 50.0 50.0 5.0 5.0 ...\n",
       "    RGL           (veg_class) float64 30.0 30.0 30.0 30.0 50.0 50.0 75.0 ...\n",
       "    rad_atten     (veg_class) float64 0.5 0.5 0.5 0.5 0.5 0.5 0.5 0.5 0.5 ...\n",
       "    wind_atten    (veg_class) float64 0.5 0.5 0.5 0.5 0.5 0.5 0.5 0.5 0.5 ...\n",
       "    trunk_ratio   (veg_class) float64 0.2 0.2 0.2 0.2 0.2 0.2 0.2 0.2 0.2 ...\n",
       "    albedo        (veg_class, month) float64 0.12 0.12 0.12 0.12 0.12 0.12 ...\n",
       "    veg_rough     (veg_class, month) float64 1.476 1.476 1.476 1.476 1.476 ...\n",
       "    displacement  (veg_class, month) float64 8.04 8.04 8.04 8.04 8.04 8.04 ...\n",
       "Attributes:\n",
       "    description: VIC parameter file\n",
       "    history: Created: Mon Mar 28 14:36:19 2016\n",
       "/Users/jhamman/anaconda/lib/python3.4/site-packages/ipykernel/__main__.py -f /Users/jhamman/Library/Jupyter/runtime/kernel-09c6898b-b96e-45c9-bf0c-018b80f54237.json\n",
       "\n",
       "    source: /Users/jhamman/anaconda/lib/python3.4/site-packages/ipykernel/__main__.py\n",
       "    username: jhamman\n",
       "    host: Joes-iMac.local"
      ]
     },
     "execution_count": 30,
     "metadata": {},
     "output_type": "execute_result"
    }
   ],
   "source": [
    "params_gridcell2"
   ]
  },
  {
   "cell_type": "code",
   "execution_count": 31,
   "metadata": {
    "collapsed": false
   },
   "outputs": [],
   "source": [
    "params_gridcell.Cv\n",
    "params_gridcell.to_netcdf('params_64.9_-72.92.nc')\n",
    "params_gridcell2.to_netcdf('params_59.9_170.01.nc')"
   ]
  },
  {
   "cell_type": "code",
   "execution_count": 17,
   "metadata": {
    "collapsed": false
   },
   "outputs": [
    {
     "data": {
      "text/plain": [
       "<xarray.DataArray 'Cv' (veg_class: 12, nj: 1, ni: 1)>\n",
       "array([[[ 0.  ]],\n",
       "\n",
       "       [[ 0.  ]],\n",
       "\n",
       "       [[ 0.  ]],\n",
       "\n",
       "       [[ 0.  ]],\n",
       "\n",
       "       [[ 0.  ]],\n",
       "\n",
       "       [[ 0.  ]],\n",
       "\n",
       "       [[ 0.  ]],\n",
       "\n",
       "       [[ 0.  ]],\n",
       "\n",
       "       [[ 0.45]],\n",
       "\n",
       "       [[ 0.  ]],\n",
       "\n",
       "       [[ 0.  ]],\n",
       "\n",
       "       [[ 0.55]]])\n",
       "Coordinates:\n",
       "    yc         (nj, ni) float64 64.9\n",
       "    xc         (nj, ni) float64 -72.92\n",
       "  * veg_class  (veg_class) int32 1 2 3 4 5 6 7 8 9 10 11 12\n",
       "Dimensions without coordinates: nj, ni\n",
       "Attributes:\n",
       "    long_name: Cv\n",
       "    units: fraction\n",
       "    description: Fraction of grid cell covered by vegetation tile"
      ]
     },
     "execution_count": 17,
     "metadata": {},
     "output_type": "execute_result"
    }
   ],
   "source": [
    "params_gridcell.Cv"
   ]
  },
  {
   "cell_type": "code",
   "execution_count": 3,
   "metadata": {
    "collapsed": false
   },
   "outputs": [
    {
     "data": {
      "text/plain": [
       "<xarray.DataArray 'xc' ()>\n",
       "array(-72.916839034764)\n",
       "Coordinates:\n",
       "    yc       float64 64.9\n",
       "    xc       float64 -72.92\n",
       "Attributes:\n",
       "    units: degrees_east"
      ]
     },
     "execution_count": 3,
     "metadata": {},
     "output_type": "execute_result"
    }
   ],
   "source": [
    "params.xc[61,195]"
   ]
  },
  {
   "cell_type": "code",
   "execution_count": 4,
   "metadata": {
    "collapsed": false
   },
   "outputs": [
    {
     "data": {
      "text/plain": [
       "<xarray.DataArray 'yc' ()>\n",
       "array(64.89653727804506)\n",
       "Coordinates:\n",
       "    yc       float64 64.9\n",
       "    xc       float64 -72.92\n",
       "Attributes:\n",
       "    units: degrees_north"
      ]
     },
     "execution_count": 4,
     "metadata": {},
     "output_type": "execute_result"
    }
   ],
   "source": [
    "params.yc[61,195]"
   ]
  },
  {
   "cell_type": "code",
   "execution_count": 5,
   "metadata": {
    "collapsed": false
   },
   "outputs": [],
   "source": [
    "params_mod = params\n",
    "params_mod['run_cell'].values[params_mod['run_cell'].values == 1] = 0"
   ]
  },
  {
   "cell_type": "code",
   "execution_count": 6,
   "metadata": {
    "collapsed": false
   },
   "outputs": [
    {
     "data": {
      "text/plain": [
       "<matplotlib.collections.QuadMesh at 0x10f931ba8>"
      ]
     },
     "execution_count": 6,
     "metadata": {},
     "output_type": "execute_result"
    },
    {
     "data": {
      "image/png": "[encoded data removed]",
      "text/plain": [
       "<matplotlib.figure.Figure at 0x10b93fef0>"
      ]
     },
     "metadata": {},
     "output_type": "display_data"
    }
   ],
   "source": [
    "params_mod.run_cell.values[195,61] = 1\n",
    "params_mod.run_cell.where(params_mod.run_cell > 0).plot()\n"
   ]
  },
  {
   "cell_type": "code",
   "execution_count": 7,
   "metadata": {
    "collapsed": false
   },
   "outputs": [
    {
     "data": {
      "text/plain": [
       "<xarray.DataArray 'run_cell' ()>\n",
       "array(1.0)"
      ]
     },
     "execution_count": 7,
     "metadata": {},
     "output_type": "execute_result"
    }
   ],
   "source": [
    "params_mod.run_cell.sum()"
   ]
  },
  {
   "cell_type": "code",
   "execution_count": 8,
   "metadata": {
    "collapsed": false
   },
   "outputs": [],
   "source": [
    "params_mod.to_netcdf('vic_params_wr50a_vic5.0.1gridcell_64.9_-72.92.03092017.nc', format='NETCDF4')"
   ]
  },
  {
   "cell_type": "code",
   "execution_count": null,
   "metadata": {
    "collapsed": true
   },
   "outputs": [],
   "source": []
  }
 ],
 "metadata": {
  "kernelspec": {
   "display_name": "Python 3",
   "language": "python",
   "name": "python3"
  },
  "language_info": {
   "codemirror_mode": {
    "name": "ipython",
    "version": 3
   },
   "file_extension": ".py",
   "mimetype": "text/x-python",
   "name": "python",
   "nbconvert_exporter": "python",
   "pygments_lexer": "ipython3",
   "version": "3.5.0rc4"
  }
 },
 "nbformat": 4,
 "nbformat_minor": 0
}
