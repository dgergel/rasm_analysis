{
 "cells": [
  {
   "cell_type": "code",
   "execution_count": 1,
   "metadata": {
    "collapsed": true
   },
   "outputs": [],
   "source": [
    "%matplotlib inline\n",
    "import os\n",
    "import numpy as np\n",
    "import pandas as pd\n",
    "import xarray as xr\n",
    "import re\n",
    "import matplotlib.pyplot as plt"
   ]
  },
  {
   "cell_type": "code",
   "execution_count": 2,
   "metadata": {
    "collapsed": false
   },
   "outputs": [],
   "source": [
    "workdir = '/Users/diana/Dropbox/UW/Research/rasm'\n",
    "calm_metadata = 'CALM_Summary_table_latslons.csv'\n",
    "\n",
    "# read in data\n",
    "calm = pd.read_csv(os.path.join(workdir, 'calm', calm_metadata), \n",
    "                   delimiter=',',\n",
    "                   header=0,\n",
    "                   error_bad_lines=False,\n",
    "                   nrows=236,\n",
    "                   encoding='ISO-8859-1')\n",
    "\n",
    "# rename columns \n",
    "calm.rename(index=str, columns={\"LAT\": \"lat\", \"LONG\": \"lng\"}, inplace=True)"
   ]
  },
  {
   "cell_type": "markdown",
   "metadata": {},
   "source": [
    "those string parsing functions don't work for the heterogeneity of this data, write my own, with help from this site: http://en.proft.me/2015/09/20/converting-latitude-and-longitude-decimal-values-p/)"
   ]
  },
  {
   "cell_type": "code",
   "execution_count": 3,
   "metadata": {
    "collapsed": false
   },
   "outputs": [],
   "source": [
    "def parse_calm_lat_or_lon(x):\n",
    "    '''takes in lat or lon from CALM data and produces list of degree, minutes, seconds\n",
    "    or decimal. If element is a decimal, returns decimal as a float. If not decimal, \n",
    "    or decimal with direction, it returns a decimal without the direction as a float'''\n",
    "    # symbols to parse by\n",
    "    upside_down_exc = '¡'\n",
    "    degree_sign= u'\\N{DEGREE SIGN}'\n",
    "    single_quote = \"'\"\n",
    "    double_quote = '''\"'''\n",
    "    space = \" \"\n",
    "    comma = \",\"\n",
    "    v = 'v'\n",
    "    zero_aigu = calm['lat'][70][8]\n",
    "    # combine all symbols into one reg ex\n",
    "    split_on = '%s|\\s|%s|%s|%s|%s|%s|%s|%s|' % (upside_down_exc, degree_sign, single_quote, \n",
    "                                             double_quote, space, comma, v, zero_aigu)\n",
    "    # parse lat or lon with reg ex \n",
    "    splitt = re.split(split_on, x)\n",
    "\n",
    "    # remove comma and v characters from strings in parsed list \n",
    "    chars_to_remove = [',' 'v']\n",
    "    for char_to_remove in chars_to_remove:\n",
    "        if char_to_remove in splitt: \n",
    "            splitt.remove(char_to_remove)\n",
    "            \n",
    "    # remove empty strings from parsed list \n",
    "    parsed_list = list(filter(None, splitt))\n",
    "\n",
    "    # 4 cases \n",
    "    if len(parsed_list) == 1:\n",
    "        # decimal so leave as is but convert to float\n",
    "        return(float(parsed_list[0]))\n",
    "    elif len(parsed_list) == 2: \n",
    "        # decimal with direction, remove direction, return first element as float\n",
    "        # with the correct sign \n",
    "        direction = parsed_list[1]\n",
    "        if direction == \"S\" or direction == \"W\": \n",
    "            return(float(parsed_list[0]) *-1)\n",
    "        else: \n",
    "            return(float(parsed_list[0]))\n",
    "    else:\n",
    "        # degree, min, sec OR min, sec; convert to decimal. \n",
    "        if len(parsed_list) == 3:\n",
    "            # case with no minutes\n",
    "            dd = float(parsed_list[0]) + float(parsed_list[1])/60.0\n",
    "            direction = parsed_list[2]\n",
    "        elif len(parsed_list) == 4:\n",
    "            # case where minutes are included\n",
    "            '''print(parsed_list[2])\n",
    "            print(type(parsed_list[2][2][0]))'''\n",
    "            dd = (float(parsed_list[0]) + float(parsed_list[1])/60.0 \n",
    "                  + float(parsed_list[2])/(60.0*60.0))\n",
    "            direction = parsed_list[3]\n",
    "        if direction == \"S\" or direction == \"W\":\n",
    "            dd *= -1\n",
    "        return(dd)"
   ]
  },
  {
   "cell_type": "markdown",
   "metadata": {},
   "source": [
    "convert lats/lons from degree minute second to decimal format"
   ]
  },
  {
   "cell_type": "code",
   "execution_count": 4,
   "metadata": {
    "collapsed": false
   },
   "outputs": [
    {
     "name": "stderr",
     "output_type": "stream",
     "text": [
      "//anaconda/envs/vic_test_env/lib/python3.5/re.py:203: FutureWarning: split() requires a non-empty pattern match.\n",
      "  return _compile(pattern, flags).split(string, maxsplit)\n"
     ]
    }
   ],
   "source": [
    "calm['lat_dec'] = calm['lat'].apply(parse_calm_lat_or_lon)\n",
    "calm['lng_dec'] = calm['lng'].apply(parse_calm_lat_or_lon)"
   ]
  },
  {
   "cell_type": "markdown",
   "metadata": {},
   "source": [
    "convert longitude from -180 to 180 to 0 to 360"
   ]
  },
  {
   "cell_type": "code",
   "execution_count": 5,
   "metadata": {
    "collapsed": true
   },
   "outputs": [],
   "source": [
    "def convert_longitude_0_360(longitude):\n",
    "    ''' takes in longitude between -180 to 180 and converts it to the 0 to 360 longitude'''\n",
    "    lng = np.mod(longitude, 360)\n",
    "    return lng "
   ]
  },
  {
   "cell_type": "code",
   "execution_count": 6,
   "metadata": {
    "collapsed": true
   },
   "outputs": [],
   "source": [
    "# add column to DataFrame with longitudes from 0 to 360\n",
    "calm['lng_dec_360'] = calm['lng_dec'].apply(convert_longitude_0_360)"
   ]
  },
  {
   "cell_type": "markdown",
   "metadata": {},
   "source": [
    "figure out which RASM domain grid cell the lats/lons are in"
   ]
  },
  {
   "cell_type": "code",
   "execution_count": 7,
   "metadata": {
    "collapsed": false
   },
   "outputs": [],
   "source": [
    "# load domain file \n",
    "domain_file = xr.open_dataset(os.path.join('/Users/diana/Dropbox/UW/Research/rasm',\n",
    "                                          'domain.lnd.wr50a_ar9v4.130607.nc'))\n",
    "u = calm['lat_dec'][0]\n",
    "z = calm['lng_dec'][0]\n",
    "zz = calm['lng_dec_360'][0]\n",
    "\n",
    "# make a copy to mask out all grid cells and fill in the ones I want to run\n",
    "domain_file_masked = xr.open_dataset(os.path.join('/Users/diana/Dropbox/UW/Research/rasm',\n",
    "                                          'domain.lnd.wr50a_ar9v4.130607.nc'))"
   ]
  },
  {
   "cell_type": "code",
   "execution_count": 8,
   "metadata": {
    "collapsed": false,
    "scrolled": true
   },
   "outputs": [],
   "source": [
    "def find_xc_yc_domain_file(lat_dec, lng_dec, domain_file):\n",
    "    '''takes in lat, lng (in 0-360 format), and domain file (as xarray dataset) for a \n",
    "    CALM observation site and finds xc and yc coordinates of the grid cell in the domain file \n",
    "    that the observation site is in'''\n",
    "    min_yc = np.abs(domain_file.yc.values[0,0] - lat_dec)\n",
    "    min_xc = np.abs(domain_file.xc.values[0,0] - lng_dec)\n",
    "    ni_ind = 0\n",
    "    nj_ind = 0\n",
    "\n",
    "    for i in range(0, domain_file.ni.values.max()):\n",
    "        for j in range(0, domain_file.nj.values.max()):\n",
    "            if (np.abs(domain_file.yc.values[j,i] - lat_dec) <= min_yc) and \\\n",
    "                (np.abs(domain_file.xc.values[j,i] - lng_dec) <= min_xc):\n",
    "                min_yc = np.abs(domain_file.yc.values[j,i] - u)\n",
    "                min_xc = np.abs(domain_file.xc.values[j,i] - zz)\n",
    "                ni_ind = i\n",
    "                nj_ind = j\n",
    "\n",
    "    njj_ind = np.argmin(np.abs(domain_file.yc.values[:,ni_ind] - lat_dec))\n",
    "\n",
    "    return (domain_file.yc.values[njj_ind, ni_ind], domain_file.xc.values[nj_ind, ni_ind])"
   ]
  },
  {
   "cell_type": "code",
   "execution_count": 9,
   "metadata": {
    "collapsed": true
   },
   "outputs": [],
   "source": [
    "def make_domainfile_gridcell_active(latt, lngg, atol):\n",
    "    gridcell_flag = None\n",
    "    for nj in range(0, domain_file_masked.mask.nj.values[-1]):\n",
    "        for ni in range(0, domain_file_masked.mask.ni.values[-1]):\n",
    "            if (np.isclose(domain_file_masked.mask[nj, ni].xc, lngg, atol=atol)) and (np.isclose(domain_file_masked.mask[nj, ni].yc, latt, atol=atol)):\n",
    "                # gridcell_flag is a flag to determine whether there is a domain file gridcell for \n",
    "                # the observation site in question\n",
    "                gridcell_flag = True\n",
    "                # assign gridcell indices\n",
    "                nj_ind = nj\n",
    "                ni_ind = ni\n",
    "            \n",
    "    if gridcell_flag:\n",
    "        return (nj_ind, ni_ind, gridcell_flag)\n",
    "    else: \n",
    "        # assign junk values\n",
    "        nj_ind = 0\n",
    "        ni_ind = 0\n",
    "        print(\"this pair didn't have a home: latt is %f, lngg is %f\" % (latt, lngg))\n",
    "        return (nj_ind, ni_ind, gridcell_flag)"
   ]
  },
  {
   "cell_type": "markdown",
   "metadata": {},
   "source": [
    "mask out all of the gridcells in the domain file and make a copy of that new dataset"
   ]
  },
  {
   "cell_type": "code",
   "execution_count": 10,
   "metadata": {
    "collapsed": false
   },
   "outputs": [],
   "source": [
    "# mask out all grid cells\n",
    "domain_file_masked.mask[:,:] = 0"
   ]
  },
  {
   "cell_type": "markdown",
   "metadata": {},
   "source": [
    "find grid cell that observation site is in and make mask value for that gridcell equal to 1 in domain_file_masked"
   ]
  },
  {
   "cell_type": "code",
   "execution_count": 11,
   "metadata": {
    "collapsed": false
   },
   "outputs": [],
   "source": [
    "# loop over grid cells and make them all active in the domain file mask \n",
    "count = 0\n",
    "\n",
    "# save points in lists\n",
    "nj_inds = []\n",
    "ni_inds = []\n",
    "points = []\n",
    "for ind in range(0, len(calm['lat_dec'])):\n",
    "\n",
    "    # find minimum distance between observation site and all gridcells \n",
    "    min_arg = (((domain_file_masked.xc - calm['lng_dec_360'][ind])**2) + \n",
    "               ((domain_file_masked.yc - calm['lat_dec'][ind])**2)).argmin()\n",
    "    \n",
    "    # get index of that grid cell so that it can be ran\n",
    "    nj_ind, ni_ind = np.unravel_index(min_arg, domain_file_masked.xc.shape)           \n",
    "    \n",
    "    domain_file_masked.mask[nj_ind, ni_ind] = 1\n",
    "    \n",
    "    nj_inds = np.append(nj_inds, nj_ind)\n",
    "    ni_inds = np.append(ni_inds, ni_ind)\n",
    "    points = np.append(points, 1)\n",
    "    \n",
    "    count += 1"
   ]
  },
  {
   "cell_type": "code",
   "execution_count": 12,
   "metadata": {
    "collapsed": false
   },
   "outputs": [],
   "source": [
    "domain_file_masked.to_netcdf('calm_domain_file.nc')"
   ]
  },
  {
   "cell_type": "code",
   "execution_count": 13,
   "metadata": {
    "collapsed": false
   },
   "outputs": [
    {
     "data": {
      "text/plain": [
       "<xarray.DataArray 'mask' ()>\n",
       "array(149)"
      ]
     },
     "execution_count": 13,
     "metadata": {},
     "output_type": "execute_result"
    }
   ],
   "source": [
    "u = xr.open_dataset('calm_domain_file.nc')\n",
    "u.mask.sum()"
   ]
  },
  {
   "cell_type": "code",
   "execution_count": 14,
   "metadata": {
    "collapsed": false
   },
   "outputs": [],
   "source": [
    "params = xr.open_dataset('vic_params_wr50a_vic5.0.dev_20160328.nc')\n",
    "params['run_cell'] = params.run_cell.where(domain_file_masked.mask == 1)\n",
    "params.to_netcdf('params_calm_sites_11282016.nc')\n",
    "u['mask'].values[:,:] = 0\n",
    "u['mask'].values[params.run_cell.values == 1] = 1\n",
    "u['mask'].values = u['mask'].values.astype(np.int32)\n",
    "u.to_netcdf('calm_domain_file_adj_11282016.nc')"
   ]
  },
  {
   "cell_type": "code",
   "execution_count": 66,
   "metadata": {
    "collapsed": false,
    "scrolled": true
   },
   "outputs": [
    {
     "data": {
      "image/png": "[encoded data removed]",
      "text/plain": [
       "<matplotlib.figure.Figure at 0x10fef1320>"
      ]
     },
     "metadata": {},
     "output_type": "display_data"
    }
   ],
   "source": [
    "plt.figure(figsize=(8,6))\n",
    "dpi = 200\n",
    "domain_file.mask.plot(cmap=plt.cm.gist_ncar, add_colorbar=False, add_labels=False)\n",
    "# domain_file_masked.mask.where(domain_file_masked.mask.values == 1).plot(cmap=plt.cm.Reds)\n",
    "\n",
    "img = plt.scatter(ni_inds, nj_inds, \n",
    "                  c=points, \n",
    "                  color='r', \n",
    "                  s=80,\n",
    "                  marker='*', \n",
    "                  alpha=0.7,\n",
    "                  vmin=1,\n",
    "                  vmax=1,\n",
    "                  facecolors='none', \n",
    "                  edgecolors='orange', \n",
    "                  zorder=20,\n",
    "                  linewidth=2.0)\n",
    "\n",
    "plotname = 'calm_obs_site_coverage.png'\n",
    "savepath = os.path.join(workdir, plotname)\n",
    "plt.savefig(savepath, format='png', dpi=dpi, bbox_inches='tight')"
   ]
  },
  {
   "cell_type": "code",
   "execution_count": 31,
   "metadata": {
    "collapsed": false
   },
   "outputs": [
    {
     "data": {
      "text/plain": [
       "array([ 1.,  1.,  1.,  1.,  1.,  1.,  1.,  1.,  1.,  1.,  1.,  1.,  1.,\n",
       "        1.,  1.,  1.,  1.,  1.,  1.,  1.,  1.,  1.,  1.,  1.,  1.,  1.,\n",
       "        1.,  1.,  1.,  1.,  1.,  1.,  1.,  1.,  1.,  1.,  1.,  1.,  1.,\n",
       "        1.,  1.,  1.,  1.,  1.,  1.,  1.,  1.,  1.,  1.,  1.,  1.,  1.,\n",
       "        1.,  1.,  1.,  1.,  1.,  1.,  1.,  1.,  1.,  1.,  1.,  1.,  1.,\n",
       "        1.,  1.,  1.,  1.,  1.,  1.,  1.,  1.,  1.,  1.,  1.,  1.,  1.,\n",
       "        1.,  1.,  1.,  1.,  1.,  1.,  1.,  1.,  1.,  1.,  1.,  1.,  1.,\n",
       "        1.,  1.,  1.,  1.,  1.,  1.,  1.,  1.,  1.,  1.,  1.,  1.,  1.,\n",
       "        1.,  1.,  1.,  1.,  1.,  1.,  1.,  1.,  1.,  1.,  1.,  1.,  1.,\n",
       "        1.,  1.,  1.,  1.,  1.,  1.,  1.,  1.,  1.,  1.,  1.,  1.,  1.,\n",
       "        1.,  1.,  1.,  1.,  1.,  1.,  1.,  1.,  1.,  1.,  1.,  1.,  1.,\n",
       "        1.,  1.,  1.,  1.,  1.,  1.,  1.,  1.,  1.,  1.,  1.,  1.,  1.,\n",
       "        1.,  1.,  1.,  1.,  1.,  1.,  1.,  1.,  1.,  1.,  1.,  1.,  1.,\n",
       "        1.,  1.,  1.,  1.,  1.,  1.,  1.,  1.,  1.,  1.,  1.,  1.,  1.,\n",
       "        1.,  1.,  1.,  1.,  1.,  1.,  1.,  1.,  1.,  1.,  1.,  1.,  1.,\n",
       "        1.,  1.,  1.,  1.,  1.,  1.,  1.,  1.,  1.,  1.,  1.,  1.,  1.,\n",
       "        1.,  1.,  1.,  1.,  1.,  1.,  1.,  1.,  1.,  1.,  1.,  1.,  1.,\n",
       "        1.,  1.,  1.,  1.,  1.,  1.,  1.,  1.,  1.,  1.,  1.,  1.,  1.,  1.])"
      ]
     },
     "execution_count": 31,
     "metadata": {},
     "output_type": "execute_result"
    }
   ],
   "source": [
    "points"
   ]
  },
  {
   "cell_type": "code",
   "execution_count": null,
   "metadata": {
    "collapsed": true
   },
   "outputs": [],
   "source": []
  }
 ],
 "metadata": {
  "kernelspec": {
   "display_name": "Python 3",
   "language": "python",
   "name": "python3"
  },
  "language_info": {
   "codemirror_mode": {
    "name": "ipython",
    "version": 3
   },
   "file_extension": ".py",
   "mimetype": "text/x-python",
   "name": "python",
   "nbconvert_exporter": "python",
   "pygments_lexer": "ipython3",
   "version": "3.5.0rc4"
  }
 },
 "nbformat": 4,
 "nbformat_minor": 0
}
