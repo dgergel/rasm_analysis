{
 "cells": [
  {
   "cell_type": "code",
   "execution_count": 1,
   "metadata": {
    "collapsed": true
   },
   "outputs": [],
   "source": [
    "%matplotlib inline\n",
    "import os\n",
    "import numpy as np\n",
    "import pandas as pd\n",
    "import xarray as xr\n",
    "import re\n",
    "import matplotlib.pyplot as plt"
   ]
  },
  {
   "cell_type": "code",
   "execution_count": 9,
   "metadata": {
    "collapsed": false
   },
   "outputs": [],
   "source": [
    "workdir = os.getcwd()\n",
    "node_file = 'node_depth.19780102_00000.nc'\n",
    "node_state = xr.open_dataset(os.path.join(workdir, node_file))\n",
    "domain_file = xr.open_dataset(os.path.join('/Users/diana/Dropbox/UW/Research/rasm',\n",
    "                                          'domain.lnd.wr50a_ar9v4.130607.nc'))"
   ]
  },
  {
   "cell_type": "code",
   "execution_count": 11,
   "metadata": {
    "collapsed": false
   },
   "outputs": [
    {
     "data": {
      "text/plain": [
       "<xarray.DataArray 'dz_node' (soil_node: 50)>\n",
       "array([ 0.033391  ,  0.03394854,  0.0350821 ,  0.03625351,  0.03746408,\n",
       "        0.03871506,  0.04000777,  0.04134363,  0.04272419,  0.04415083,\n",
       "        0.04562503,  0.04714853,  0.04872286,  0.05034971,  0.05203098,\n",
       "        0.05376834,  0.05556369,  0.05741906,  0.05933636,  0.06131762,\n",
       "        0.0633651 ,  0.06548095,  0.06766748,  0.06992686,  0.07226169,\n",
       "        0.07467473,  0.07716823,  0.07974494,  0.08240771,  0.0851593 ,\n",
       "        0.08800292,  0.09094143,  0.09397793,  0.09711611,  0.10035896,\n",
       "        0.10371006,  0.10717297,  0.11075151,  0.11444962,  0.11827135,\n",
       "        0.12222052,  0.12630153,  0.13051879,  0.1348772 ,  0.13938093,\n",
       "        0.14403486,  0.14884424,  0.15381432,  0.15895033,  0.16156006])\n",
       "Coordinates:\n",
       "    nj         int64 67\n",
       "    ni         int64 133\n",
       "  * soil_node  (soil_node) int64 0 1 2 3 4 5 6 7 8 9 10 11 12 13 14 15 16 17 ...\n",
       "Attributes:\n",
       "    long_name: dz_node\n",
       "    standard_name: soil_thermal_node_spacing\n",
       "    units: m"
      ]
     },
     "execution_count": 11,
     "metadata": {},
     "output_type": "execute_result"
    }
   ],
   "source": [
    "# find minimum distance between observation site and all gridcells \n",
    "lat = 70.166666666666671\n",
    "lng = 211.53333333333333\n",
    "min_arg = (((domain_file.xc - lng)**2) + \n",
    "           ((domain_file.yc - lat)**2)).argmin()\n",
    "\n",
    "# get index of that grid cell so that it can be ran\n",
    "nj_ind, ni_ind = np.unravel_index(min_arg, domain_file.xc.shape)\n",
    "\n",
    "node_state.dz_node[:, nj_ind, ni_ind]"
   ]
  },
  {
   "cell_type": "code",
   "execution_count": 56,
   "metadata": {
    "collapsed": false
   },
   "outputs": [],
   "source": [
    "workdir2 = '/Users/diana/Dropbox/UW/Research/rasm'\n",
    "calm_metadata = 'thaw_depths.csv'\n",
    "\n",
    "# read in data\n",
    "calm = pd.read_csv(os.path.join(workdir2, 'calm', calm_metadata), \n",
    "                   delimiter=',',\n",
    "                   header=None,\n",
    "                   error_bad_lines=False,\n",
    "                   nrows=236, \n",
    "                   encoding='ISO-8859-1')\n"
   ]
  },
  {
   "cell_type": "code",
   "execution_count": 60,
   "metadata": {
    "collapsed": false
   },
   "outputs": [
    {
     "data": {
      "text/plain": [
       "True"
      ]
     },
     "execution_count": 60,
     "metadata": {},
     "output_type": "execute_result"
    }
   ],
   "source": [
    "calm.iloc[0][2]"
   ]
  },
  {
   "cell_type": "code",
   "execution_count": null,
   "metadata": {
    "collapsed": true
   },
   "outputs": [],
   "source": []
  }
 ],
 "metadata": {
  "kernelspec": {
   "display_name": "Python 3",
   "language": "python",
   "name": "python3"
  },
  "language_info": {
   "codemirror_mode": {
    "name": "ipython",
    "version": 3
   },
   "file_extension": ".py",
   "mimetype": "text/x-python",
   "name": "python",
   "nbconvert_exporter": "python",
   "pygments_lexer": "ipython3",
   "version": "3.5.0rc4"
  }
 },
 "nbformat": 4,
 "nbformat_minor": 0
}
