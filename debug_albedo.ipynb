{
 "cells": [
  {
   "cell_type": "code",
   "execution_count": 1,
   "metadata": {
    "collapsed": true
   },
   "outputs": [],
   "source": [
    "%matplotlib inline\n",
    "import xarray as xr"
   ]
  },
  {
   "cell_type": "code",
   "execution_count": 2,
   "metadata": {
    "collapsed": true
   },
   "outputs": [],
   "source": [
    "sp1 = '/Users/diana/Dropbox/UW/Research/rasm/debug_albedo/system_test_output/system/System-restart_image_FullEnergy_FrozenSoil/state/19490101_19490105/states.19490106_00000.nc'\n",
    "sp2 = '/Users/diana/Dropbox/UW/Research/rasm/debug_albedo/system_test_output/system/System-restart_image_FullEnergy_FrozenSoil/state/19490106_19490110/states.19490111_00000.nc'\n",
    "sf = '/Users/diana/Dropbox/UW/Research/rasm/debug_albedo/system_test_output/system/System-restart_image_FullEnergy_FrozenSoil/state/19490101_19490110/states.19490111_00000.nc'"
   ]
  },
  {
   "cell_type": "code",
   "execution_count": 3,
   "metadata": {
    "collapsed": true
   },
   "outputs": [],
   "source": [
    "ds_sp1 = xr.open_dataset(sp1)\n",
    "ds_sp2 = xr.open_dataset(sp2)\n",
    "ds_sf = xr.open_dataset(sf)"
   ]
  },
  {
   "cell_type": "code",
   "execution_count": 4,
   "metadata": {
    "collapsed": false
   },
   "outputs": [
    {
     "data": {
      "text/plain": [
       "<xarray.DataArray 'STATE_AVG_ALBEDO' (lat: 4, lon: 5)>\n",
       "array([[ nan,   0.,   0.,   0.,  nan],\n",
       "       [  0.,   0.,   0.,   0.,   0.],\n",
       "       [  0.,   0.,   0.,   0.,   0.],\n",
       "       [ nan,   0.,   0.,   0.,  nan]])\n",
       "Coordinates:\n",
       "  * lon      (lon) float64 -121.1 -120.9 -120.8 -120.7 -120.6\n",
       "  * lat      (lat) float64 48.19 48.31 48.44 48.56\n",
       "Attributes:\n",
       "    long_name: state_avg_albedo\n",
       "    standard_name: state_gridcell_avg_albedo\n",
       "    units: fraction\n",
       "    description: gridcell averaged albedo"
      ]
     },
     "execution_count": 4,
     "metadata": {},
     "output_type": "execute_result"
    }
   ],
   "source": [
    "ds_sp1.STATE_AVG_ALBEDO"
   ]
  },
  {
   "cell_type": "code",
   "execution_count": 7,
   "metadata": {
    "collapsed": false
   },
   "outputs": [
    {
     "data": {
      "text/plain": [
       "<xarray.DataArray 'STATE_CANOPY_WATER' (snow_band: 1, lat: 4, lon: 5)>\n",
       "array([[[ nan,   0.,   0.,   0.,  nan],\n",
       "        [  0.,   0.,   0.,   0.,   0.],\n",
       "        [  0.,   0.,   0.,   0.,   0.],\n",
       "        [ nan,   0.,   0.,   0.,  nan]]])\n",
       "Coordinates:\n",
       "  * lon        (lon) float64 -121.1 -120.9 -120.8 -120.7 -120.6\n",
       "  * lat        (lat) float64 48.19 48.31 48.44 48.56\n",
       "    veg_class  int32 1\n",
       "  * snow_band  (snow_band) int32 0\n",
       "Attributes:\n",
       "    long_name: canopy_water\n",
       "    standard_name: water_in_canopy\n",
       "    units: mm\n",
       "    description: amount of water stored in the vegetation canopy"
      ]
     },
     "execution_count": 7,
     "metadata": {},
     "output_type": "execute_result"
    }
   ],
   "source": [
    "ds_sp1.STATE_CANOPY_WATER[0,:,:,:]"
   ]
  },
  {
   "cell_type": "code",
   "execution_count": null,
   "metadata": {
    "collapsed": true
   },
   "outputs": [],
   "source": []
  }
 ],
 "metadata": {
  "kernelspec": {
   "display_name": "Python 3",
   "language": "python",
   "name": "python3"
  },
  "language_info": {
   "codemirror_mode": {
    "name": "ipython",
    "version": 3
   },
   "file_extension": ".py",
   "mimetype": "text/x-python",
   "name": "python",
   "nbconvert_exporter": "python",
   "pygments_lexer": "ipython3",
   "version": "3.5.0rc4"
  }
 },
 "nbformat": 4,
 "nbformat_minor": 0
}
