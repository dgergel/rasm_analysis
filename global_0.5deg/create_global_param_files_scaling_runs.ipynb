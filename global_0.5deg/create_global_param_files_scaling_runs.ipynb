{
 "cells": [
  {
   "cell_type": "code",
   "execution_count": 1,
   "metadata": {
    "collapsed": true
   },
   "outputs": [],
   "source": [
    "# functions to use: replace_global_values from test_utils"
   ]
  },
  {
   "cell_type": "code",
   "execution_count": 22,
   "metadata": {
    "collapsed": false
   },
   "outputs": [],
   "source": [
    "from test_utils import (replace_global_values,\n",
    "                        setup_test_dirs,\n",
    "                        drop_tests,\n",
    "                        find_global_param_value,\n",
    "                        setup_subdirs_and_fill_in_global_param_driver_match_test)\n",
    "from tonic.io import read_config, read_configobj\n",
    "import os\n",
    "import sys\n",
    "import string\n",
    "from collections import OrderedDict"
   ]
  },
  {
   "cell_type": "code",
   "execution_count": 15,
   "metadata": {
    "collapsed": false
   },
   "outputs": [],
   "source": [
    "out_dir = os.getcwd()\n",
    "\n",
    "# read in config file for scaling\n",
    "config_file = 'scaling_runs.cfg'\n",
    "config = read_configobj(config_file)\n",
    "\n",
    "# specify global parameter file template\n",
    "global_param_filename = 'global_param_template.txt'\n",
    "global_param_template = os.path.join(out_dir, global_param_filename)"
   ]
  },
  {
   "cell_type": "code",
   "execution_count": 18,
   "metadata": {
    "collapsed": false
   },
   "outputs": [
    {
     "data": {
      "text/plain": [
       "{'FULL_ENERGY': True, 'FROZEN_SOIL': True, 'SOIL_NODES': 3, 'CLOSE_ENERGY': False}"
      ]
     },
     "execution_count": 18,
     "metadata": {},
     "output_type": "execute_result"
    }
   ],
   "source": [
    "config['FullEnergy_FrozenSoil_noCloseEnergy_3Nodes']['options']"
   ]
  },
  {
   "cell_type": "code",
   "execution_count": 28,
   "metadata": {
    "collapsed": false
   },
   "outputs": [
    {
     "name": "stdout",
     "output_type": "stream",
     "text": [
      "Creating global parameter file for 1/7: FullEnergy_FrozenSoil_noCloseEnergy_3Nodes\n",
      "Creating global parameter file for 2/7: FullEnergy_noFrozenSoil_noCloseEnergy_3Nodes\n",
      "Creating global parameter file for 3/7: FullEnergy_FrozenSoil_noCloseEnergy_50Nodes\n",
      "Creating global parameter file for 4/7: noFullEnergy_noFrozenSoil_noCloseEnergy_3Nodes\n",
      "Creating global parameter file for 5/7: noFullEnergy_FrozenSoil_noCloseEnergy_50Nodes\n",
      "Creating global parameter file for 6/7: noFullEnergy_FrozenSoil_noCloseEnergy_3Nodes\n",
      "Creating global parameter file for 7/7: FullEnergy_FrozenSoil_CloseEnergy_50Nodes\n"
     ]
    }
   ],
   "source": [
    "# set up global parameter files for each scaling test\n",
    "for i, (testname, test_dict) in enumerate(config.items()):\n",
    "\n",
    "    # print out status info \n",
    "    print('Creating global parameter file for {0}/{1}: {2}'.format(i + 1, len(config.items()),\n",
    "                                                                   testname))\n",
    "\n",
    "    # setup directories for tests\n",
    "    dirs = setup_test_dirs(testname, out_dir, \n",
    "                           mkdirs=['hist', 'logs'])\n",
    "\n",
    "    # read global parameter file\n",
    "    dict_global_param = {}\n",
    "    \n",
    "    with open(global_param_template, 'r') as global_file:\n",
    "        global_params = global_file.read()\n",
    "        \n",
    "    # create template string \n",
    "    dict_s = string.Template(global_params)\n",
    "    \n",
    "    # fill in global parameter options\n",
    "    s = dict_s\n",
    "    # set up subdirectories and fill in global parameter options\n",
    "    global_param = s.safe_substitute(log_dir=dirs['logs'], \n",
    "                                     result_dir=dirs['hist'])\n",
    "    \n",
    "    # replace global options from config file\n",
    "    # extract global options to be substituted\n",
    "    if 'options' in test_dict: \n",
    "        replacements = test_dict['options']\n",
    "    else: \n",
    "        replacements = OrderedDict()\n",
    "    # replace global options\n",
    "    global_param = replace_global_values(global_param, replacements)\n",
    "    \n",
    "    # write global file\n",
    "    filepath = os.path.join(out_dir, 'global_parameter_files')\n",
    "    if not os.path.exists(filepath):\n",
    "        os.makedirs(filepath)\n",
    "    test_global_file = os.path.join(out_dir, 'global_parameter_files', testname + '.txt')\n",
    "    with open(test_global_file, mode='w') as f: \n",
    "        for line in global_param: \n",
    "            f.write(line)\n",
    "    "
   ]
  },
  {
   "cell_type": "code",
   "execution_count": null,
   "metadata": {
    "collapsed": true
   },
   "outputs": [],
   "source": []
  }
 ],
 "metadata": {
  "kernelspec": {
   "display_name": "Python 3",
   "language": "python",
   "name": "python3"
  },
  "language_info": {
   "codemirror_mode": {
    "name": "ipython",
    "version": 3
   },
   "file_extension": ".py",
   "mimetype": "text/x-python",
   "name": "python",
   "nbconvert_exporter": "python",
   "pygments_lexer": "ipython3",
   "version": "3.5.0rc4"
  }
 },
 "nbformat": 4,
 "nbformat_minor": 0
}
