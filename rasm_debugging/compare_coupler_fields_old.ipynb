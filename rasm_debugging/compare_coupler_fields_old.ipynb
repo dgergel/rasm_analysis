{
 "cells": [
  {
   "cell_type": "code",
   "execution_count": 1,
   "metadata": {
    "collapsed": true
   },
   "outputs": [],
   "source": [
    "%matplotlib inline\n",
    "import matplotlib.pyplot as plt\n",
    "import os \n",
    "import numpy as np\n",
    "import pandas as pd \n",
    "import xarray as xr\n",
    "from tonic.io import read_config, read_configobj"
   ]
  },
  {
   "cell_type": "markdown",
   "metadata": {},
   "source": [
    "read configs for filenames and diagnostics to run"
   ]
  },
  {
   "cell_type": "code",
   "execution_count": 2,
   "metadata": {
    "collapsed": false
   },
   "outputs": [],
   "source": [
    "# read config files\n",
    "\n",
    "config_files = read_config(os.path.join(os.getcwd(), \n",
    "                                            'filenames.cfg'))\n",
    "config_diag = read_configobj(os.path.join(os.getcwd(), \n",
    "                                       'diagnostics.cfg'))"
   ]
  },
  {
   "cell_type": "markdown",
   "metadata": {},
   "source": [
    "full list of l2x coupler fields "
   ]
  },
  {
   "cell_type": "code",
   "execution_count": 3,
   "metadata": {
    "collapsed": true
   },
   "outputs": [],
   "source": [
    "l2x_vars = ['l2x_Sl_t', 'l2x_Sl_tref', 'l2x_Sl_qref', \n",
    "            'l2x_Sl_avsdr','l2x_Sl_anidr', 'l2x_Sl_avsdf', \n",
    "            'l2x_Sl_anidf', 'l2x_Sl_snowh', 'l2x_Sl_u10', \n",
    "            'l2x_Sl_fv', 'l2x_Sl_ram1', 'l2x_Sl_logz0', 'l2x_Fall_taux',\n",
    "            'l2x_Fall_tauy', 'l2x_Fall_lat', 'l2x_Fall_sen', \n",
    "            'l2x_Fall_lwup', 'l2x_Fall_evap', 'l2x_Fall_swnet', \n",
    "            'l2x_Fall_flxdst1', 'l2x_Fall_flxdst2',\n",
    "            'l2x_Fall_flxdst3', 'l2x_Fall_flxdst4', \n",
    "            'l2x_Flrl_rofliq', 'l2x_Flrl_rofice']"
   ]
  },
  {
   "cell_type": "code",
   "execution_count": 4,
   "metadata": {
    "collapsed": false
   },
   "outputs": [
    {
     "data": {
      "text/plain": [
       "True"
      ]
     },
     "execution_count": 4,
     "metadata": {},
     "output_type": "execute_result"
    }
   ],
   "source": [
    "config_diag.items()[0] in config_diag.items()"
   ]
  },
  {
   "cell_type": "code",
   "execution_count": 7,
   "metadata": {
    "collapsed": false
   },
   "outputs": [
    {
     "data": {
      "text/plain": [
       "<matplotlib.figure.Figure at 0x10f4fc0f0>"
      ]
     },
     "metadata": {},
     "output_type": "display_data"
    }
   ],
   "source": [
    "# make plots\n",
    "\n",
    "# get compset for plot name\n",
    "if 'RI' in config_files['filenames']['vic4']:\n",
    "    compset = 'RI'\n",
    "elif 'RBR' in config_files['filenames']['vic4']:\n",
    "    compset = 'RBR'\n",
    "elif 'RB' in config_files['filenames']['vic4']:\n",
    "    compset = 'RB'\n",
    "else: \n",
    "    raise TypeError(\"file compset has not yet been defined in the diagnostic script\")\n",
    "\n",
    "# plot settings \n",
    "fs = 10\n",
    "dpi = 50\n",
    "\n",
    "vic4 = xr.open_dataset(os.path.join(os.getcwd(), \n",
    "                                    'coupler_hist_files', \n",
    "                                    config_files['filenames']['vic4']))\n",
    "vic5 = xr.open_dataset(os.path.join(os.getcwd(), \n",
    "                                    'coupler_hist_files', \n",
    "                                    config_files['filenames']['vic5']))\n",
    "\n",
    "\n",
    "for plot_type in config_diag.items():\n",
    "    for l2x_var in l2x_vars:\n",
    "        if plot_type[0] == \"magnitudes\" and config_diag['magnitudes']['options']['run']:\n",
    "            fig, axs = plt.subplots(1, 2, figsize=(15, 4))\n",
    "            vic4[l2x_var].plot(cmap='viridis', ax=axs[0], add_labels=False)\n",
    "            axs[0].set_title('VIC 4 %s CPL Hist File' %compset)\n",
    "            vic5[l2x_var].plot(cmap='viridis', ax=axs[1], add_labels=False)\n",
    "            axs[1].set_title('VIC 5 %s CPL Hist File' %compset)\n",
    "        elif (plot_type[0] == \"magnitudes_constrain_colorbar\" and \n",
    "              config_diag['magnitudes_constrain_colorbar']['options']['run']):\n",
    "            fig, axs = plt.subplots(1, 2, figsize=(15, 4))\n",
    "            # get colorbar constraints\n",
    "            if config_diag['magnitudes_constrain_colorbar']['options']['constrain_by'] == \"vic4\":\n",
    "                vmin = vic4[l2x_var].min()\n",
    "                vmax = vic4[l2x_var].max()\n",
    "            elif config_diag['magnitudes_constrain_colorbar']['options']['constrain_by'] == \"vic5\":\n",
    "                vmin = vic5[l2x_var].min()\n",
    "                vmax = vic5[l2x_var].max()\n",
    "            else: \n",
    "                raise TypeError(\"this colorbar constrain option is not yet an option, please reset config file\")\n",
    "            vic4[l2x_var].plot(cmap='viridis', ax=axs[0], add_labels=False)\n",
    "            axs[0].set_title('VIC 4 %s CPL Hist File' %compset)\n",
    "            vic5[l2x_var].plot(cmap='viridis', ax=axs[1], add_labels=False)\n",
    "            axs[1].set_title('VIC 5 %s CPL Hist File' %compset)\n",
    "        elif plot_type[0] == \"difference\" and config_diag['difference']['options']['run']:\n",
    "            fig, axs = plt.subplots(1, 1, figsize=(4, 4))\n",
    "            (vic5[l2x_var] - vic4[l2x_var]).plot(cmap='bwr', ax=axs, add_labels=False)\n",
    "            axs.set_title('VIC 5 - VIC 4 %s CPL Hist Files' %compset)\n",
    "        \n",
    "        plot_direc = os.path.join(os.getcwd(), 'plots', plot_type[0])\n",
    "        os.makedirs(plot_direc, exist_ok=True)\n",
    "        plt.suptitle('%s %s' % (l2x_var, vic5[l2x_var].long_name), size=fs)\n",
    "        plotname = '%s.png' %l2x_var\n",
    "        savepath = os.path.join(plot_direc, plotname)\n",
    "        plt.savefig(savepath, format='png', dpi=dpi, bbox_inches='tight')"
   ]
  },
  {
   "cell_type": "code",
   "execution_count": 11,
   "metadata": {
    "collapsed": false
   },
   "outputs": [
    {
     "data": {
      "text/plain": [
       "<xarray.DataArray 'l2x_Sl_avsdr' ()>\n",
       "array(0.0)"
      ]
     },
     "execution_count": 11,
     "metadata": {},
     "output_type": "execute_result"
    }
   ],
   "source": [
    "vic5.l2x_Sl_avsdr.min()"
   ]
  },
  {
   "cell_type": "code",
   "execution_count": 35,
   "metadata": {
    "collapsed": false
   },
   "outputs": [
    {
     "name": "stdout",
     "output_type": "stream",
     "text": [
      "yes\n"
     ]
    }
   ],
   "source": [
    "if 'RI' in config_files['filenames']['vic4']:\n",
    "    print(\"yes\")"
   ]
  },
  {
   "cell_type": "code",
   "execution_count": 70,
   "metadata": {
    "collapsed": false
   },
   "outputs": [
    {
     "data": {
      "text/plain": [
       "<xarray.DataArray 'l2x_Fall_taux' (time: 1, l2x_ny: 205, l2x_nx: 275)>\n",
       "array([[[ nan,  nan, ...,  nan,  nan],\n",
       "        [ nan,  nan, ...,  nan,  nan],\n",
       "        ..., \n",
       "        [ nan,  nan, ...,  -0.,  -0.],\n",
       "        [ nan,  nan, ...,  -0.,  -0.]]])\n",
       "Coordinates:\n",
       "  * time     (time) datetime64[ns] 1948-09-01\n",
       "Dimensions without coordinates: l2x_ny, l2x_nx\n",
       "Attributes:\n",
       "    units: N m-2\n",
       "    long_name: Zonal surface stress\n",
       "    standard_name: surface_downward_eastward_stress\n",
       "    internal_dname: l2x_lx"
      ]
     },
     "execution_count": 70,
     "metadata": {},
     "output_type": "execute_result"
    }
   ],
   "source": [
    "u = vic4['l2x_Fall_taux']\n",
    "v = vic5['l2x_Fall_taux']"
   ]
  },
  {
   "cell_type": "code",
   "execution_count": null,
   "metadata": {
    "collapsed": true
   },
   "outputs": [],
   "source": []
  }
 ],
 "metadata": {
  "kernelspec": {
   "display_name": "Python 3",
   "language": "python",
   "name": "python3"
  },
  "language_info": {
   "codemirror_mode": {
    "name": "ipython",
    "version": 3
   },
   "file_extension": ".py",
   "mimetype": "text/x-python",
   "name": "python",
   "nbconvert_exporter": "python",
   "pygments_lexer": "ipython3",
   "version": "3.5.0rc4"
  }
 },
 "nbformat": 4,
 "nbformat_minor": 0
}
