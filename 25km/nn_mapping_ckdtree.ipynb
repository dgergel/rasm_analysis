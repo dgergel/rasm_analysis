{
 "cells": [
  {
   "cell_type": "code",
   "execution_count": 3,
   "metadata": {
    "collapsed": true
   },
   "outputs": [],
   "source": [
    "%matplotlib inline\n",
    "import matplotlib.pyplot as plt\n",
    "import numpy as np\n",
    "import argparse\n",
    "import subprocess\n",
    "import os\n",
    "from scipy.spatial import cKDTree\n",
    "from netCDF4 import Dataset, default_fillvals"
   ]
  },
  {
   "cell_type": "markdown",
   "metadata": {},
   "source": [
    "load 25km domain file"
   ]
  },
  {
   "cell_type": "code",
   "execution_count": 77,
   "metadata": {
    "collapsed": true
   },
   "outputs": [],
   "source": [
    "domain_25km_filename = 'domain.lnd.wr25b_ar9v4.170413.nc'\n",
    "direc = '/Users/diana/Dropbox/UW/Research/rasm/25_km'\n",
    "domain_25km = Dataset(os.path.join(direc, domain_25km_filename), 'r+')\n",
    "lon_25km = domain_25km.variables['xc'][:,:]\n",
    "lat_25km = domain_25km.variables['yc'][:,:]\n",
    "mask_25km = domain_25km.variables['mask'][:,:]"
   ]
  },
  {
   "cell_type": "markdown",
   "metadata": {},
   "source": [
    "load 50km domain file"
   ]
  },
  {
   "cell_type": "code",
   "execution_count": 78,
   "metadata": {
    "collapsed": true
   },
   "outputs": [],
   "source": [
    "domain_50km_filename = 'domain.lnd.wr50a_ar9v4.100920.nc'\n",
    "domain_50km = Dataset(os.path.join(direc, domain_50km_filename))\n",
    "lon_50km = domain_50km.variables['xc'][:,:]\n",
    "lat_50km = domain_50km.variables['yc'][:,:]\n",
    "mask_50km = domain_50km.variables['mask'][:,:]"
   ]
  },
  {
   "cell_type": "markdown",
   "metadata": {},
   "source": [
    "This is the function used for converting lat/lon to x, y, z: "
   ]
  },
  {
   "cell_type": "code",
   "execution_count": 79,
   "metadata": {
    "collapsed": true
   },
   "outputs": [],
   "source": [
    "def lon_lat_to_cartesian(lon, lat, R = 1):\n",
    "    \"\"\"\n",
    "    calculates lon, lat coordinates of a point on a sphere with\n",
    "    radius R\n",
    "    \"\"\"\n",
    "    lon_r = np.radians(lon)\n",
    "    lat_r = np.radians(lat)\n",
    "\n",
    "    x = R * np.cos(lat_r) * np.cos(lon_r)\n",
    "    y = R * np.cos(lat_r) * np.sin(lon_r)\n",
    "    z = R * np.sin(lat_r)\n",
    "\n",
    "    return x, y, z"
   ]
  },
  {
   "cell_type": "markdown",
   "metadata": {},
   "source": [
    "convert lat/lon to the Cartesian CRS"
   ]
  },
  {
   "cell_type": "code",
   "execution_count": 80,
   "metadata": {
    "collapsed": false
   },
   "outputs": [],
   "source": [
    "# lon, lat from meshgridded coarser res data\n",
    "xs, ys, zs = lon_lat_to_cartesian(lon_50km.flatten(), lat_50km.flatten()) \n",
    "# lon, lat directly from xc, yc from higher res data\n",
    "xt, yt, zt = lon_lat_to_cartesian(lon_25km.flatten(), lat_25km.flatten()) "
   ]
  },
  {
   "cell_type": "markdown",
   "metadata": {},
   "source": [
    "create `cKDTree` object to represent source grid"
   ]
  },
  {
   "cell_type": "code",
   "execution_count": 81,
   "metadata": {
    "collapsed": false
   },
   "outputs": [],
   "source": [
    "# poly = mpl.path.Path(list(zip(listx, listy)))\n",
    "import matplotlib as mpl\n",
    "zipped_25km = np.dstack(([xs, ys, zs]))[0]\n",
    "tree = cKDTree(zipped_25km)"
   ]
  },
  {
   "cell_type": "markdown",
   "metadata": {},
   "source": [
    "nearest neighbor interpolation"
   ]
  },
  {
   "cell_type": "code",
   "execution_count": 82,
   "metadata": {
    "collapsed": true
   },
   "outputs": [],
   "source": [
    "# find indices of the nearest neighbors in the flattened array \n",
    "zipped_50km = np.dstack(([xt, yt, zt]))[0]\n",
    "d, inds = tree.query(zipped_50km, k=1)"
   ]
  },
  {
   "cell_type": "markdown",
   "metadata": {},
   "source": [
    "get interpolated 2d field"
   ]
  },
  {
   "cell_type": "code",
   "execution_count": 83,
   "metadata": {
    "collapsed": false
   },
   "outputs": [],
   "source": [
    "mask_nearest = mask_50km.flatten()[inds].reshape(lon_25km.shape)"
   ]
  },
  {
   "cell_type": "code",
   "execution_count": 84,
   "metadata": {
    "collapsed": false
   },
   "outputs": [
    {
     "data": {
      "text/plain": [
       "<matplotlib.text.Text at 0x115249f28>"
      ]
     },
     "execution_count": 84,
     "metadata": {},
     "output_type": "execute_result"
    },
    {
     "data": {
      "image/png": "[encoded data removed]",
      "text/plain": [
       "<matplotlib.figure.Figure at 0x114848390>"
      ]
     },
     "metadata": {},
     "output_type": "display_data"
    }
   ],
   "source": [
    "fig = plt.figure(figsize=(10,5))\n",
    "plt.subplot(121)\n",
    "plt.pcolormesh(mask_nearest.transpose())\n",
    "plt.xlim([0, mask_nearest.shape[0]])\n",
    "plt.ylim([0, mask_nearest.shape[1]])\n",
    "plt.colorbar()\n",
    "plt.title(\"Nearest neighbor, 25km\")\n",
    "\n",
    "plt.subplot(122)\n",
    "plt.pcolormesh(mask_50km.transpose())\n",
    "plt.xlim([0, mask_50km.shape[0]])\n",
    "plt.ylim([0, mask_50km.shape[1]])\n",
    "plt.colorbar()\n",
    "plt.title(\"50km original grid\")"
   ]
  },
  {
   "cell_type": "markdown",
   "metadata": {},
   "source": [
    "try the same thing with only the land lats/lons"
   ]
  },
  {
   "cell_type": "code",
   "execution_count": 85,
   "metadata": {
    "collapsed": false
   },
   "outputs": [],
   "source": [
    "lat_25km_land = lat_25km[mask_25km > 0]\n",
    "lon_25km_land = lon_25km[mask_25km > 0]\n",
    "mask_25km_land = mask_25km[mask_25km > 0]\n",
    "nj_inds_25km, ni_inds_25km = np.nonzero(mask_25km)\n",
    "\n",
    "lat_50km_land = lat_50km[mask_50km > 0]\n",
    "lon_50km_land = lon_50km[mask_50km > 0]\n",
    "mask_50km_land = mask_50km[mask_50km > 0]\n",
    "nj_inds_50km, ni_inds_50km = np.nonzero(mask_50km)"
   ]
  },
  {
   "cell_type": "code",
   "execution_count": 86,
   "metadata": {
    "collapsed": false
   },
   "outputs": [],
   "source": [
    "# lon, lat from meshgridded coarser res data\n",
    "xs, ys, zs = lon_lat_to_cartesian(lon_50km_land, lat_50km_land) \n",
    "# lon, lat directly from xc, yc from higher res data\n",
    "xt, yt, zt = lon_lat_to_cartesian(lon_25km_land, lat_25km_land)"
   ]
  },
  {
   "cell_type": "code",
   "execution_count": 87,
   "metadata": {
    "collapsed": false
   },
   "outputs": [],
   "source": [
    "zipped_25km = np.dstack(([xs, ys, zs]))[0]\n",
    "tree = cKDTree(zipped_25km)"
   ]
  },
  {
   "cell_type": "code",
   "execution_count": 88,
   "metadata": {
    "collapsed": false
   },
   "outputs": [],
   "source": [
    "# find indices of the nearest neighbors in the flattened array \n",
    "zipped_50km = np.dstack(([xt, yt, zt]))[0]\n",
    "d, inds = tree.query(zipped_50km, k=1)"
   ]
  },
  {
   "cell_type": "code",
   "execution_count": 89,
   "metadata": {
    "collapsed": false
   },
   "outputs": [],
   "source": [
    "mask_nearest = mask_50km.flatten()[inds]"
   ]
  },
  {
   "cell_type": "code",
   "execution_count": 90,
   "metadata": {
    "collapsed": false
   },
   "outputs": [
    {
     "data": {
      "text/plain": [
       "<class 'netCDF4._netCDF4.Dataset'>\n",
       "root group (NETCDF3_CLASSIC data model, file format NETCDF3):\n",
       "    title: CESM domain data:\n",
       "    Conventions: CF-1.0\n",
       "    source_code: SVN $Id: gen_domain.F90 41914 2012-11-13 21:58:37Z mlevy@ucar.edu $\n",
       "    SVN_url:  $URL: https://svn-ccsm-models.cgd.ucar.edu/tools/mapping/gen_domain/trunk/src/gen_domain.F90 $\n",
       "    Compiler_Optimized: FALSE\n",
       "    hostname: geyser03\n",
       "    history: created by tcraig, 2017-04-13 19:33:31\n",
       "    source: /glade/p/cesmdata/cseg/inputdata/cpl/cpl6/map_ar9v4_TO_wr25b_aave.170413.nc\n",
       "    map_domain_a: /glade/p/cesmdata/cseg/mapping/grids/ar9v4_100920.nc\n",
       "    map_domain_b: /glade/p/cesmdata/cseg/mapping/grids/wr25b_170413.nc\n",
       "    map_grid_file_ocn: /glade/p/cesmdata/cseg/mapping/grids/ar9v4_100920.nc\n",
       "    map_grid_file_atm: /glade/p/cesmdata/cseg/mapping/grids/wr25b_170413.nc\n",
       "    dimensions(sizes): n(227563), ni(551), nj(413), nv(4)\n",
       "    variables(dimensions): float64 \u001b[4mxc\u001b[0m(nj,ni), float64 \u001b[4myc\u001b[0m(nj,ni), float64 \u001b[4mxv\u001b[0m(nj,ni,nv), float64 \u001b[4myv\u001b[0m(nj,ni,nv), int32 \u001b[4mmask\u001b[0m(nj,ni), float64 \u001b[4marea\u001b[0m(nj,ni), float64 \u001b[4mfrac\u001b[0m(nj,ni), int32 \u001b[4mmask_interp\u001b[0m(nj,ni)\n",
       "    groups: "
      ]
     },
     "execution_count": 90,
     "metadata": {},
     "output_type": "execute_result"
    }
   ],
   "source": [
    "domain_25km"
   ]
  },
  {
   "cell_type": "code",
   "execution_count": 97,
   "metadata": {
    "collapsed": false
   },
   "outputs": [],
   "source": [
    "domain_25km['mask_interp'][:,:] = mask_25km[:,:]"
   ]
  },
  {
   "cell_type": "code",
   "execution_count": 101,
   "metadata": {
    "collapsed": false
   },
   "outputs": [
    {
     "name": "stdout",
     "output_type": "stream",
     "text": [
      "100805\n",
      "100805\n"
     ]
    }
   ],
   "source": [
    "print(len(nj_inds_25km))\n",
    "print(len(inds))\n",
    "# ni_inds_25km"
   ]
  },
  {
   "cell_type": "code",
   "execution_count": 103,
   "metadata": {
    "collapsed": false
   },
   "outputs": [],
   "source": [
    "domain_25km['mask_interp'][:,:][nj_inds_25km, ni_inds_25km] = mask_nearest "
   ]
  },
  {
   "cell_type": "code",
   "execution_count": 105,
   "metadata": {
    "collapsed": false
   },
   "outputs": [
    {
     "data": {
      "text/plain": [
       "<matplotlib.colorbar.Colorbar at 0x1181b80b8>"
      ]
     },
     "execution_count": 105,
     "metadata": {},
     "output_type": "execute_result"
    },
    {
     "data": {
      "image/png": "[encoded data removed]",
      "text/plain": [
       "<matplotlib.figure.Figure at 0x1187e7cf8>"
      ]
     },
     "metadata": {},
     "output_type": "display_data"
    }
   ],
   "source": [
    "masks_subtracted = domain_25km['mask_interp'][:,:] - domain_25km['mask'][:,:]\n",
    "\n",
    "fig = plt.figure(figsize=(10,5))\n",
    "plt.subplot(121)\n",
    "plt.pcolormesh(masks_subtracted.transpose())\n",
    "plt.xlim([0, masks_subtracted.shape[0]])\n",
    "plt.ylim([0, masks_subtracted.shape[1]])\n",
    "plt.colorbar()\n",
    "# plt.title(\"Nearest neighbor, 25km\")"
   ]
  },
  {
   "cell_type": "code",
   "execution_count": null,
   "metadata": {
    "collapsed": true
   },
   "outputs": [],
   "source": []
  }
 ],
 "metadata": {
  "kernelspec": {
   "display_name": "Python 3",
   "language": "python",
   "name": "python3"
  },
  "language_info": {
   "codemirror_mode": {
    "name": "ipython",
    "version": 3
   },
   "file_extension": ".py",
   "mimetype": "text/x-python",
   "name": "python",
   "nbconvert_exporter": "python",
   "pygments_lexer": "ipython3",
   "version": "3.5.0rc4"
  }
 },
 "nbformat": 4,
 "nbformat_minor": 0
}
