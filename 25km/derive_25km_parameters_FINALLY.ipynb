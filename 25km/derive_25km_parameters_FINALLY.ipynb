{
 "cells": [
  {
   "cell_type": "code",
   "execution_count": 3,
   "metadata": {
    "collapsed": false
   },
   "outputs": [],
   "source": [
    "%matplotlib inline\n",
    "import matplotlib.pyplot as plt\n",
    "from tonic.models.vic import (netcdf2vic, compare_soil_params, grid_params, \n",
    "                              ncparam2ascii, vic2netcdf)\n",
    "import numpy as np\n",
    "import argparse\n",
    "import subprocess\n",
    "import os\n",
    "from tonic import version\n",
    "from scipy.spatial import cKDTree\n",
    "from tonic.io import read_netcdf\n",
    "from netCDF4 import Dataset, default_fillvals\n"
   ]
  },
  {
   "cell_type": "code",
   "execution_count": 4,
   "metadata": {
    "collapsed": false
   },
   "outputs": [],
   "source": [
    "# import NetCDF params file\n",
    "direc = '/Users/diana/Dropbox/UW/Research/rasm/25_km'\n",
    "ncparams_filename = 'vic_params_wr50a_vic5.0.dev_20160328.nc'\n",
    "ncparams_file_name_with_snowbands = 'vic_params_wr50a_vic5.0.dev_joe_8312017.nc'\n",
    "nc_params_25km = \"params_25km_full.nc\"\n",
    "ncparams = os.path.join(direc, ncparams_filename)\n",
    "ncparams_with_snowbands = os.path.join(direc, ncparams_file_name_with_snowbands)\n",
    "ncparams_25km = os.path.join(direc, nc_params_25km)\n",
    "soil_file = os.path.join(direc, 'soil_params.txt')\n",
    "veg_file = os.path.join(direc, 'veg_params.txt')\n",
    "snow_file = os.path.join(direc, 'snow_params.txt')"
   ]
  },
  {
   "cell_type": "code",
   "execution_count": 5,
   "metadata": {
    "collapsed": true
   },
   "outputs": [],
   "source": [
    "def rasm_soil(data, soil_file):\n",
    "    \"\"\"Write VIC formatted soil parameter file\"\"\"\n",
    "\n",
    "    message = \"\"\"\n",
    "*** ---------------------------------------------------------------------- ***\n",
    "Notes about RASM soil parameter file generations:\n",
    " - To fill in missing grid cells 'mask' variable must be the same as the\n",
    "   domain file mask.\n",
    " - Inactive grid cells will have a dummy line printed for all variables except\n",
    "   the lons/lats.\n",
    " - Any grid cells with nans will be copied from the previous line without nans\n",
    "   or FILL_VALUEs.\n",
    "*** --------------------------------------------------------------------- ***\\n\n",
    "    \"\"\"\n",
    "\n",
    "    print(message)\n",
    "    \n",
    "    FILL_VALUE = -9999\n",
    "\n",
    "    # ---------------------------------------------------------------- #\n",
    "    c = grid_params.Cols(nlayers=3)\n",
    "    f = grid_params.Format(nlayers=3)\n",
    "\n",
    "    c.soil_param['Nveg'] = np.array([0])\n",
    "    f.soil_param['Nveg'] = '%1i'\n",
    "\n",
    "    if 'mask' in data:\n",
    "        mask = 'mask'\n",
    "    elif 'run_cell' in data:\n",
    "        mask = 'run_cell'\n",
    "    else: \n",
    "        raise KeyError(\"Land mask must exist in NetCDF file.\")\n",
    "    \n",
    "    numcells = data[mask].size\n",
    "\n",
    "    arrayshape = (numcells, 1 + np.max([np.max(cols) for v, cols in\n",
    "                                        c.soil_param.items()]))\n",
    "    soil_params = np.empty(arrayshape)\n",
    "    dtypes = ['%1i'] * arrayshape[1]\n",
    "    # ---------------------------------------------------------------- #\n",
    "\n",
    "    # ---------------------------------------------------------------- #\n",
    "    # find nearest real grid cell for all grid cells where frozen soil mask is\n",
    "    # active\n",
    "    # This is needed because the RASM mask is often different than existing\n",
    "    # datasets\n",
    "    print('Finding/filling nearest neighbors for all variables based on '\n",
    "          'fs_active mask')\n",
    "\n",
    "    # real mask (from input dataset)\n",
    "    ry, rx = np.nonzero(data['fs_active'])\n",
    "\n",
    "        # fill mask (we will fill all of these grid cells with their nearest real\n",
    "    # value)\n",
    "    my_mask = np.zeros(data['fs_active'].shape, dtype=int)\n",
    "    my_mask[ry, rx] = 1\n",
    "\n",
    "    fy, fx = np.nonzero(my_mask == 0)\n",
    "\n",
    "    # Find nearest real grid cell\n",
    "    combined = np.dstack(([data['yc'][ry, rx], data['xc'][ry, rx]]))[0]\n",
    "    points = list(np.vstack((data['yc'][fy, fx],\n",
    "                             data['xc'][fy, fx])).transpose())\n",
    "    mytree = cKDTree(combined)\n",
    "    dist, inds = mytree.query(points, k=1)\n",
    "\n",
    "    # loop over all variables and fill in values\n",
    "    for var in c.soil_param:\n",
    "        if var not in ['run_cell', 'grid_cell', 'lats', 'lons', 'fs_active',\n",
    "                       'Nveg']:\n",
    "            # unmask the variable\n",
    "            data[var] = np.array(data[var])\n",
    "            # fill with nearest data\n",
    "            if data[var].ndim == 2:\n",
    "                data[var][fy, fx] = data[var][ry[inds], rx[inds]]\n",
    "            elif data[var].ndim == 3:\n",
    "                data[var][:, fy, fx] = data[var][:, ry[inds], rx[inds]]\n",
    "    # ---------------------------------------------------------------- #\n",
    "\n",
    "    # ---------------------------------------------------------------- #\n",
    "    # This is the domain mask\n",
    "    yinds, xinds = np.nonzero(data[mask] == 1)\n",
    "    ymask, xmask = np.nonzero(data[mask] != 1)\n",
    "    # ---------------------------------------------------------------- #\n",
    "\n",
    "    # ---------------------------------------------------------------- #\n",
    "    # Fix problematic avg_T values\n",
    "    print('Finding/filling nearest neighbors for avg_T\\n')\n",
    "\n",
    "    # real mask (from input dataset)\n",
    "    ry, rx = np.nonzero((data['avg_T'] > -50) & (data['avg_T'] < 99))\n",
    "\n",
    "        # fill mask (we will fill all of these grid cells with their nearest\n",
    "    # real value)\n",
    "    my_mask = np.zeros(data['avg_T'].shape)\n",
    "    my_mask[ry, rx] = 1\n",
    "\n",
    "    fy, fx = np.nonzero(my_mask == 0)\n",
    "\n",
    "    # Find nearest real grid cell\n",
    "    if len(fy) > 0:\n",
    "        combined = np.dstack(([data['yc'][ry, rx], data['xc'][ry, rx]]))[0]\n",
    "        points = list(np.vstack((data['yc'][fy, fx],\n",
    "                                 data['xc'][fy, fx])).transpose())\n",
    "        mytree = cKDTree(combined)\n",
    "        dist, inds = mytree.query(points, k=1)\n",
    "\n",
    "        data['avg_T'] = np.array(data['avg_T'])\n",
    "        data['avg_T'][fy, fx] = data['avg_T'][ry[inds], rx[inds]]\n",
    "    # ---------------------------------------------------------------- #\n",
    "\n",
    "    # ---------------------------------------------------------------- #\n",
    "    # For rasm, all cols are shifted one to right to make room for nveg in\n",
    "    # col 0\n",
    "    i = -1\n",
    "    for var, cols in c.soil_param.items():\n",
    "        for col in cols:\n",
    "            dtypes[col] = f.soil_param[var]\n",
    "\n",
    "    for (y, x), maskval in np.ndenumerate(data[mask]):\n",
    "        # advance the row count\n",
    "        i += 1\n",
    "\n",
    "        # put real data\n",
    "        for var in c.soil_param:\n",
    "            cols = c.soil_param[var]\n",
    "            if data[var].ndim == 2:\n",
    "                soil_params[i, cols] = data[var][y, x]\n",
    "            elif data[var].ndim == 3:\n",
    "                for j, col in enumerate(cols):\n",
    "                    soil_params[i, col] = data[var][j, y, x]\n",
    "\n",
    "        # write the grid cell number\n",
    "        soil_params[i, 2] = i + 1\n",
    "    # ---------------------------------------------------------------- #\n",
    "    # ---------------------------------------------------------------- #\n",
    "    # Write phi_s\n",
    "    soil_params[:, c.soil_param['phi_s']] = -999\n",
    "    # ---------------------------------------------------------------- #\n",
    "\n",
    "    # ---------------------------------------------------------------- #\n",
    "    # Write nveg\n",
    "    soil_params[:, 0] = data['Nveg'][:, :].flatten()\n",
    "    # ---------------------------------------------------------------- #\n",
    "\n",
    "    # ---------------------------------------------------------------- #\n",
    "    # Set all grid cells to run\n",
    "    soil_params[:, 1] = 1  # run\n",
    "    soil_params[:, -1] = 1  # run with frozen soils on\n",
    "    # ---------------------------------------------------------------- #\n",
    "\n",
    "    # ---------------------------------------------------------------- #\n",
    "    # rewrite the lons/lats columns\n",
    "    soil_params[:, 3] = data['lats'].flatten()\n",
    "    soil_params[:, 4] = data['lons'].flatten()\n",
    "\n",
    "    assert soil_params[-1, 3] == data['lats'][y, x]\n",
    "    assert soil_params[-1, 4] == data['lons'][y, x]\n",
    "    # ---------------------------------------------------------------- #\n",
    "\n",
    "    # ---------------------------------------------------------------- #\n",
    "    # check for nans\n",
    "    # sometimes RASM has land grid cells that the input file does not.\n",
    "    # In this case, we will use the previous lnd grid cell\n",
    "    if np.isnan(soil_params.sum()):\n",
    "        bad_cells = []\n",
    "        replacements = []\n",
    "        for i, cell in enumerate(soil_params):\n",
    "            if np.isnan(np.sum(cell)):\n",
    "                bad_cells.append(i)\n",
    "                j = i\n",
    "                while True:\n",
    "                    j -= 1\n",
    "                    if (FILL_VALUE not in soil_params[j, :]) and \\\n",
    "                            not np.isnan(np.sum(soil_params[j, :])):\n",
    "                        soil_params[i, 5:] = soil_params[j, 5:]\n",
    "                        replacements.append(j)\n",
    "                        break\n",
    "        print('Fixed {0} bad cells'.format(len(bad_cells)))\n",
    "        print('Example: {0}-->{1}'.format(bad_cells[0], replacements[0]))\n",
    "    # ---------------------------------------------------------------- #\n",
    "    # ---------------------------------------------------------------- #\n",
    "    # Print summary of variables\n",
    "    for var, cols in c.soil_param.items():\n",
    "        print('{0: <12}--> min: {1:<09.3f}, max: {2:<09.3f}, mean:'\n",
    "              ' {3:<09.3f}'.format(var,\n",
    "                                   soil_params[:, cols].min(),\n",
    "                                   soil_params[:, cols].max(),\n",
    "                                   soil_params[:, cols].mean()))\n",
    "    # ---------------------------------------------------------------- #\n",
    "\n",
    "    # ---------------------------------------------------------------- #\n",
    "    # Finish up\n",
    "    assert soil_params[-1, 3] == data['lats'][y, x]\n",
    "    assert soil_params[-1, 4] == data['lons'][y, x]\n",
    "    # ---------------------------------------------------------------- #\n",
    "\n",
    "    # ---------------------------------------------------------------- #\n",
    "    # Write the file\n",
    "    print('writing soil parameter file: {0}'.format(soil_file))\n",
    "\n",
    "    np.savetxt(soil_file, soil_params, fmt=dtypes)\n",
    "\n",
    "    print('done RASM with soil')\n",
    "    # ---------------------------------------------------------------- #\n",
    "\n",
    "    return"
   ]
  },
  {
   "cell_type": "code",
   "execution_count": 6,
   "metadata": {
    "collapsed": true
   },
   "outputs": [],
   "source": [
    "def soil(data, xinds, yinds, soil_file):\n",
    "    \"\"\"Write VIC formatted soil parameter file\"\"\"\n",
    "    c = grid_params.cols(nlayers=3)\n",
    "    f = grid_params.format(nlayers=3)\n",
    "\n",
    "    arrayshape = (len(xinds), 1 + np.max([np.max(c.soil_param[var])\n",
    "                                          for var in c.soil_param]))\n",
    "    soil_params = np.zeros(arrayshape)\n",
    "    dtypes = [0] * arrayshape[1]\n",
    "\n",
    "    for var in c.soil_param:\n",
    "        if data[var].ndim == 2:\n",
    "            soil_params[:, c.soil_param[var]] = np.atleast_2d(\n",
    "                data[var][yinds, xinds]).transpose()\n",
    "        elif data[var].ndim == 3:\n",
    "            soil_params[:, c.soil_param[var]] = np.atleast_2d(\n",
    "                data[var][:, yinds, xinds]).transpose()\n",
    "        for col in c.soil_param[var]:\n",
    "            dtypes[col] = f.soil_param[var]\n",
    "\n",
    "    np.savetxt(soil_file, soil_params, fmt=dtypes)\n",
    "\n",
    "    print('finished writing soil parameter file: {0}'.format(soil_file))\n",
    "\n",
    "    return"
   ]
  },
  {
   "cell_type": "code",
   "execution_count": 7,
   "metadata": {
    "collapsed": true
   },
   "outputs": [],
   "source": [
    "def snow(data, xinds, yinds, snow_file):\n",
    "    \"\"\"Write VIC formatted snowband parameter file\"\"\"\n",
    "    try:\n",
    "        snow_bands = data['AreaFract'].shape[0]\n",
    "    except:\n",
    "        snow_bands = 5\n",
    "\n",
    "    c = grid_params.Cols(snow_bands=snow_bands)\n",
    "    f = grid_params.Format(snow_bands=snow_bands)\n",
    "\n",
    "    arrayshape = (len(xinds), 1 + np.max([np.max(c.snow_param[var])\n",
    "                                          for var in c.snow_param]))\n",
    "    snow_params = np.zeros(arrayshape)\n",
    "    dtypes = [0] * arrayshape[1]\n",
    "\n",
    "    for var in c.snow_param:\n",
    "        print(var)\n",
    "        if data[var].ndim == 2:\n",
    "            snow_params[:, c.snow_param[var]] = np.atleast_2d(\n",
    "                data[var][yinds, xinds]).transpose()\n",
    "        elif data[var].ndim == 3:\n",
    "            snow_params[:, c.snow_param[var]] = np.atleast_2d(\n",
    "                data[var][:, yinds, xinds]).transpose()\n",
    "        for col in c.snow_param[var]:\n",
    "            dtypes[col] = f.snow_param[var]\n",
    "\n",
    "    np.savetxt(snow_file, snow_params, fmt=dtypes)\n",
    "\n",
    "    print('finished writing snow parameter file: {0}'.format(snow_file))\n",
    "\n",
    "    return"
   ]
  },
  {
   "cell_type": "code",
   "execution_count": 15,
   "metadata": {
    "collapsed": true
   },
   "outputs": [],
   "source": [
    "def veg(data, xinds, yinds, veg_file, rootzones=3, global_lai=True):\n",
    "    \"\"\"Write VIC formatted veg parameter file\"\"\"\n",
    "\n",
    "    print('writing veg parameter file: {0}'.format(veg_file))\n",
    "\n",
    "    # counter for bad grid cells\n",
    "    count = 0\n",
    "\n",
    "    f = open(veg_file, 'w')\n",
    "\n",
    "    for y, x in zip(yinds, xinds):\n",
    "        gridcell = int(data['gridcell'][y, x])\n",
    "        n_veg = int(data['Nveg'][y, x])\n",
    "        cv = data['Cv'][:, y, x]\n",
    "        veg_class = np.nonzero(cv)[0]\n",
    "\n",
    "        if not len(veg_class) == n_veg:\n",
    "            count += 1\n",
    "\n",
    "        line1 = str(gridcell) + ' ' + str(n_veg) + '\\n'\n",
    "        f.write(line1)\n",
    "        if n_veg > 0:\n",
    "            for j in veg_class:\n",
    "                line2 = [str(j + 1)]\n",
    "                line2.append(str(cv[j]))\n",
    "                for k in range(rootzones):\n",
    "                    line2.append(str(data['root_depth'][j, k, y, x]))\n",
    "                    line2.append(str(data['root_fract'][j, k, y, x]))\n",
    "                line2.append('\\n')\n",
    "                f.write(' '.join(line2))\n",
    "                if global_lai:\n",
    "                    line3 = []\n",
    "                    for m in range(12):\n",
    "                        line3.append(str(data['LAI'][j, m, y, x]))\n",
    "                    line3.append('\\n')\n",
    "                    f.write(' '.join(line3))\n",
    "    f.close()\n",
    "\n",
    "    print('{0} grid cells have unequal veg_classes'.format(count))\n",
    "    print('finished writing veg parameter file: {0}'.format(veg_file))\n",
    "\n",
    "    return"
   ]
  },
  {
   "cell_type": "code",
   "execution_count": 9,
   "metadata": {
    "collapsed": true
   },
   "outputs": [],
   "source": [
    "def subset(param_file, upleft=False, lowright=False, outfiles=1,\n",
    "           soil_file=False, snow_file=False,\n",
    "           veg_file=False, project=None,\n",
    "           nijssen2arno=False):\n",
    "    print(\"in subset function\")\n",
    "    data, attributes = read_netcdf(param_file)\n",
    "\n",
    "    if nijssen2arno:\n",
    "        import NIJSSEN2001_to_ARNO\n",
    "        data = NIJSSEN2001_to_ARNO.convert(data)\n",
    "        \n",
    "    if 'mask' in data:\n",
    "        mask = 'mask'\n",
    "    elif 'run_cell' in data:\n",
    "        mask = 'run_cell'\n",
    "    else: \n",
    "        raise KeyError(\"Land mask must exist in NetCDF file.\")\n",
    "\n",
    "    if project:\n",
    "        print('Project Configuration {0}'.format(project))\n",
    "        if project == 'RASM':\n",
    "            outfiles = 1 \n",
    "            cells, yinds, xinds = find_gridcells(data[mask])\n",
    "            rasm_soil(data, soil_file)\n",
    "        else:\n",
    "            raise ValueError('Unknown project configuration')\n",
    "        return\n",
    "\n",
    "    else:\n",
    "        cells, yinds, xinds = find_gridcells(data[mask])\n",
    "\n",
    "    # write snow and veg files\n",
    "    if veg_file:\n",
    "        rootzones = data['root_depth'].shape[1]\n",
    "        print(\"writing veg file\")\n",
    "        veg(data, xinds, yinds, veg_file, rootzones=rootzones, global_lai=True)\n",
    "        print(\"wrote veg file\")\n",
    "    if snow_file:\n",
    "        print(\"write snow file\")\n",
    "        snow(data, xinds, yinds, snow_file)\n",
    "        print(\"wrote snow file\")\n",
    "\n",
    "    if (upleft and lowright):\n",
    "        inds = ((yinds < upleft[0]) and\n",
    "                (yinds > lowright[0]) and\n",
    "                (xinds < lowright[1]) and\n",
    "                (xinds > upleft[1]))\n",
    "        yinds = yinds[inds]\n",
    "        xinds = xinds[inds]\n",
    "\n",
    "    filesize = np.ceil(cells / outfiles)\n",
    "    for i in range(outfiles):\n",
    "        start = i * filesize\n",
    "        end = i * filesize + filesize\n",
    "        if end > cells:\n",
    "            end = cells\n",
    "        if outfiles > 1:\n",
    "            out_file = '{0}_{1}.txt'.format(soil_file,\n",
    "                                            str(i).zfill(len(str(outfiles))))\n",
    "        else:\n",
    "            out_file = '{0}.txt'.format(soil_file)\n",
    "        soil(data, xinds[start:end], yinds[start:end], out_file)\n",
    "\n",
    "    return"
   ]
  },
  {
   "cell_type": "code",
   "execution_count": 10,
   "metadata": {
    "collapsed": true
   },
   "outputs": [],
   "source": [
    "def find_gridcells(mask):\n",
    "    \"\"\" Find number of grid cells in mask\"\"\"\n",
    "    cells = np.sum(mask)\n",
    "\n",
    "    xinds, yinds = np.nonzero(mask > 0)\n",
    "\n",
    "    return cells, xinds, yinds"
   ]
  },
  {
   "cell_type": "markdown",
   "metadata": {},
   "source": [
    "make ASCII parameters at 50km resolution to be sure it works"
   ]
  },
  {
   "cell_type": "code",
   "execution_count": 10,
   "metadata": {
    "collapsed": false
   },
   "outputs": [
    {
     "name": "stdout",
     "output_type": "stream",
     "text": [
      "in subset function\n",
      "Reading input data variables:  odict_keys(['yc', 'xc', 'xv', 'yv', 'mask', 'layer', 'run_cell', 'gridcell', 'lats', 'lons', 'infilt', 'Ds', 'Dsmax', 'Ws', 'c', 'expt', 'Ksat', 'phi_s', 'init_moist', 'elev', 'depth', 'avg_T', 'dp', 'bubble', 'quartz', 'bulk_density', 'soil_density', 'off_gmt', 'Wcr_FRACT', 'Wpwp_FRACT', 'rough', 'snow_rough', 'annual_prec', 'resid_moist', 'fs_active', 'veg_class', 'veg_descr', 'month', 'Nveg', 'Cv', 'root_zone', 'root_depth', 'root_fract', 'LAI', 'overstory', 'rarc', 'rmin', 'wind_h', 'RGL', 'rad_atten', 'wind_atten', 'trunk_ratio', 'albedo', 'veg_rough', 'displacement']) from file: /Users/diana/Dropbox/UW/Research/rasm/25_km/vic_params_wr50a_vic5.0.dev_20160328.nc\n",
      "Project Configuration RASM\n",
      "\n",
      "*** ---------------------------------------------------------------------- ***\n",
      "Notes about RASM soil parameter file generations:\n",
      " - To fill in missing grid cells 'mask' variable must be the same as the\n",
      "   domain file mask.\n",
      " - Inactive grid cells will have a dummy line printed for all variables except\n",
      "   the lons/lats.\n",
      " - Any grid cells with nans will be copied from the previous line without nans\n",
      "   or FILL_VALUEs.\n",
      "*** --------------------------------------------------------------------- ***\n",
      "\n",
      "    \n",
      "Finding/filling nearest neighbors for all variables based on fs_active mask\n",
      "Finding/filling nearest neighbors for avg_T\n",
      "\n",
      "Fixed 30379 bad cells\n",
      "Example: 0-->-1\n",
      "run_cell    --> min: -2147483647.000, max: 10.000000, mean: -1157222272.519\n",
      "gridcell    --> min: 1.0000000, max: 1.0000000, mean: 1.0000000\n",
      "lats        --> min: 1.0000000, max: 56375.000, mean: 28188.000\n",
      "lons        --> min: nan000000, max: nan000000, mean: nan000000\n",
      "infilt      --> min: nan000000, max: nan000000, mean: nan000000\n",
      "Ds          --> min: 0.0100000, max: 0.3440000, mean: 0.1110000\n",
      "Dsmax       --> min: 0.0000000, max: 0.8000000, mean: 0.1930000\n",
      "Ws          --> min: 10.000000, max: 99.600000, mean: 41.357000\n",
      "c           --> min: 1.0000000, max: 2.3250000, mean: 1.4270000\n",
      "expt        --> min: 5.0300000, max: 77.360000, mean: 12.837000\n",
      "Ksat        --> min: 52.840000, max: 5830.2100, mean: 977.09300\n",
      "phi_s       --> min: -999.0000, max: -999.0000, mean: -999.0000\n",
      "init_moist  --> min: 89.999000, max: 1237.5070, mean: 292.44100\n",
      "elev        --> min: -43.71100, max: 3175.2060, mean: 262.03800\n",
      "depth       --> min: 0.1820000, max: 2.5000000, mean: 0.7130000\n",
      "avg_T       --> min: -27.50500, max: 23.761000, mean: 1.1940000\n",
      "dp          --> min: 4.0000000, max: 4.0000000, mean: 4.0000000\n",
      "bubble      --> min: 5.5900000, max: 154.56000, mean: 20.170000\n",
      "quartz      --> min: 0.0640000, max: 0.9100000, mean: 0.5120000\n",
      "bulk_density--> min: 100.00000, max: 1760.0000, mean: 1354.8140\n",
      "soil_density--> min: 204.50000, max: 3777.7800, mean: 2493.9070\n",
      "off_gmt     --> min: -12.00000, max: 12.000000, mean: 0.0120000\n",
      "Wcr_FRACT   --> min: 0.1740000, max: 0.7540000, mean: 0.4550000\n",
      "Wpwp_FRACT  --> min: 0.0550000, max: 0.6650000, mean: 0.2940000\n",
      "rough       --> min: 0.0010000, max: 0.0010000, mean: 0.0010000\n",
      "snow_rough  --> min: 0.0010000, max: 0.0010000, mean: 0.0010000\n",
      "annual_prec --> min: 29.866000, max: 8439.8500, mean: 899.16200\n",
      "resid_moist --> min: 0.0210000, max: 0.1000000, mean: 0.0940000\n",
      "fs_active   --> min: 1.0000000, max: 1.0000000, mean: 1.0000000\n",
      "Nveg        --> min: -2147483647.000, max: 10.000000, mean: -1157222272.519\n",
      "writing soil parameter file: /Users/diana/Dropbox/UW/Research/rasm/25_km/soil_params.txt\n",
      "done RASM with soil\n"
     ]
    }
   ],
   "source": [
    "# define fill values (for some reason doing this in grid_params.py isn't working)\n",
    "NC_DOUBLE = 'f8'\n",
    "FILLVALUE_F = default_fillvals[NC_DOUBLE]\n",
    "\n",
    "subset(ncparams, \n",
    "       upleft=False, \n",
    "       lowright=False, \n",
    "       soil_file=soil_file,\n",
    "       snow_file=snow_file,\n",
    "       veg_file=veg_file,\n",
    "       project='RASM',\n",
    "       nijssen2arno=False)"
   ]
  },
  {
   "cell_type": "markdown",
   "metadata": {},
   "source": [
    "have to make the veg and snow files separately because if `RASM == True` then those files aren't made "
   ]
  },
  {
   "cell_type": "code",
   "execution_count": 11,
   "metadata": {
    "collapsed": false
   },
   "outputs": [
    {
     "name": "stdout",
     "output_type": "stream",
     "text": [
      "Reading input data variables:  odict_keys(['yc', 'xc', 'xv', 'yv', 'mask', 'run_cell', 'gridcell', 'lats', 'lons', 'infilt', 'Ds', 'Dsmax', 'Ws', 'c', 'expt', 'Ksat', 'phi_s', 'init_moist', 'elev', 'depth', 'avg_T', 'dp', 'bubble', 'quartz', 'bulk_density', 'soil_density', 'off_gmt', 'Wcr_FRACT', 'Wpwp_FRACT', 'rough', 'snow_rough', 'annual_prec', 'resid_moist', 'fs_active', 'cellnum', 'AreaFract', 'elevation', 'Pfactor', 'month', 'Nveg', 'Cv', 'root_depth', 'root_fract', 'LAI', 'overstory', 'rarc', 'rmin', 'wind_h', 'RGL', 'rad_atten', 'wind_atten', 'trunk_ratio', 'snow_albedo', 'albedo', 'veg_rough', 'displacement']) from file: /Users/diana/Dropbox/UW/Research/rasm/25_km/vic_params_wr50a_vic5.0.dev_joe_8312017.nc\n"
     ]
    }
   ],
   "source": [
    "data, attributes = read_netcdf(ncparams_with_snowbands)\n",
    "cells, yinds, xinds = find_gridcells(data['mask'])\n",
    "rootzones = data['root_depth'].shape[1]\n",
    "# veg(data, xinds, yinds, veg_file, rootzones=rootzones, global_lai=True)\n",
    "# snow(data, xinds, yinds, snow_file)"
   ]
  },
  {
   "cell_type": "markdown",
   "metadata": {},
   "source": [
    "now derive 25 km parameters from snowbands 25km NetCDF parameter file (otherwise can't produce snow bands file) \n",
    "\n",
    "(NOTE: this was remapped via NN-mapping from 50km to 25km, see `/Users/diana/Dropbox/UW/Research/rasm/25_km/regrid_params.sh` )"
   ]
  },
  {
   "cell_type": "code",
   "execution_count": 11,
   "metadata": {
    "collapsed": true
   },
   "outputs": [],
   "source": [
    "NC_DOUBLE = 'f8'\n",
    "FILLVALUE_F = default_fillvals[NC_DOUBLE]"
   ]
  },
  {
   "cell_type": "code",
   "execution_count": 12,
   "metadata": {
    "collapsed": true
   },
   "outputs": [],
   "source": [
    "# 25 km parameters file names \n",
    "soil_file = os.path.join(direc, 'soil_params_25km.txt')\n",
    "veg_file = os.path.join(direc, 'veg_params_25km.txt')\n",
    "snow_file = os.path.join(direc, 'snow_params_25km.txt')"
   ]
  },
  {
   "cell_type": "markdown",
   "metadata": {},
   "source": [
    "RASM soil file "
   ]
  },
  {
   "cell_type": "code",
   "execution_count": 13,
   "metadata": {
    "collapsed": false
   },
   "outputs": [
    {
     "name": "stdout",
     "output_type": "stream",
     "text": [
      "in subset function\n",
      "Reading input data variables:  odict_keys(['veg_class', 'month', 'root_zone', 'snow_band', 'nlayer', 'yc', 'xc', 'run_cell', 'mask', 'xv', 'yv', 'gridcell', 'lats', 'lons', 'infilt', 'Ds', 'Dsmax', 'Ws', 'c', 'expt', 'Ksat', 'phi_s', 'init_moist', 'elev', 'depth', 'avg_T', 'dp', 'bubble', 'quartz', 'bulk_density', 'soil_density', 'off_gmt', 'Wcr_FRACT', 'Wpwp_FRACT', 'rough', 'snow_rough', 'annual_prec', 'resid_moist', 'fs_active', 'cellnum', 'AreaFract', 'elevation', 'Pfactor', 'Nveg', 'Cv', 'root_depth', 'root_fract', 'LAI', 'overstory', 'rarc', 'rmin', 'wind_h', 'RGL', 'rad_atten', 'wind_atten', 'trunk_ratio', 'snow_albedo', 'albedo', 'veg_rough', 'displacement']) from file: /Users/diana/Dropbox/UW/Research/rasm/25_km/params_25km_full.nc\n",
      "Project Configuration RASM\n",
      "\n",
      "*** ---------------------------------------------------------------------- ***\n",
      "Notes about RASM soil parameter file generations:\n",
      " - To fill in missing grid cells 'mask' variable must be the same as the\n",
      "   domain file mask.\n",
      " - Inactive grid cells will have a dummy line printed for all variables except\n",
      "   the lons/lats.\n",
      " - Any grid cells with nans will be copied from the previous line without nans\n",
      "   or FILL_VALUEs.\n",
      "*** --------------------------------------------------------------------- ***\n",
      "\n",
      "    \n",
      "Finding/filling nearest neighbors for all variables based on fs_active mask\n",
      "Finding/filling nearest neighbors for avg_T\n",
      "\n",
      "Fixed 126758 bad cells\n",
      "Example: 0-->-1\n",
      "run_cell    --> min: -2147483647.000, max: 10.000000, mean: -1196199433.741\n",
      "gridcell    --> min: 1.0000000, max: 1.0000000, mean: 1.0000000\n",
      "lats        --> min: 1.0000000, max: 227563.000, mean: 113782.000\n",
      "lons        --> min: nan000000, max: nan000000, mean: nan000000\n",
      "infilt      --> min: nan000000, max: nan000000, mean: nan000000\n",
      "Ds          --> min: 0.0100000, max: 0.3440000, mean: 0.1110000\n",
      "Dsmax       --> min: 0.0000000, max: 0.8000000, mean: 0.1950000\n",
      "Ws          --> min: 10.000000, max: 99.600000, mean: 41.314000\n",
      "c           --> min: 1.0000000, max: 2.3250000, mean: 1.4250000\n",
      "expt        --> min: 5.0300000, max: 77.360000, mean: 12.913000\n",
      "Ksat        --> min: 52.840000, max: 5830.2100, mean: 976.77700\n",
      "phi_s       --> min: -999.0000, max: -999.0000, mean: -999.0000\n",
      "init_moist  --> min: 0.0000000, max: 221.29000, mean: 83.670000\n",
      "elev        --> min: -43.71100, max: 3175.2060, mean: 269.78300\n",
      "depth       --> min: 0.1820000, max: 2.5000000, mean: 0.7130000\n",
      "avg_T       --> min: -27.50500, max: 23.761000, mean: 1.2190000\n",
      "dp          --> min: 4.0000000, max: 4.0000000, mean: 4.0000000\n",
      "bubble      --> min: 5.5900000, max: 154.56000, mean: 20.226000\n",
      "quartz      --> min: 0.0640000, max: 0.9100000, mean: 0.5110000\n",
      "bulk_density--> min: 100.00000, max: 1760.0000, mean: 1357.3880\n",
      "soil_density--> min: 204.50000, max: 3777.7800, mean: 2500.2460\n",
      "off_gmt     --> min: -43174440000000.000, max: 43199280000000.000, mean: 25670283271.020\n",
      "Wcr_FRACT   --> min: 0.1740000, max: 0.7540000, mean: 0.4550000\n",
      "Wpwp_FRACT  --> min: 0.0550000, max: 0.6650000, mean: 0.2940000\n",
      "rough       --> min: 0.0010000, max: 0.0010000, mean: 0.0010000\n",
      "snow_rough  --> min: 0.0010000, max: 0.0010000, mean: 0.0010000\n",
      "annual_prec --> min: 29.866000, max: 8439.8500, mean: 892.64700\n",
      "resid_moist --> min: 0.0210000, max: 0.1000000, mean: 0.0940000\n",
      "fs_active   --> min: 1.0000000, max: 1.0000000, mean: 1.0000000\n",
      "Nveg        --> min: -2147483647.000, max: 10.000000, mean: -1196199433.741\n",
      "writing soil parameter file: /Users/diana/Dropbox/UW/Research/rasm/25_km/soil_params_25km.txt\n",
      "done RASM with soil\n"
     ]
    }
   ],
   "source": [
    "# ncparams_25km is the remapped \n",
    "subset(ncparams_25km, \n",
    "       upleft=False, \n",
    "       lowright=False, \n",
    "       soil_file=soil_file,\n",
    "       snow_file=False,\n",
    "       veg_file=False,\n",
    "       project='RASM',\n",
    "       nijssen2arno=False)"
   ]
  },
  {
   "cell_type": "markdown",
   "metadata": {},
   "source": [
    "## NOTE: even though `infilt`, `Nveg` and `run_cell` look weird in this chart, I just checked all of them in the NetCDF file and they're good "
   ]
  },
  {
   "cell_type": "markdown",
   "metadata": {},
   "source": [
    "veg and snow files"
   ]
  },
  {
   "cell_type": "code",
   "execution_count": 16,
   "metadata": {
    "collapsed": false
   },
   "outputs": [
    {
     "name": "stdout",
     "output_type": "stream",
     "text": [
      "Reading input data variables:  odict_keys(['veg_class', 'month', 'root_zone', 'snow_band', 'nlayer', 'yc', 'xc', 'run_cell', 'mask', 'xv', 'yv', 'gridcell', 'lats', 'lons', 'infilt', 'Ds', 'Dsmax', 'Ws', 'c', 'expt', 'Ksat', 'phi_s', 'init_moist', 'elev', 'depth', 'avg_T', 'dp', 'bubble', 'quartz', 'bulk_density', 'soil_density', 'off_gmt', 'Wcr_FRACT', 'Wpwp_FRACT', 'rough', 'snow_rough', 'annual_prec', 'resid_moist', 'fs_active', 'cellnum', 'AreaFract', 'elevation', 'Pfactor', 'Nveg', 'Cv', 'root_depth', 'root_fract', 'LAI', 'overstory', 'rarc', 'rmin', 'wind_h', 'RGL', 'rad_atten', 'wind_atten', 'trunk_ratio', 'snow_albedo', 'albedo', 'veg_rough', 'displacement']) from file: /Users/diana/Dropbox/UW/Research/rasm/25_km/params_25km_full.nc\n",
      "writing veg parameter file: /Users/diana/Dropbox/UW/Research/rasm/25_km/veg_params_25km.txt\n",
      "35646 grid cells have unequal veg_classes\n",
      "finished writing veg parameter file: /Users/diana/Dropbox/UW/Research/rasm/25_km/veg_params_25km.txt\n"
     ]
    }
   ],
   "source": [
    "data, attributes = read_netcdf(ncparams_25km)\n",
    "cells, yinds, xinds = find_gridcells(data['run_cell'])\n",
    "rootzones = data['root_depth'].shape[1]\n",
    "veg(data, xinds, yinds, veg_file, rootzones=3, global_lai=True)"
   ]
  },
  {
   "cell_type": "code",
   "execution_count": 17,
   "metadata": {
    "collapsed": false
   },
   "outputs": [
    {
     "name": "stdout",
     "output_type": "stream",
     "text": [
      "cellnum\n",
      "AreaFract\n",
      "elevation\n",
      "Pfactor\n",
      "finished writing snow parameter file: /Users/diana/Dropbox/UW/Research/rasm/25_km/snow_params_25km.txt\n"
     ]
    }
   ],
   "source": [
    "snow(data, xinds, yinds, snow_file)"
   ]
  },
  {
   "cell_type": "code",
   "execution_count": 19,
   "metadata": {
    "collapsed": false
   },
   "outputs": [],
   "source": [
    "import xarray as xr\n",
    "u = xr.open_dataset(ncparams_25km)"
   ]
  },
  {
   "cell_type": "code",
   "execution_count": 30,
   "metadata": {
    "collapsed": false
   },
   "outputs": [
    {
     "data": {
      "text/plain": [
       "(3, 12, 413, 551)"
      ]
     },
     "execution_count": 30,
     "metadata": {},
     "output_type": "execute_result"
    }
   ],
   "source": [
    "u.root_fract.values.shape"
   ]
  },
  {
   "cell_type": "code",
   "execution_count": 31,
   "metadata": {
    "collapsed": false
   },
   "outputs": [
    {
     "data": {
      "text/plain": [
       "(3, 12, 413, 551)"
      ]
     },
     "execution_count": 31,
     "metadata": {},
     "output_type": "execute_result"
    }
   ],
   "source": [
    "u.root_depth.values.shape"
   ]
  },
  {
   "cell_type": "code",
   "execution_count": 32,
   "metadata": {
    "collapsed": false
   },
   "outputs": [
    {
     "data": {
      "text/plain": [
       "(12, 12, 413, 551)"
      ]
     },
     "execution_count": 32,
     "metadata": {},
     "output_type": "execute_result"
    }
   ],
   "source": [
    "u.LAI.values.shape"
   ]
  },
  {
   "cell_type": "code",
   "execution_count": 28,
   "metadata": {
    "collapsed": false
   },
   "outputs": [
    {
     "name": "stdout",
     "output_type": "stream",
     "text": [
      "0\n",
      "1\n",
      "2\n"
     ]
    }
   ],
   "source": [
    "rootzones = 3\n",
    "for k in range(rootzones):\n",
    "    print(k)"
   ]
  },
  {
   "cell_type": "code",
   "execution_count": 37,
   "metadata": {
    "collapsed": false
   },
   "outputs": [
    {
     "data": {
      "text/plain": [
       "12"
      ]
     },
     "execution_count": 37,
     "metadata": {},
     "output_type": "execute_result"
    }
   ],
   "source": [
    "data['root_depth'].shape[1]"
   ]
  },
  {
   "cell_type": "code",
   "execution_count": null,
   "metadata": {
    "collapsed": true
   },
   "outputs": [],
   "source": []
  }
 ],
 "metadata": {
  "kernelspec": {
   "display_name": "Python 3",
   "language": "python",
   "name": "python3"
  },
  "language_info": {
   "codemirror_mode": {
    "name": "ipython",
    "version": 3
   },
   "file_extension": ".py",
   "mimetype": "text/x-python",
   "name": "python",
   "nbconvert_exporter": "python",
   "pygments_lexer": "ipython3",
   "version": "3.5.0rc4"
  }
 },
 "nbformat": 4,
 "nbformat_minor": 0
}
