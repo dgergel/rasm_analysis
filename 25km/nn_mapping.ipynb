{
 "cells": [
  {
   "cell_type": "code",
   "execution_count": 28,
   "metadata": {
    "collapsed": true
   },
   "outputs": [],
   "source": [
    "%matplotlib inline\n",
    "import matplotlib.pyplot as plt\n",
    "import numpy as np\n",
    "import argparse\n",
    "import subprocess\n",
    "import os\n",
    "from scipy.spatial import cKDTree\n",
    "from netCDF4 import Dataset, default_fillvals\n",
    "import xarray as xr\n",
    "import xarray.ufuncs as xu\n"
   ]
  },
  {
   "cell_type": "code",
   "execution_count": 3,
   "metadata": {
    "collapsed": true
   },
   "outputs": [],
   "source": [
    "# import NetCDF params file\n",
    "direc = '/Users/diana/Dropbox/UW/Research/rasm/25_km'\n",
    "ncparams_50km = 'vic_params_joe_copy.nc'\n",
    "params_50km = xr.open_dataset(os.path.join(direc, ncparams_50km))\n",
    "domain_25km = xr.open_dataset(os.path.join(direc, 'domain.lnd.wr25b_ar9v4.170413.nc'))"
   ]
  },
  {
   "cell_type": "code",
   "execution_count": 27,
   "metadata": {
    "collapsed": false
   },
   "outputs": [
    {
     "data": {
      "text/plain": [
       "<xarray.DataArray 'xc' (nj: 413, ni: 551)>\n",
       "array([[-170.607248, -170.524011, -170.440378, ...,  -66.122572,  -65.999494,\n",
       "         -65.876997],\n",
       "       [-170.733438, -170.650354, -170.566888, ...,  -65.985853,  -65.862836,\n",
       "         -65.740408],\n",
       "       [-170.859995, -170.777063, -170.693765, ...,  -65.848539,  -65.725599,\n",
       "         -65.603239],\n",
       "       ..., \n",
       "       [ 123.609935,  123.52798 ,  123.445659, ...,   17.030948,   16.90845 ,\n",
       "          16.786548],\n",
       "       [ 123.481227,  123.399104,  123.3166  , ...,   17.17176 ,   17.049175,\n",
       "          16.927192],\n",
       "       [ 123.35287 ,  123.27058 ,  123.187908, ...,   17.311965,   17.189304,\n",
       "          17.067237]])\n",
       "Coordinates:\n",
       "    xc       (nj, ni) float64 -170.6 -170.5 -170.4 -170.4 -170.3 -170.2 ...\n",
       "    yc       (nj, ni) float64 16.25 16.38 16.5 16.62 16.74 16.86 16.98 17.1 ...\n",
       "Dimensions without coordinates: nj, ni\n",
       "Attributes:\n",
       "    long_name:  longitude of grid cell center\n",
       "    units:      degrees_east\n",
       "    bounds:     xv"
      ]
     },
     "execution_count": 27,
     "metadata": {},
     "output_type": "execute_result"
    }
   ],
   "source": [
    "domain_25km.xc"
   ]
  },
  {
   "cell_type": "code",
   "execution_count": 5,
   "metadata": {
    "collapsed": false
   },
   "outputs": [
    {
     "data": {
      "text/plain": [
       "<xarray.DataArray 'lons' ()>\n",
       "array(179.9969)"
      ]
     },
     "execution_count": 5,
     "metadata": {},
     "output_type": "execute_result"
    }
   ],
   "source": [
    "params_50km.lons.max()"
   ]
  },
  {
   "cell_type": "code",
   "execution_count": 6,
   "metadata": {
    "collapsed": true
   },
   "outputs": [],
   "source": [
    "def lon_lat_to_cartesian(lon, lat, radius=1):\n",
    "    \"\"\"\n",
    "    calculates lon, lat coordinates of a point on a sphere with\n",
    "    radius radius\n",
    "    \"\"\"\n",
    "\n",
    "#     # Unpack xarray object into plane arrays\n",
    "#     if hasattr(lon, 'data'):\n",
    "#         lon = lon.data\n",
    "#     if hasattr(lat, 'data'):\n",
    "#         lat = lat.data\n",
    "\n",
    "#     if lon.ndim != lat.ndim:\n",
    "#         raise ValueError('coordinate must share the same number of dimensions')\n",
    "\n",
    "#     if lon.ndim == 1:\n",
    "#         lon, lat = np.meshgrid(lon, lat)\n",
    "\n",
    "    lon_r = xu.radians(lon)\n",
    "    lat_r = xu.radians(lat)\n",
    "\n",
    "    x = radius * xu.cos(lat_r) * xu.cos(lon_r)\n",
    "    y = radius * xu.cos(lat_r) * xu.sin(lon_r)\n",
    "    z = radius * xu.sin(lat_r)\n",
    "\n",
    "    return x.flatten(), y.flatten(), z.flatten()"
   ]
  },
  {
   "cell_type": "code",
   "execution_count": 7,
   "metadata": {
    "collapsed": true
   },
   "outputs": [],
   "source": [
    "def latlon2yx(plons, plats, glons, glats):\n",
    "    '''find y x coordinates'''\n",
    "\n",
    "    if glons.ndim == 1 or glats.ndim == 1:\n",
    "        glons, glats = np.meshgrid(glons, glats)\n",
    "\n",
    "    px, py, pz = lon_lat_to_cartesian(plons, plats)\n",
    "    gx, gy, gz = lon_lat_to_cartesian(glons, glats)\n",
    "\n",
    "    combined = np.dstack(([gx, gy, gz]))[0]\n",
    "    points = list(np.vstack((px, py, pz)).transpose())\n",
    "\n",
    "    mytree = cKDTree(combined)\n",
    "    dist, indexes = mytree.query(points, k=1)\n",
    "    y, x = np.unravel_index(np.array(indexes), glons.shape)\n",
    "    return y, x"
   ]
  },
  {
   "cell_type": "markdown",
   "metadata": {},
   "source": [
    "exclude lats/lngs that aren't in land mask and get indices for the land gridcells "
   ]
  },
  {
   "cell_type": "code",
   "execution_count": 8,
   "metadata": {
    "collapsed": false
   },
   "outputs": [],
   "source": [
    "# 25km land lats/lngs\n",
    "yc_land_25km = domain_25km.yc.where(domain_25km.mask == 1, drop=True)\n",
    "xc_land_25km = domain_25km.xc.where(domain_25km.mask == 1, drop=True)\n",
    "land_lats_25km = yc_land_25km.values[~np.isnan(yc_land_25km.values)]\n",
    "land_lons_25km = xc_land_25km.values[~np.isnan(xc_land_25km.values)]\n",
    "nj_inds_25km, ni_inds_25km = np.nonzero(domain_25km.mask.values)\n",
    "\n",
    "# 50km land lats/lngs\n",
    "yc_land_50km = params_50km.yc.where(params_50km.run_cell == 1, drop=True)\n",
    "xc_land_50km = params_50km.xc.where(params_50km.run_cell == 1, drop=True)\n",
    "land_lats_50km = yc_land_50km.values[~np.isnan(yc_land_50km.values)]\n",
    "land_lons_50km = xc_land_50km.values[~np.isnan(xc_land_50km.values)]\n",
    "nj_inds_50km, ni_inds_50km = np.nonzero(params_50km.run_cell.values)"
   ]
  },
  {
   "cell_type": "markdown",
   "metadata": {},
   "source": [
    "get indices for mapping back into 50km\n",
    "\n",
    "## NOTE: plats/plons will come from the 50km grid, the glons/glats will be from the 25km grid "
   ]
  },
  {
   "cell_type": "code",
   "execution_count": 9,
   "metadata": {
    "collapsed": false
   },
   "outputs": [],
   "source": [
    "# y_inds, x_inds = latlon2yx(land_lons_50km, land_lats_50km, land_lons_25km, land_lats_25km)"
   ]
  },
  {
   "cell_type": "markdown",
   "metadata": {
    "collapsed": true
   },
   "source": [
    "try using `scipy.ndimage.zoom` instead"
   ]
  },
  {
   "cell_type": "code",
   "execution_count": 13,
   "metadata": {
    "collapsed": false
   },
   "outputs": [],
   "source": [
    "from scipy import ndimage\n",
    "# ten_by_ten = ndimage.zoom(five_by_five, 2, order=0)\n",
    "u = ndimage.zoom(params_50km.mask.values, 2, order=0)"
   ]
  },
  {
   "cell_type": "code",
   "execution_count": 18,
   "metadata": {
    "collapsed": false
   },
   "outputs": [
    {
     "data": {
      "text/plain": [
       "<xarray.Dataset>\n",
       "Dimensions:  (ni: 551, nj: 413, nv: 4)\n",
       "Coordinates:\n",
       "    xc       (nj, ni) float64 -170.6 -170.5 -170.4 -170.4 -170.3 -170.2 ...\n",
       "    yc       (nj, ni) float64 16.25 16.38 16.5 16.62 16.74 16.86 16.98 17.1 ...\n",
       "Dimensions without coordinates: ni, nj, nv\n",
       "Data variables:\n",
       "    xv       (nj, ni, nv) float64 -170.6 -170.5 -170.6 -170.7 -170.5 -170.4 ...\n",
       "    yv       (nj, ni, nv) float64 16.15 16.27 16.35 16.23 16.27 16.4 16.48 ...\n",
       "    mask     (nj, ni) int32 0 0 0 0 0 0 0 0 0 0 0 0 0 0 0 0 0 0 0 0 0 0 0 0 ...\n",
       "    area     (nj, ni) float64 6.398e-06 6.417e-06 6.437e-06 6.458e-06 ...\n",
       "    frac     (nj, ni) float64 0.0 0.0 0.0 0.0 0.0 0.0 0.0 0.0 0.0 0.0 0.0 ...\n",
       "Attributes:\n",
       "    title:               CESM domain data:\n",
       "    Conventions:         CF-1.0\n",
       "    source_code:         SVN $Id: gen_domain.F90 41914 2012-11-13 21:58:37Z m...\n",
       "    SVN_url:              $URL: https://svn-ccsm-models.cgd.ucar.edu/tools/ma...\n",
       "    Compiler_Optimized:  FALSE\n",
       "    hostname:            geyser03\n",
       "    history:             created by tcraig, 2017-04-13 19:33:31\n",
       "    source:              /glade/p/cesmdata/cseg/inputdata/cpl/cpl6/map_ar9v4_...\n",
       "    map_domain_a:        /glade/p/cesmdata/cseg/mapping/grids/ar9v4_100920.nc\n",
       "    map_domain_b:        /glade/p/cesmdata/cseg/mapping/grids/wr25b_170413.nc\n",
       "    map_grid_file_ocn:   /glade/p/cesmdata/cseg/mapping/grids/ar9v4_100920.nc\n",
       "    map_grid_file_atm:   /glade/p/cesmdata/cseg/mapping/grids/wr25b_170413.nc"
      ]
     },
     "execution_count": 18,
     "metadata": {},
     "output_type": "execute_result"
    }
   ],
   "source": [
    "domain_25km"
   ]
  },
  {
   "cell_type": "code",
   "execution_count": 22,
   "metadata": {
    "collapsed": false
   },
   "outputs": [],
   "source": [
    "domain_25km['mask_from_params'] = domain_25km.mask"
   ]
  },
  {
   "cell_type": "code",
   "execution_count": 25,
   "metadata": {
    "collapsed": false
   },
   "outputs": [
    {
     "name": "stdout",
     "output_type": "stream",
     "text": [
      "(413, 551)\n",
      "(410, 550)\n"
     ]
    }
   ],
   "source": [
    "# domain_25km['mask_from_params'].values = u\n",
    "print(domain_25km['mask_from_params'].shape)\n",
    "print(u.shape)"
   ]
  },
  {
   "cell_type": "code",
   "execution_count": null,
   "metadata": {
    "collapsed": true
   },
   "outputs": [],
   "source": []
  }
 ],
 "metadata": {
  "kernelspec": {
   "display_name": "Python 3",
   "language": "python",
   "name": "python3"
  },
  "language_info": {
   "codemirror_mode": {
    "name": "ipython",
    "version": 3
   },
   "file_extension": ".py",
   "mimetype": "text/x-python",
   "name": "python",
   "nbconvert_exporter": "python",
   "pygments_lexer": "ipython3",
   "version": "3.5.0rc4"
  }
 },
 "nbformat": 4,
 "nbformat_minor": 0
}
