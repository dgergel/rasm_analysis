{
 "cells": [
  {
   "cell_type": "code",
   "execution_count": 1,
   "metadata": {
    "collapsed": true
   },
   "outputs": [],
   "source": [
    "%matplotlib inline\n",
    "import numpy as np\n",
    "from numpy import random\n",
    "import argparse\n",
    "import subprocess\n",
    "import os\n",
    "from scipy.spatial import cKDTree\n",
    "from netCDF4 import Dataset, default_fillvals\n",
    "import xarray as xr\n",
    "import xarray.ufuncs as xu\n"
   ]
  },
  {
   "cell_type": "markdown",
   "metadata": {},
   "source": [
    "create 5 x 5 array of random integers"
   ]
  },
  {
   "cell_type": "code",
   "execution_count": 79,
   "metadata": {
    "collapsed": false
   },
   "outputs": [],
   "source": [
    "# five_by_five = random.random_integers(0, 100, (5, 5))\n",
    "five_by_five = np.array(range(1, 26, 1)).reshape(5,5)"
   ]
  },
  {
   "cell_type": "code",
   "execution_count": 82,
   "metadata": {
    "collapsed": false
   },
   "outputs": [
    {
     "data": {
      "text/plain": [
       "array([[ 1,  2,  3,  4,  5],\n",
       "       [ 6,  7,  8,  9, 10],\n",
       "       [11, 12, 13, 14, 15],\n",
       "       [16, 17, 18, 19, 20],\n",
       "       [21, 22, 23, 24, 25]])"
      ]
     },
     "execution_count": 82,
     "metadata": {},
     "output_type": "execute_result"
    }
   ],
   "source": [
    "five_by_five"
   ]
  },
  {
   "cell_type": "markdown",
   "metadata": {},
   "source": [
    "lats and lons for 5x5 array and 10x10 array"
   ]
  },
  {
   "cell_type": "code",
   "execution_count": 45,
   "metadata": {
    "collapsed": true
   },
   "outputs": [],
   "source": [
    "lats_5x5 = np.arange(41, 43.5, 0.5)\n",
    "lons_5x5 = np.arange(93, 95.5, 0.5)\n",
    "\n",
    "lats_10x10 = np.arange(40.75, 43.25, 0.25)\n",
    "lons_10x10 = np.arange(92.75, 95.25, 0.25)"
   ]
  },
  {
   "cell_type": "code",
   "execution_count": 58,
   "metadata": {
    "collapsed": true
   },
   "outputs": [],
   "source": [
    "xv_5x5, yv_5x5 = np.meshgrid(lats_5x5, lons_5x5)\n",
    "xv_10x10, yv_10x10 = np.meshgrid(lats_10x10, lons_10x10)"
   ]
  },
  {
   "cell_type": "code",
   "execution_count": 46,
   "metadata": {
    "collapsed": true
   },
   "outputs": [],
   "source": [
    "def lon_lat_to_cartesian(lon, lat, radius=1):\n",
    "    \"\"\"\n",
    "    calculates lon, lat coordinates of a point on a sphere with\n",
    "    radius radius\n",
    "    \"\"\"\n",
    "\n",
    "#     # Unpack xarray object into plane arrays\n",
    "#     if hasattr(lon, 'data'):\n",
    "#         lon = lon.data\n",
    "#     if hasattr(lat, 'data'):\n",
    "#         lat = lat.data\n",
    "\n",
    "#     if lon.ndim != lat.ndim:\n",
    "#         raise ValueError('coordinate must share the same number of dimensions')\n",
    "\n",
    "#     if lon.ndim == 1:\n",
    "#         lon, lat = np.meshgrid(lon, lat)\n",
    "\n",
    "    lon_r = xu.radians(lon)\n",
    "    lat_r = xu.radians(lat)\n",
    "\n",
    "    x = radius * xu.cos(lat_r) * xu.cos(lon_r)\n",
    "    y = radius * xu.cos(lat_r) * xu.sin(lon_r)\n",
    "    z = radius * xu.sin(lat_r)\n",
    "\n",
    "    return x.flatten(), y.flatten(), z.flatten()"
   ]
  },
  {
   "cell_type": "code",
   "execution_count": 47,
   "metadata": {
    "collapsed": true
   },
   "outputs": [],
   "source": [
    "def latlon2yx(plons, plats, glons, glats):\n",
    "    '''find y x coordinates'''\n",
    "\n",
    "    if glons.ndim == 1 or glats.ndim == 1:\n",
    "        glons, glats = np.meshgrid(glons, glats)\n",
    "\n",
    "    px, py, pz = lon_lat_to_cartesian(plons, plats)\n",
    "    gx, gy, gz = lon_lat_to_cartesian(glons, glats)\n",
    "\n",
    "    combined = np.dstack(([gx, gy, gz]))[0]\n",
    "    points = list(np.vstack((px, py, pz)).transpose())\n",
    "\n",
    "    mytree = cKDTree(combined)\n",
    "    dist, indexes = mytree.query(points, k=1)\n",
    "    y, x = np.unravel_index(np.array(indexes), glons.shape)\n",
    "    return y, x"
   ]
  },
  {
   "cell_type": "markdown",
   "metadata": {},
   "source": [
    "code used for RASM parameters and domain file array values "
   ]
  },
  {
   "cell_type": "code",
   "execution_count": 48,
   "metadata": {
    "collapsed": false
   },
   "outputs": [
    {
     "data": {
      "text/plain": [
       "'# 25km land lats/lngs\\nyc_land_25km = domain_25km.yc.where(domain_25km.mask == 1, drop=True)\\nxc_land_25km = domain_25km.xc.where(domain_25km.mask == 1, drop=True)\\nland_lats_25km = yc_land_25km.values[~np.isnan(yc_land_25km.values)]\\nland_lons_25km = xc_land_25km.values[~np.isnan(xc_land_25km.values)]\\nnj_inds_25km, ni_inds_25km = np.nonzero(domain_25km.mask.values)\\n\\n# 50km land lats/lngs\\nyc_land_50km = params_50km.yc.where(params_50km.run_cell == 1, drop=True)\\nxc_land_50km = params_50km.xc.where(params_50km.run_cell == 1, drop=True)\\nland_lats_50km = yc_land_50km.values[~np.isnan(yc_land_50km.values)]\\nland_lons_50km = xc_land_50km.values[~np.isnan(xc_land_50km.values)]\\nnj_inds_50km, ni_inds_50km = np.nonzero(params_50km.run_cell.values)'"
      ]
     },
     "execution_count": 48,
     "metadata": {},
     "output_type": "execute_result"
    }
   ],
   "source": [
    "'''# 25km land lats/lngs\n",
    "yc_land_25km = domain_25km.yc.where(domain_25km.mask == 1, drop=True)\n",
    "xc_land_25km = domain_25km.xc.where(domain_25km.mask == 1, drop=True)\n",
    "land_lats_25km = yc_land_25km.values[~np.isnan(yc_land_25km.values)]\n",
    "land_lons_25km = xc_land_25km.values[~np.isnan(xc_land_25km.values)]\n",
    "nj_inds_25km, ni_inds_25km = np.nonzero(domain_25km.mask.values)\n",
    "\n",
    "# 50km land lats/lngs\n",
    "yc_land_50km = params_50km.yc.where(params_50km.run_cell == 1, drop=True)\n",
    "xc_land_50km = params_50km.xc.where(params_50km.run_cell == 1, drop=True)\n",
    "land_lats_50km = yc_land_50km.values[~np.isnan(yc_land_50km.values)]\n",
    "land_lons_50km = xc_land_50km.values[~np.isnan(xc_land_50km.values)]\n",
    "nj_inds_50km, ni_inds_50km = np.nonzero(params_50km.run_cell.values)'''"
   ]
  },
  {
   "cell_type": "markdown",
   "metadata": {},
   "source": [
    "get indices for mapping back\n",
    "\n",
    "## NOTE: plats/plons will come from the coarser grid, the glons/glats will be from the higher res grid "
   ]
  },
  {
   "cell_type": "code",
   "execution_count": 63,
   "metadata": {
    "collapsed": true
   },
   "outputs": [],
   "source": [
    "y_inds, x_inds = latlon2yx(yv_10x10, xv_10x10, yv_5x5, xv_5x5)"
   ]
  },
  {
   "cell_type": "markdown",
   "metadata": {},
   "source": [
    "map coarser res values into higher res array "
   ]
  },
  {
   "cell_type": "code",
   "execution_count": 73,
   "metadata": {
    "collapsed": false
   },
   "outputs": [],
   "source": [
    "tenbyten = np.ones(shape=(100, 1))\n",
    "for i in range(len(y_inds)):\n",
    "    tenbyten[i] = five_by_five[y_inds[i], x_inds[i]]\n",
    "tenbyten = tenbyten.reshape(10, 10)\n"
   ]
  },
  {
   "cell_type": "markdown",
   "metadata": {},
   "source": [
    "check values of 5x5 array"
   ]
  },
  {
   "cell_type": "code",
   "execution_count": 74,
   "metadata": {
    "collapsed": false
   },
   "outputs": [
    {
     "data": {
      "text/plain": [
       "array([[ 8, 84, 38, 61, 76],\n",
       "       [39, 82, 43, 66,  2],\n",
       "       [95, 69, 25, 17, 34],\n",
       "       [85, 45, 39, 43, 78],\n",
       "       [19, 34, 31, 86, 59]])"
      ]
     },
     "execution_count": 74,
     "metadata": {},
     "output_type": "execute_result"
    }
   ],
   "source": [
    "five_by_five"
   ]
  },
  {
   "cell_type": "markdown",
   "metadata": {},
   "source": [
    "look at whether or not 10x10 array makes sense given the 5x5 original one"
   ]
  },
  {
   "cell_type": "code",
   "execution_count": 75,
   "metadata": {
    "collapsed": false
   },
   "outputs": [
    {
     "data": {
      "text/plain": [
       "array([[  8.,   8.,  84.,  84.,  38.,  38.,  61.,  61.,  76.,  76.],\n",
       "       [  8.,   8.,   8.,  84.,  84.,  38.,  38.,  61.,  61.,  76.],\n",
       "       [ 39.,  39.,  82.,  82.,  43.,  43.,  66.,  66.,   2.,   2.],\n",
       "       [ 39.,  39.,  82.,  82.,  82.,  43.,  43.,  66.,  66.,   2.],\n",
       "       [ 39.,  39.,  82.,  82.,  43.,  43.,  66.,  66.,   2.,   2.],\n",
       "       [ 95.,  95.,  95.,  69.,  69.,  25.,  25.,  17.,  17.,  34.],\n",
       "       [ 85.,  95.,  45.,  69.,  25.,  25.,  43.,  17.,  34.,  34.],\n",
       "       [ 85.,  85.,  45.,  45.,  45.,  39.,  39.,  43.,  43.,  78.],\n",
       "       [ 85.,  85.,  45.,  45.,  39.,  39.,  43.,  43.,  78.,  78.],\n",
       "       [ 19.,  19.,  19.,  34.,  34.,  31.,  31.,  86.,  86.,  59.]])"
      ]
     },
     "execution_count": 75,
     "metadata": {},
     "output_type": "execute_result"
    }
   ],
   "source": [
    "tenbyten"
   ]
  },
  {
   "cell_type": "markdown",
   "metadata": {},
   "source": [
    "try using `scipy.misc.imresize` instead "
   ]
  },
  {
   "cell_type": "code",
   "execution_count": null,
   "metadata": {
    "collapsed": true
   },
   "outputs": [],
   "source": [
    "five_by_five = np.array(range(1, 26, 1)).reshape(5,5)"
   ]
  },
  {
   "cell_type": "code",
   "execution_count": 84,
   "metadata": {
    "collapsed": false
   },
   "outputs": [],
   "source": [
    "from scipy import misc\n",
    "ten_by_ten = misc.imresize(five_by_five, size=(10, 10), interp='nearest', mode=None)"
   ]
  },
  {
   "cell_type": "code",
   "execution_count": 87,
   "metadata": {
    "collapsed": false
   },
   "outputs": [
    {
     "data": {
      "text/plain": [
       "array([[ 1,  2,  3,  4,  5],\n",
       "       [ 6,  7,  8,  9, 10],\n",
       "       [11, 12, 13, 14, 15],\n",
       "       [16, 17, 18, 19, 20],\n",
       "       [21, 22, 23, 24, 25]])"
      ]
     },
     "execution_count": 87,
     "metadata": {},
     "output_type": "execute_result"
    }
   ],
   "source": [
    "five_by_five"
   ]
  },
  {
   "cell_type": "code",
   "execution_count": 85,
   "metadata": {
    "collapsed": false
   },
   "outputs": [
    {
     "data": {
      "text/plain": [
       "array([[  0,   0,  11,  11,  21,  21,  32,  32,  42,  42],\n",
       "       [  0,   0,  11,  11,  21,  21,  32,  32,  42,  42],\n",
       "       [ 53,  53,  64,  64,  74,  74,  85,  85,  96,  96],\n",
       "       [ 53,  53,  64,  64,  74,  74,  85,  85,  96,  96],\n",
       "       [106, 106, 117, 117, 127, 127, 138, 138, 149, 149],\n",
       "       [106, 106, 117, 117, 127, 127, 138, 138, 149, 149],\n",
       "       [159, 159, 170, 170, 181, 181, 191, 191, 202, 202],\n",
       "       [159, 159, 170, 170, 181, 181, 191, 191, 202, 202],\n",
       "       [212, 212, 223, 223, 234, 234, 244, 244, 255, 255],\n",
       "       [212, 212, 223, 223, 234, 234, 244, 244, 255, 255]], dtype=uint8)"
      ]
     },
     "execution_count": 85,
     "metadata": {},
     "output_type": "execute_result"
    }
   ],
   "source": [
    "ten_by_ten"
   ]
  },
  {
   "cell_type": "markdown",
   "metadata": {},
   "source": [
    "try using `scipy.ndimage.zoom` instead"
   ]
  },
  {
   "cell_type": "code",
   "execution_count": 88,
   "metadata": {
    "collapsed": true
   },
   "outputs": [],
   "source": [
    "from scipy import ndimage\n",
    "ten_by_ten = ndimage.zoom(five_by_five, 2, order=0)"
   ]
  },
  {
   "cell_type": "code",
   "execution_count": 89,
   "metadata": {
    "collapsed": false
   },
   "outputs": [
    {
     "data": {
      "text/plain": [
       "array([[ 1,  1,  2,  2,  3,  3,  4,  4,  5,  5],\n",
       "       [ 1,  1,  2,  2,  3,  3,  4,  4,  5,  5],\n",
       "       [ 6,  6,  7,  7,  8,  8,  9,  9, 10, 10],\n",
       "       [ 6,  6,  7,  7,  8,  8,  9,  9, 10, 10],\n",
       "       [11, 11, 12, 12, 13, 13, 14, 14, 15, 15],\n",
       "       [11, 11, 12, 12, 13, 13, 14, 14, 15, 15],\n",
       "       [16, 16, 17, 17, 18, 18, 19, 19, 20, 20],\n",
       "       [16, 16, 17, 17, 18, 18, 19, 19, 20, 20],\n",
       "       [21, 21, 22, 22, 23, 23, 24, 24, 25, 25],\n",
       "       [21, 21, 22, 22, 23, 23, 24, 24, 25, 25]])"
      ]
     },
     "execution_count": 89,
     "metadata": {},
     "output_type": "execute_result"
    }
   ],
   "source": [
    "ten_by_ten"
   ]
  },
  {
   "cell_type": "code",
   "execution_count": null,
   "metadata": {
    "collapsed": true
   },
   "outputs": [],
   "source": []
  }
 ],
 "metadata": {
  "kernelspec": {
   "display_name": "Python 3",
   "language": "python",
   "name": "python3"
  },
  "language_info": {
   "codemirror_mode": {
    "name": "ipython",
    "version": 3
   },
   "file_extension": ".py",
   "mimetype": "text/x-python",
   "name": "python",
   "nbconvert_exporter": "python",
   "pygments_lexer": "ipython3",
   "version": "3.5.0rc4"
  }
 },
 "nbformat": 4,
 "nbformat_minor": 0
}
