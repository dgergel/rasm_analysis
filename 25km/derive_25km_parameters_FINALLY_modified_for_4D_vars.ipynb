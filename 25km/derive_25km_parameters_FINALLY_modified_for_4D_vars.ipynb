{
 "cells": [
  {
   "cell_type": "code",
   "execution_count": 1,
   "metadata": {
    "collapsed": false
   },
   "outputs": [
    {
     "name": "stderr",
     "output_type": "stream",
     "text": [
      "//anaconda/envs/vic_test_env/lib/python3.5/site-packages/matplotlib/__init__.py:1350: UserWarning:  This call to matplotlib.use() has no effect\n",
      "because the backend has already been chosen;\n",
      "matplotlib.use() must be called *before* pylab, matplotlib.pyplot,\n",
      "or matplotlib.backends is imported for the first time.\n",
      "\n",
      "  warnings.warn(_use_error_msg)\n"
     ]
    }
   ],
   "source": [
    "%matplotlib inline\n",
    "import matplotlib.pyplot as plt\n",
    "from tonic.models.vic import (netcdf2vic, compare_soil_params, grid_params, \n",
    "                              ncparam2ascii, vic2netcdf)\n",
    "import numpy as np\n",
    "import argparse\n",
    "import subprocess\n",
    "import os\n",
    "from tonic import version\n",
    "from scipy.spatial import cKDTree\n",
    "from tonic.io import read_netcdf\n",
    "from netCDF4 import Dataset, default_fillvals\n"
   ]
  },
  {
   "cell_type": "code",
   "execution_count": 2,
   "metadata": {
    "collapsed": false
   },
   "outputs": [],
   "source": [
    "# import NetCDF params file\n",
    "direc = '/Users/diana/Dropbox/UW/Research/rasm/25_km'\n",
    "ncparams_filename = 'vic_params_wr50a_vic5.0.dev_20160328.nc'\n",
    "ncparams_file_name_with_snowbands = 'vic_params_wr50a_vic5.0.dev_joe_8312017.nc'\n",
    "nc_params_25km = \"vic_params_wr25b_vic5.0.dev_20170912.nc\"\n",
    "ncparams = os.path.join(direc, ncparams_filename)\n",
    "ncparams_with_snowbands = os.path.join(direc, ncparams_file_name_with_snowbands)\n",
    "ncparams_25km = os.path.join(direc, nc_params_25km)\n",
    "soil_file = os.path.join(direc, 'soil_params.txt')\n",
    "veg_file = os.path.join(direc, 'veg_params.txt')\n",
    "snow_file = os.path.join(direc, 'snow_params.txt')\n",
    "params_25km_full = os.path.join(direc, 'params_25km_full.nc')"
   ]
  },
  {
   "cell_type": "code",
   "execution_count": 3,
   "metadata": {
    "collapsed": true
   },
   "outputs": [],
   "source": [
    "def rasm_soil(data, soil_file):\n",
    "    \"\"\"Write VIC formatted soil parameter file\"\"\"\n",
    "\n",
    "    message = \"\"\"\n",
    "*** ---------------------------------------------------------------------- ***\n",
    "Notes about RASM soil parameter file generations:\n",
    " - To fill in missing grid cells 'mask' variable must be the same as the\n",
    "   domain file mask.\n",
    " - Inactive grid cells will have a dummy line printed for all variables except\n",
    "   the lons/lats.\n",
    " - Any grid cells with nans will be copied from the previous line without nans\n",
    "   or FILL_VALUEs.\n",
    "*** --------------------------------------------------------------------- ***\\n\n",
    "    \"\"\"\n",
    "\n",
    "    print(message)\n",
    "    \n",
    "    FILL_VALUE = -9999\n",
    "\n",
    "    # ---------------------------------------------------------------- #\n",
    "    c = grid_params.Cols(nlayers=3)\n",
    "    f = grid_params.Format(nlayers=3)\n",
    "\n",
    "    c.soil_param['Nveg'] = np.array([0])\n",
    "    f.soil_param['Nveg'] = '%1i'\n",
    "\n",
    "    if 'mask' in data:\n",
    "        mask = 'mask'\n",
    "    elif 'run_cell' in data:\n",
    "        mask = 'run_cell'\n",
    "    else: \n",
    "        raise KeyError(\"Land mask must exist in NetCDF file.\")\n",
    "    \n",
    "    numcells = data[mask].size\n",
    "\n",
    "    arrayshape = (numcells, 1 + np.max([np.max(cols) for v, cols in\n",
    "                                        c.soil_param.items()]))\n",
    "    soil_params = np.empty(arrayshape)\n",
    "    dtypes = ['%1i'] * arrayshape[1]\n",
    "    # ---------------------------------------------------------------- #\n",
    "\n",
    "    # ---------------------------------------------------------------- #\n",
    "    # find nearest real grid cell for all grid cells where frozen soil mask is\n",
    "    # active\n",
    "    # This is needed because the RASM mask is often different than existing\n",
    "    # datasets\n",
    "    print('Finding/filling nearest neighbors for all variables based on '\n",
    "          'fs_active mask')\n",
    "\n",
    "    # real mask (from input dataset)\n",
    "    ry, rx = np.nonzero(data['fs_active'])\n",
    "\n",
    "    # fill mask (we will fill all of these grid cells with their nearest real\n",
    "    # value)\n",
    "    my_mask = np.zeros(data['fs_active'].shape, dtype=int)\n",
    "    my_mask[ry, rx] = 1\n",
    "    print(\"filled mask\")\n",
    "\n",
    "    fy, fx = np.nonzero(my_mask == 0)\n",
    "\n",
    "    # Find nearest real grid cell\n",
    "    combined = np.dstack(([data['yc'][ry, rx], data['xc'][ry, rx]]))[0]\n",
    "    points = list(np.vstack((data['yc'][fy, fx],\n",
    "                             data['xc'][fy, fx])).transpose())\n",
    "    mytree = cKDTree(combined)\n",
    "    dist, inds = mytree.query(points, k=1)\n",
    "    print(\"found nearest real grid cells\")\n",
    "\n",
    "    # loop over all variables and fill in values\n",
    "    for var in c.soil_param:\n",
    "        if var not in ['run_cell', 'grid_cell', 'lats', 'lons', 'fs_active',\n",
    "                       'Nveg']:\n",
    "            # unmask the variable\n",
    "            data[var] = np.array(data[var])\n",
    "            # fill with nearest data\n",
    "            if data[var].ndim == 2:\n",
    "                data[var][fy, fx] = data[var][ry[inds], rx[inds]]\n",
    "            elif data[var].ndim == 3:\n",
    "                data[var][:, fy, fx] = data[var][:, ry[inds], rx[inds]]\n",
    "    print(\"looped over all variables and filled in values\")\n",
    "    # ---------------------------------------------------------------- #\n",
    "\n",
    "    # ---------------------------------------------------------------- #\n",
    "    # This is the domain mask\n",
    "    yinds, xinds = np.nonzero(data[mask] == 1)\n",
    "    ymask, xmask = np.nonzero(data[mask] != 1)\n",
    "    # ---------------------------------------------------------------- #\n",
    "\n",
    "    # ---------------------------------------------------------------- #\n",
    "    # Fix problematic avg_T values\n",
    "    print('Finding/filling nearest neighbors for avg_T\\n')\n",
    "\n",
    "    # real mask (from input dataset)\n",
    "    ry, rx = np.nonzero((data['avg_T'] > -50) & (data['avg_T'] < 99))\n",
    "    print(\"got real mask\")\n",
    "\n",
    "    # fill mask (we will fill all of these grid cells with their nearest\n",
    "    # real value)\n",
    "    my_mask = np.zeros(data['avg_T'].shape)\n",
    "    my_mask[ry, rx] = 1\n",
    "\n",
    "    fy, fx = np.nonzero(my_mask == 0)\n",
    "\n",
    "    # Find nearest real grid cell\n",
    "    if len(fy) > 0:\n",
    "        combined = np.dstack(([data['yc'][ry, rx], data['xc'][ry, rx]]))[0]\n",
    "        points = list(np.vstack((data['yc'][fy, fx],\n",
    "                                 data['xc'][fy, fx])).transpose())\n",
    "        mytree = cKDTree(combined)\n",
    "        dist, inds = mytree.query(points, k=1)\n",
    "\n",
    "        data['avg_T'] = np.array(data['avg_T'])\n",
    "        data['avg_T'][fy, fx] = data['avg_T'][ry[inds], rx[inds]]\n",
    "    print(\"found nearest real gridcells the second time\")\n",
    "    # ---------------------------------------------------------------- #\n",
    "\n",
    "    # ---------------------------------------------------------------- #\n",
    "    # For rasm, all cols are shifted one to right to make room for nveg in\n",
    "    # col 0\n",
    "    i = -1\n",
    "    for var, cols in c.soil_param.items():\n",
    "        for col in cols:\n",
    "            dtypes[col] = f.soil_param[var]\n",
    "\n",
    "    for (y, x), maskval in np.ndenumerate(data[mask]):\n",
    "        # advance the row count\n",
    "        i += 1\n",
    "\n",
    "        # put real data\n",
    "        for var in c.soil_param:\n",
    "            cols = c.soil_param[var]\n",
    "            if data[var].ndim == 2:\n",
    "                soil_params[i, cols] = data[var][y, x]\n",
    "            elif data[var].ndim == 3:\n",
    "                for j, col in enumerate(cols):\n",
    "                    soil_params[i, col] = data[var][j, y, x]\n",
    "\n",
    "        # write the grid cell number\n",
    "        soil_params[i, 2] = i + 1\n",
    "    # ---------------------------------------------------------------- #\n",
    "    # ---------------------------------------------------------------- #\n",
    "    # Write phi_s\n",
    "    soil_params[:, c.soil_param['phi_s']] = -999\n",
    "    # ---------------------------------------------------------------- #\n",
    "\n",
    "    # ---------------------------------------------------------------- #\n",
    "    # Write nveg\n",
    "    soil_params[:, 0] = data['Nveg'][:, :].flatten()\n",
    "    # ---------------------------------------------------------------- #\n",
    "\n",
    "    # ---------------------------------------------------------------- #\n",
    "    # Set all grid cells to run\n",
    "    soil_params[:, 1] = 1  # run\n",
    "    soil_params[:, -1] = 1  # run with frozen soils on\n",
    "    # ---------------------------------------------------------------- #\n",
    "\n",
    "    # ---------------------------------------------------------------- #\n",
    "    # rewrite the lons/lats columns\n",
    "    soil_params[:, 3] = data['lats'].flatten()\n",
    "    soil_params[:, 4] = data['lons'].flatten()\n",
    "\n",
    "    assert soil_params[-1, 3] == data['lats'][y, x]\n",
    "    assert soil_params[-1, 4] == data['lons'][y, x]\n",
    "    # ---------------------------------------------------------------- #\n",
    "\n",
    "    # ---------------------------------------------------------------- #\n",
    "    # check for nans\n",
    "    # sometimes RASM has land grid cells that the input file does not.\n",
    "    # In this case, we will use the previous lnd grid cell\n",
    "    if np.isnan(soil_params.sum()):\n",
    "        bad_cells = []\n",
    "        replacements = []\n",
    "        for i, cell in enumerate(soil_params):\n",
    "            if np.isnan(np.sum(cell)):\n",
    "                bad_cells.append(i)\n",
    "                j = i\n",
    "                while True:\n",
    "                    j -= 1\n",
    "                    if (FILL_VALUE not in soil_params[j, :]) and \\\n",
    "                            not np.isnan(np.sum(soil_params[j, :])):\n",
    "                        soil_params[i, 5:] = soil_params[j, 5:]\n",
    "                        replacements.append(j)\n",
    "                        break\n",
    "        print('Fixed {0} bad cells'.format(len(bad_cells)))\n",
    "        print('Example: {0}-->{1}'.format(bad_cells[0], replacements[0]))\n",
    "    # ---------------------------------------------------------------- #\n",
    "    # ---------------------------------------------------------------- #\n",
    "    # Print summary of variables\n",
    "    for var, cols in c.soil_param.items():\n",
    "        print('{0: <12}--> min: {1:<09.3f}, max: {2:<09.3f}, mean:'\n",
    "              ' {3:<09.3f}'.format(var,\n",
    "                                   soil_params[:, cols].min(),\n",
    "                                   soil_params[:, cols].max(),\n",
    "                                   soil_params[:, cols].mean()))\n",
    "    # ---------------------------------------------------------------- #\n",
    "\n",
    "    # ---------------------------------------------------------------- #\n",
    "    # Finish up\n",
    "    assert soil_params[-1, 3] == data['lats'][y, x]\n",
    "    assert soil_params[-1, 4] == data['lons'][y, x]\n",
    "    # ---------------------------------------------------------------- #\n",
    "\n",
    "    # ---------------------------------------------------------------- #\n",
    "    # Write the file\n",
    "    print('writing soil parameter file: {0}'.format(soil_file))\n",
    "\n",
    "    np.savetxt(soil_file, soil_params, fmt=dtypes)\n",
    "\n",
    "    print('done RASM with soil')\n",
    "    # ---------------------------------------------------------------- #\n",
    "\n",
    "    return"
   ]
  },
  {
   "cell_type": "code",
   "execution_count": 4,
   "metadata": {
    "collapsed": true
   },
   "outputs": [],
   "source": [
    "def soil(data, xinds, yinds, soil_file):\n",
    "    \"\"\"Write VIC formatted soil parameter file\"\"\"\n",
    "    c = grid_params.cols(nlayers=3)\n",
    "    f = grid_params.format(nlayers=3)\n",
    "\n",
    "    arrayshape = (len(xinds), 1 + np.max([np.max(c.soil_param[var])\n",
    "                                          for var in c.soil_param]))\n",
    "    soil_params = np.zeros(arrayshape)\n",
    "    dtypes = [0] * arrayshape[1]\n",
    "\n",
    "    for var in c.soil_param:\n",
    "        if data[var].ndim == 2:\n",
    "            soil_params[:, c.soil_param[var]] = np.atleast_2d(\n",
    "                data[var][yinds, xinds]).transpose()\n",
    "        elif data[var].ndim == 3:\n",
    "            soil_params[:, c.soil_param[var]] = np.atleast_2d(\n",
    "                data[var][:, yinds, xinds]).transpose()\n",
    "        for col in c.soil_param[var]:\n",
    "            dtypes[col] = f.soil_param[var]\n",
    "\n",
    "    np.savetxt(soil_file, soil_params, fmt=dtypes)\n",
    "\n",
    "    print('finished writing soil parameter file: {0}'.format(soil_file))\n",
    "\n",
    "    return"
   ]
  },
  {
   "cell_type": "code",
   "execution_count": 5,
   "metadata": {
    "collapsed": true
   },
   "outputs": [],
   "source": [
    "def snow(data, xinds, yinds, snow_file):\n",
    "    \"\"\"Write VIC formatted snowband parameter file\"\"\"\n",
    "    try:\n",
    "        snow_bands = data['AreaFract'].shape[0]\n",
    "    except:\n",
    "        snow_bands = 5\n",
    "\n",
    "    c = grid_params.Cols(snow_bands=snow_bands)\n",
    "    f = grid_params.Format(snow_bands=snow_bands)\n",
    "\n",
    "    arrayshape = (len(xinds), 1 + np.max([np.max(c.snow_param[var])\n",
    "                                          for var in c.snow_param]))\n",
    "    snow_params = np.zeros(arrayshape)\n",
    "    dtypes = [0] * arrayshape[1]\n",
    "\n",
    "    for var in c.snow_param:\n",
    "        print(var)\n",
    "        if data[var].ndim == 2:\n",
    "            snow_params[:, c.snow_param[var]] = np.atleast_2d(\n",
    "                data[var][yinds, xinds]).transpose()\n",
    "        elif data[var].ndim == 3:\n",
    "            snow_params[:, c.snow_param[var]] = np.atleast_2d(\n",
    "                data[var][:, yinds, xinds]).transpose()\n",
    "        for col in c.snow_param[var]:\n",
    "            dtypes[col] = f.snow_param[var]\n",
    "\n",
    "    np.savetxt(snow_file, snow_params, fmt=dtypes)\n",
    "\n",
    "    print('finished writing snow parameter file: {0}'.format(snow_file))\n",
    "\n",
    "    return"
   ]
  },
  {
   "cell_type": "code",
   "execution_count": 6,
   "metadata": {
    "collapsed": true
   },
   "outputs": [],
   "source": [
    "def veg(data, xinds, yinds, veg_file, rootzones=3, global_lai=True):\n",
    "    \"\"\"Write VIC formatted veg parameter file\"\"\"\n",
    "\n",
    "    print('writing veg parameter file: {0}'.format(veg_file))\n",
    "\n",
    "    # counter for bad grid cells\n",
    "    count = 0\n",
    "\n",
    "    f = open(veg_file, 'w')\n",
    "\n",
    "    for y, x in zip(yinds, xinds):\n",
    "        gridcell = int(data['gridcell'][y, x])\n",
    "        n_veg = int(data['Nveg'][y, x])\n",
    "        cv = data['Cv'][:, y, x]\n",
    "        veg_class = np.nonzero(cv)[0]\n",
    "\n",
    "        if not len(veg_class) == n_veg:\n",
    "            count += 1\n",
    "\n",
    "        line1 = str(gridcell) + ' ' + str(n_veg) + '\\n'\n",
    "        f.write(line1)\n",
    "        if n_veg > 0:\n",
    "            for j in veg_class:\n",
    "                line2 = [str(j + 1)]\n",
    "                line2.append(str(cv[j]))\n",
    "                for k in range(rootzones):\n",
    "                    line2.append(str(data['root_depth'][j, k, y, x]))\n",
    "                    line2.append(str(data['root_fract'][j, k, y, x]))\n",
    "                line2.append('\\n')\n",
    "                f.write(' '.join(line2))\n",
    "                if global_lai:\n",
    "                    line3 = []\n",
    "                    for m in range(12):\n",
    "                        line3.append(str(data['LAI'][j, m, y, x]))\n",
    "                    line3.append('\\n')\n",
    "                    f.write(' '.join(line3))\n",
    "    f.close()\n",
    "\n",
    "    print('{0} grid cells have unequal veg_classes'.format(count))\n",
    "    print('finished writing veg parameter file: {0}'.format(veg_file))\n",
    "\n",
    "    return"
   ]
  },
  {
   "cell_type": "code",
   "execution_count": 7,
   "metadata": {
    "collapsed": true
   },
   "outputs": [],
   "source": [
    "def subset(param_file, upleft=False, lowright=False, outfiles=1,\n",
    "           soil_file=False, snow_file=False,\n",
    "           veg_file=False, project=None,\n",
    "           nijssen2arno=False):\n",
    "    print(\"in subset function\")\n",
    "    data, attributes = read_netcdf(param_file)\n",
    "\n",
    "    if nijssen2arno:\n",
    "        import NIJSSEN2001_to_ARNO\n",
    "        data = NIJSSEN2001_to_ARNO.convert(data)\n",
    "        \n",
    "    if 'mask' in data:\n",
    "        mask = 'mask'\n",
    "    elif 'run_cell' in data:\n",
    "        mask = 'run_cell'\n",
    "    else: \n",
    "        raise KeyError(\"Land mask must exist in NetCDF file.\")\n",
    "\n",
    "    if project:\n",
    "        print('Project Configuration {0}'.format(project))\n",
    "        if project == 'RASM':\n",
    "            outfiles = 1 \n",
    "            cells, yinds, xinds = find_gridcells(data[mask])\n",
    "            rasm_soil(data, soil_file)\n",
    "        else:\n",
    "            raise ValueError('Unknown project configuration')\n",
    "        return\n",
    "\n",
    "    else:\n",
    "        cells, yinds, xinds = find_gridcells(data[mask])\n",
    "\n",
    "    # write snow and veg files\n",
    "    if veg_file:\n",
    "        rootzones = data['root_depth'].shape[1]\n",
    "        print(\"writing veg file\")\n",
    "        veg(data, xinds, yinds, veg_file, rootzones=rootzones, global_lai=True)\n",
    "        print(\"wrote veg file\")\n",
    "    if snow_file:\n",
    "        print(\"write snow file\")\n",
    "        snow(data, xinds, yinds, snow_file)\n",
    "        print(\"wrote snow file\")\n",
    "\n",
    "    if (upleft and lowright):\n",
    "        inds = ((yinds < upleft[0]) and\n",
    "                (yinds > lowright[0]) and\n",
    "                (xinds < lowright[1]) and\n",
    "                (xinds > upleft[1]))\n",
    "        yinds = yinds[inds]\n",
    "        xinds = xinds[inds]\n",
    "\n",
    "    filesize = np.ceil(cells / outfiles)\n",
    "    for i in range(outfiles):\n",
    "        start = i * filesize\n",
    "        end = i * filesize + filesize\n",
    "        if end > cells:\n",
    "            end = cells\n",
    "        if outfiles > 1:\n",
    "            out_file = '{0}_{1}.txt'.format(soil_file,\n",
    "                                            str(i).zfill(len(str(outfiles))))\n",
    "        else:\n",
    "            out_file = '{0}.txt'.format(soil_file)\n",
    "        soil(data, xinds[start:end], yinds[start:end], out_file)\n",
    "\n",
    "    return"
   ]
  },
  {
   "cell_type": "code",
   "execution_count": 8,
   "metadata": {
    "collapsed": true
   },
   "outputs": [],
   "source": [
    "def find_gridcells(mask):\n",
    "    \"\"\" Find number of grid cells in mask\"\"\"\n",
    "    cells = np.sum(mask)\n",
    "\n",
    "    xinds, yinds = np.nonzero(mask > 0)\n",
    "\n",
    "    return cells, xinds, yinds"
   ]
  },
  {
   "cell_type": "markdown",
   "metadata": {},
   "source": [
    "now derive 25 km parameters from snowbands 25km NetCDF parameter file (otherwise can't produce snow bands file) \n",
    "\n",
    "(NOTE: this was remapped via NN-mapping from 50km to 25km, see `/Users/diana/Dropbox/UW/Research/rasm/25_km/regrid_params.sh` )"
   ]
  },
  {
   "cell_type": "code",
   "execution_count": 9,
   "metadata": {
    "collapsed": true
   },
   "outputs": [],
   "source": [
    "# 25 km parameters file names \n",
    "soil_file = os.path.join(direc, 'soil_params_25km.txt')\n",
    "veg_file = os.path.join(direc, 'veg_params_25km.txt')\n",
    "snow_file = os.path.join(direc, 'snow_params_25km.txt')"
   ]
  },
  {
   "cell_type": "markdown",
   "metadata": {},
   "source": [
    "RASM soil file "
   ]
  },
  {
   "cell_type": "code",
   "execution_count": null,
   "metadata": {
    "collapsed": false
   },
   "outputs": [
    {
     "name": "stdout",
     "output_type": "stream",
     "text": [
      "in subset function\n",
      "Reading input data variables:  odict_keys(['lon', 'lat', 'xv', 'run_cell', 'gridcell', 'lats', 'lons', 'infilt', 'Ds', 'Dsmax', 'Ws', 'c', 'expt', 'Ksat', 'phi_s', 'init_moist', 'elev', 'depth', 'avg_T', 'dp', 'bubble', 'quartz', 'bulk_density', 'soil_density', 'off_gmt', 'Wcr_FRACT', 'Wpwp_FRACT', 'rough', 'snow_rough', 'annual_prec', 'resid_moist', 'fs_active', 'cellnum', 'AreaFract', 'elevation', 'Pfactor', 'Nveg', 'Cv', 'overstory', 'rarc', 'rmin', 'wind_h', 'RGL', 'rad_atten', 'wind_atten', 'trunk_ratio', 'snow_albedo', 'root_depth', 'root_fract', 'displacement', 'albedo', 'veg_rough', 'LAI', 'yv', 'xc', 'yc']) from file: /Users/diana/Dropbox/UW/Research/rasm/25_km/params_25km_full.nc\n",
      "Project Configuration RASM\n",
      "\n",
      "*** ---------------------------------------------------------------------- ***\n",
      "Notes about RASM soil parameter file generations:\n",
      " - To fill in missing grid cells 'mask' variable must be the same as the\n",
      "   domain file mask.\n",
      " - Inactive grid cells will have a dummy line printed for all variables except\n",
      "   the lons/lats.\n",
      " - Any grid cells with nans will be copied from the previous line without nans\n",
      "   or FILL_VALUEs.\n",
      "*** --------------------------------------------------------------------- ***\n",
      "\n",
      "    \n",
      "Finding/filling nearest neighbors for all variables based on fs_active mask\n",
      "filled mask\n"
     ]
    }
   ],
   "source": [
    "# define fill values (for some reason doing this in grid_params.py isn't working)\n",
    "NC_DOUBLE = 'f8'\n",
    "FILLVALUE_F = default_fillvals[NC_DOUBLE]\n",
    "\n",
    "data, attributes = read_netcdf(params_25km_full)\n",
    "\n",
    "# ncparams_25km is the remapped \n",
    "subset(params_25km_full, \n",
    "       upleft=False, \n",
    "       lowright=False, \n",
    "       soil_file=soil_file,\n",
    "       snow_file=False,\n",
    "       veg_file=False,\n",
    "       project='RASM',\n",
    "       nijssen2arno=False)"
   ]
  },
  {
   "cell_type": "markdown",
   "metadata": {},
   "source": [
    "veg and snow files"
   ]
  },
  {
   "cell_type": "code",
   "execution_count": null,
   "metadata": {
    "collapsed": true
   },
   "outputs": [],
   "source": [
    "data, attributes = read_netcdf(params_25km_full)\n",
    "cells, yinds, xinds = find_gridcells(data['mask'])\n",
    "rootzones = data['root_depth'].shape[1]\n",
    "# veg(data, xinds, yinds, veg_file, rootzones=rootzones, global_lai=True)\n",
    "snow(data, xinds, yinds, snow_file)"
   ]
  },
  {
   "cell_type": "code",
   "execution_count": 114,
   "metadata": {
    "collapsed": false
   },
   "outputs": [
    {
     "name": "stdout",
     "output_type": "stream",
     "text": [
      "Reading input data variables:  odict_keys(['yc', 'xc', 'xv', 'yv', 'mask', 'run_cell', 'gridcell', 'lats', 'lons', 'infilt', 'Ds', 'Dsmax', 'Ws', 'c', 'expt', 'Ksat', 'phi_s', 'init_moist', 'elev', 'depth', 'avg_T', 'dp', 'bubble', 'quartz', 'bulk_density', 'soil_density', 'off_gmt', 'Wcr_FRACT', 'Wpwp_FRACT', 'rough', 'snow_rough', 'annual_prec', 'resid_moist', 'fs_active', 'cellnum', 'AreaFract', 'elevation', 'Pfactor', 'month', 'Nveg', 'Cv', 'root_depth', 'root_fract', 'LAI', 'overstory', 'rarc', 'rmin', 'wind_h', 'RGL', 'rad_atten', 'wind_atten', 'trunk_ratio', 'snow_albedo', 'albedo', 'veg_rough', 'displacement']) from file: /Users/diana/Dropbox/UW/Research/rasm/25_km/vic_params_wr50a_vic5.0.dev_joe_8312017.nc\n",
      "Reading input data variables:  odict_keys(['yc', 'xc', 'xv', 'yv', 'mask', 'layer', 'run_cell', 'gridcell', 'lats', 'lons', 'infilt', 'Ds', 'Dsmax', 'Ws', 'c', 'expt', 'Ksat', 'phi_s', 'init_moist', 'elev', 'depth', 'avg_T', 'dp', 'bubble', 'quartz', 'bulk_density', 'soil_density', 'off_gmt', 'Wcr_FRACT', 'Wpwp_FRACT', 'rough', 'snow_rough', 'annual_prec', 'resid_moist', 'fs_active', 'veg_class', 'veg_descr', 'month', 'Nveg', 'Cv', 'root_zone', 'root_depth', 'root_fract', 'LAI', 'overstory', 'rarc', 'rmin', 'wind_h', 'RGL', 'rad_atten', 'wind_atten', 'trunk_ratio', 'albedo', 'veg_rough', 'displacement']) from file: /Users/diana/Dropbox/UW/Research/rasm/25_km/vic_params_wr50a_vic5.0.dev_20160328.nc\n",
      "Reading input data variables:  odict_keys(['lon', 'lat', 'xv', 'run_cell', 'gridcell', 'lats', 'lons', 'infilt', 'Ds', 'Dsmax', 'Ws', 'c', 'expt', 'Ksat', 'phi_s', 'init_moist', 'elev', 'depth', 'avg_T', 'dp', 'bubble', 'quartz', 'bulk_density', 'soil_density', 'off_gmt', 'Wcr_FRACT', 'Wpwp_FRACT', 'rough', 'snow_rough', 'annual_prec', 'resid_moist', 'fs_active', 'cellnum', 'AreaFract', 'elevation', 'Pfactor', 'Nveg', 'Cv', 'overstory', 'rarc', 'rmin', 'wind_h', 'RGL', 'rad_atten', 'wind_atten', 'trunk_ratio', 'snow_albedo']) from file: /Users/diana/Dropbox/UW/Research/rasm/25_km/vic_params_wr25b_vic5.0.dev_20170912.nc\n"
     ]
    }
   ],
   "source": [
    "# data, attributes = read_netcdf(param_file)\n",
    "u, atts = read_netcdf(ncparams_with_snowbands)\n",
    "v, atts = read_netcdf(ncparams)\n",
    "sb, atts = read_netcdf(ncparams_25km)\n",
    "# u['run_cell'].fillna(0).plot()"
   ]
  },
  {
   "cell_type": "code",
   "execution_count": 116,
   "metadata": {
    "collapsed": false
   },
   "outputs": [
    {
     "name": "stdout",
     "output_type": "stream",
     "text": [
      "yes\n"
     ]
    }
   ],
   "source": [
    "cells_runcell = np.sum(u['run_cell'])\n",
    "cells_mask = np.sum(u['mask'])\n",
    "\n",
    "# xinds_runcell, yinds_runcell = np.nonzero(u['run_cell'].fillna(0) > 0)\n",
    "xinds_mask, yinds_mask = np.nonzero(u['mask'] > 0)\n",
    "# u['run_cell']\n",
    "if 'run_cell' in sb:\n",
    "    print(\"yes\")\n",
    "else: \n",
    "    print(\"no\")"
   ]
  },
  {
   "cell_type": "code",
   "execution_count": 3,
   "metadata": {
    "collapsed": false
   },
   "outputs": [
    {
     "name": "stdout",
     "output_type": "stream",
     "text": [
      "Reading input data variables:  odict_keys(['yc', 'xc', 'xv', 'yv', 'mask', 'run_cell', 'gridcell', 'lats', 'lons', 'infilt', 'Ds', 'Dsmax', 'Ws', 'c', 'expt', 'Ksat', 'phi_s', 'init_moist', 'elev', 'depth', 'avg_T', 'dp', 'bubble', 'quartz', 'bulk_density', 'soil_density', 'off_gmt', 'Wcr_FRACT', 'Wpwp_FRACT', 'rough', 'snow_rough', 'annual_prec', 'resid_moist', 'fs_active', 'cellnum', 'AreaFract', 'elevation', 'Pfactor', 'month', 'Nveg', 'Cv', 'root_depth', 'root_fract', 'LAI', 'overstory', 'rarc', 'rmin', 'wind_h', 'RGL', 'rad_atten', 'wind_atten', 'trunk_ratio', 'snow_albedo', 'albedo', 'veg_rough', 'displacement']) from file: /Users/diana/Dropbox/UW/Research/rasm/25_km/vic_params_wr50a_vic5.0.dev_joe_8312017.nc\n",
      "Reading input data variables:  odict_keys(['lon', 'lat', 'xv', 'run_cell', 'gridcell', 'lats', 'lons', 'infilt', 'Ds', 'Dsmax', 'Ws', 'c', 'expt', 'Ksat', 'phi_s', 'init_moist', 'elev', 'depth', 'avg_T', 'dp', 'bubble', 'quartz', 'bulk_density', 'soil_density', 'off_gmt', 'Wcr_FRACT', 'Wpwp_FRACT', 'rough', 'snow_rough', 'annual_prec', 'resid_moist', 'fs_active', 'cellnum', 'AreaFract', 'elevation', 'Pfactor', 'Nveg', 'Cv', 'overstory', 'rarc', 'rmin', 'wind_h', 'RGL', 'rad_atten', 'wind_atten', 'trunk_ratio', 'snow_albedo', 'root_depth', 'root_fract', 'displacement', 'albedo', 'veg_rough', 'LAI', 'yv', 'xc', 'yc']) from file: /Users/diana/Dropbox/UW/Research/rasm/25_km/params_25km_full.nc\n"
     ]
    }
   ],
   "source": [
    "ncparams_50km = 'vic_params_wr50a_vic5.0.dev_joe_8312017.nc'\n",
    "direc = '/Users/diana/Dropbox/UW/Research/rasm/25_km'\n",
    "data_50km, attr_50km = read_netcdf(os.path.join(direc, ncparams_50km))\n",
    "data_25km, attr_25km = read_netcdf(params_25km_full)"
   ]
  },
  {
   "cell_type": "code",
   "execution_count": 19,
   "metadata": {
    "collapsed": false
   },
   "outputs": [
    {
     "data": {
      "text/plain": [
       "masked_array(data =\n",
       " [[-- -- -- ..., -- -- --]\n",
       " [-- -- -- ..., -- -- --]\n",
       " [-- -- -- ..., -- -- --]\n",
       " ..., \n",
       " [-- -- -- ..., 1.0 1.0 1.0]\n",
       " [-- -- -- ..., 1.0 1.0 1.0]\n",
       " [-- -- -- ..., 1.0 1.0 1.0]],\n",
       "             mask =\n",
       " [[ True  True  True ...,  True  True  True]\n",
       " [ True  True  True ...,  True  True  True]\n",
       " [ True  True  True ...,  True  True  True]\n",
       " ..., \n",
       " [ True  True  True ..., False False False]\n",
       " [ True  True  True ..., False False False]\n",
       " [ True  True  True ..., False False False]],\n",
       "       fill_value = 9.96920996839e+36)"
      ]
     },
     "execution_count": 19,
     "metadata": {},
     "output_type": "execute_result"
    }
   ],
   "source": [
    "data_50km['fs_active']"
   ]
  },
  {
   "cell_type": "code",
   "execution_count": 13,
   "metadata": {
    "collapsed": false
   },
   "outputs": [
    {
     "data": {
      "text/plain": [
       "(413, 551)"
      ]
     },
     "execution_count": 13,
     "metadata": {},
     "output_type": "execute_result"
    }
   ],
   "source": [
    "import numpy.ma as ma\n",
    "data_25km['xc'].data.shape\n",
    "# data_25km['xc']"
   ]
  },
  {
   "cell_type": "code",
   "execution_count": 17,
   "metadata": {
    "collapsed": false
   },
   "outputs": [
    {
     "data": {
      "text/plain": [
       "masked_array(data =\n",
       " [[[189.26655329401072 189.26655329401072 189.4332898955023 ...,\n",
       "   205.01010459219845 205.01010459219845 205.01010459219845]\n",
       "  [189.26655329401072 204.69457193422383 189.4332898955023 ...,\n",
       "   205.01010459219845 234.85865880631306 234.85865880631306]\n",
       "  [204.69457193422383 204.69457193422383 205.28445554419667 ...,\n",
       "   234.85865880631306 234.85865880631306 234.85865880631306]\n",
       "  ..., \n",
       "  [281.524541636664 281.524541636664 281.524541636664 ...,\n",
       "   306.1142391564361 281.524541636664 281.524541636664]\n",
       "  [281.524541636664 281.524541636664 281.524541636664 ...,\n",
       "   306.1142391564361 281.524541636664 281.524541636664]\n",
       "  [281.524541636664 281.524541636664 281.524541636664 ...,\n",
       "   306.1142391564361 281.524541636664 281.524541636664]]\n",
       "\n",
       " [[185.8718651368052 185.8718651368052 186.62416914277918 ...,\n",
       "   224.8645573176628 224.8645573176628 224.8645573176628]\n",
       "  [185.8718651368052 224.49468426220488 186.62416914277918 ...,\n",
       "   224.8645573176628 287.8998806779701 287.8998806779701]\n",
       "  [224.49468426220488 224.49468426220488 223.5466099888736 ...,\n",
       "   287.8998806779701 287.8998806779701 287.8998806779701]\n",
       "  ..., \n",
       "  [161.7531878339039 161.7531878339039 161.7531878339039 ...,\n",
       "   166.1178090400867 161.7531878339039 161.7531878339039]\n",
       "  [161.7531878339039 161.7531878339039 161.7531878339039 ...,\n",
       "   166.1178090400867 161.7531878339039 161.7531878339039]\n",
       "  [161.7531878339039 161.7531878339039 161.7531878339039 ...,\n",
       "   166.1178090400867 161.7531878339039 161.7531878339039]]\n",
       "\n",
       " [[158.70327331987815 158.70327331987815 158.57754865697015 ...,\n",
       "   333.6301840239967 333.6301840239967 333.6301840239967]\n",
       "  [158.70327331987815 333.67897889872035 158.57754865697015 ...,\n",
       "   333.6301840239967 335.5207348434094 335.5207348434094]\n",
       "  [333.67897889872035 333.67897889872035 334.8588155070562 ...,\n",
       "   335.5207348434094 335.5207348434094 335.5207348434094]\n",
       "  ..., \n",
       "  [134.2843953088607 134.2843953088607 134.2843953088607 ...,\n",
       "   97.50885259731717 134.2843953088607 134.2843953088607]\n",
       "  [134.2843953088607 134.2843953088607 134.2843953088607 ...,\n",
       "   97.50885259731717 134.2843953088607 134.2843953088607]\n",
       "  [134.2843953088607 134.2843953088607 134.2843953088607 ...,\n",
       "   97.50885259731717 134.2843953088607 134.2843953088607]]\n",
       "\n",
       " [[21.298970626224264 21.298970626224264 21.877216739347617 ...,\n",
       "   359.4173169412554 359.4173169412554 359.4173169412554]\n",
       "  [21.298970626224264 138.47844588773526 21.877216739347617 ...,\n",
       "   359.4173169412554 126.30138653775882 126.30138653775882]\n",
       "  [138.47844588773526 138.47844588773526 138.3738916240393 ...,\n",
       "   126.30138653775882 126.30138653775882 126.30138653775882]\n",
       "  ..., \n",
       "  [79.23891081494581 79.23891081494581 79.23891081494581 ...,\n",
       "   37.872984129481615 79.23891081494581 79.23891081494581]\n",
       "  [79.23891081494581 79.23891081494581 79.23891081494581 ...,\n",
       "   37.872984129481615 79.23891081494581 79.23891081494581]\n",
       "  [79.23891081494581 79.23891081494581 79.23891081494581 ...,\n",
       "   37.872984129481615 79.23891081494581 79.23891081494581]]],\n",
       "             mask =\n",
       " [[[False False False ..., False False False]\n",
       "  [False False False ..., False False False]\n",
       "  [False False False ..., False False False]\n",
       "  ..., \n",
       "  [False False False ..., False False False]\n",
       "  [False False False ..., False False False]\n",
       "  [False False False ..., False False False]]\n",
       "\n",
       " [[False False False ..., False False False]\n",
       "  [False False False ..., False False False]\n",
       "  [False False False ..., False False False]\n",
       "  ..., \n",
       "  [False False False ..., False False False]\n",
       "  [False False False ..., False False False]\n",
       "  [False False False ..., False False False]]\n",
       "\n",
       " [[False False False ..., False False False]\n",
       "  [False False False ..., False False False]\n",
       "  [False False False ..., False False False]\n",
       "  ..., \n",
       "  [False False False ..., False False False]\n",
       "  [False False False ..., False False False]\n",
       "  [False False False ..., False False False]]\n",
       "\n",
       " [[False False False ..., False False False]\n",
       "  [False False False ..., False False False]\n",
       "  [False False False ..., False False False]\n",
       "  ..., \n",
       "  [False False False ..., False False False]\n",
       "  [False False False ..., False False False]\n",
       "  [False False False ..., False False False]]],\n",
       "       fill_value = nan)"
      ]
     },
     "execution_count": 17,
     "metadata": {},
     "output_type": "execute_result"
    }
   ],
   "source": [
    "data_25km['xv']"
   ]
  },
  {
   "cell_type": "code",
   "execution_count": null,
   "metadata": {
    "collapsed": true
   },
   "outputs": [],
   "source": []
  }
 ],
 "metadata": {
  "kernelspec": {
   "display_name": "Python 3",
   "language": "python",
   "name": "python3"
  },
  "language_info": {
   "codemirror_mode": {
    "name": "ipython",
    "version": 3
   },
   "file_extension": ".py",
   "mimetype": "text/x-python",
   "name": "python",
   "nbconvert_exporter": "python",
   "pygments_lexer": "ipython3",
   "version": "3.5.0rc4"
  }
 },
 "nbformat": 4,
 "nbformat_minor": 0
}
