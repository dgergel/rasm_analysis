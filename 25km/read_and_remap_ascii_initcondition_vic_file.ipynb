{
 "cells": [
  {
   "cell_type": "code",
   "execution_count": 55,
   "metadata": {
    "collapsed": true
   },
   "outputs": [],
   "source": [
    "%matplotlib inline\n",
    "import pandas as pd\n",
    "import os \n",
    "import numpy as np\n",
    "import xarray as xr\n",
    "from scipy.spatial import cKDTree"
   ]
  },
  {
   "cell_type": "code",
   "execution_count": 52,
   "metadata": {
    "collapsed": false
   },
   "outputs": [],
   "source": [
    "direc = '/Users/diana/Dropbox/UW/Research/rasm/25_km'\n",
    "filename = 'vic_initdata_wr50a.08311989'\n",
    "initdata_file = os.path.join(direc, filename)\n",
    "initdata = pd.read_csv(initdata_file, \n",
    "                       delim_whitespace=True, \n",
    "                       index_col=None, \n",
    "                       skiprows=1, \n",
    "                       names=['shum', 'snow', 'rad1', 'rad2'])"
   ]
  },
  {
   "cell_type": "code",
   "execution_count": 54,
   "metadata": {
    "collapsed": false
   },
   "outputs": [],
   "source": [
    "domain_25km_filename = 'domain.lnd.wr25b_ar9v4.170413.nc'\n",
    "direc = '/Users/diana/Dropbox/UW/Research/rasm/25_km'\n",
    "domain_25km = xr.open_dataset(os.path.join(direc, domain_25km_filename))\n",
    "\n",
    "domain_50km_filename = 'domain.lnd.wr50a_ar9v4.100920.nc'\n",
    "domain_50km = xr.open_dataset(os.path.join(direc, domain_50km_filename))"
   ]
  },
  {
   "cell_type": "code",
   "execution_count": 59,
   "metadata": {
    "collapsed": true
   },
   "outputs": [],
   "source": [
    "def lon_lat_to_cartesian(lon, lat, R = 1):\n",
    "    \"\"\"\n",
    "    calculates lon, lat coordinates of a point on a sphere with\n",
    "    radius R\n",
    "    \"\"\"\n",
    "    lon_r = np.radians(lon)\n",
    "    lat_r = np.radians(lat)\n",
    "\n",
    "    x = R * np.cos(lat_r) * np.cos(lon_r)\n",
    "    y = R * np.cos(lat_r) * np.sin(lon_r)\n",
    "    z = R * np.sin(lat_r)\n",
    "\n",
    "    return x, y, z"
   ]
  },
  {
   "cell_type": "code",
   "execution_count": 70,
   "metadata": {
    "collapsed": true
   },
   "outputs": [],
   "source": [
    "lon_50km = domain_50km['xc'].values.flatten()\n",
    "lat_50km = domain_50km['yc'].values.flatten()\n",
    "lon_25km = domain_25km['xc'].values.flatten()\n",
    "lat_25km = domain_25km['yc'].values.flatten()"
   ]
  },
  {
   "cell_type": "code",
   "execution_count": 77,
   "metadata": {
    "collapsed": false
   },
   "outputs": [
    {
     "data": {
      "text/plain": [
       "(227563,)"
      ]
     },
     "execution_count": 77,
     "metadata": {},
     "output_type": "execute_result"
    }
   ],
   "source": [
    "lon_25km.shape"
   ]
  },
  {
   "cell_type": "code",
   "execution_count": 71,
   "metadata": {
    "collapsed": false
   },
   "outputs": [],
   "source": [
    "# lon, lat from coarser res data\n",
    "xs, ys, zs = lon_lat_to_cartesian(lon_50km, lat_50km) \n",
    "# lon, lat from higher res data\n",
    "xt, yt, zt = lon_lat_to_cartesian(lon_25km, lat_25km)"
   ]
  },
  {
   "cell_type": "code",
   "execution_count": 72,
   "metadata": {
    "collapsed": true
   },
   "outputs": [],
   "source": [
    "# build KD tree\n",
    "zipped_50km = np.dstack(([xs, ys, zs]))[0]\n",
    "tree = cKDTree(zipped_50km)"
   ]
  },
  {
   "cell_type": "code",
   "execution_count": 73,
   "metadata": {
    "collapsed": true
   },
   "outputs": [],
   "source": [
    "# find indices of the nearest neighbors in the flattened array \n",
    "zipped_25km = np.dstack(([xt, yt, zt]))[0]\n",
    "d, inds = tree.query(zipped_25km, k=1)"
   ]
  },
  {
   "cell_type": "code",
   "execution_count": 95,
   "metadata": {
    "collapsed": false
   },
   "outputs": [],
   "source": [
    "shum_nearest = initdata['shum'].values.flatten()[inds]\n",
    "snow_nearest = initdata['snow'].values.flatten()[inds]\n",
    "rad1_nearest = initdata['rad1'].values.flatten()[inds]\n",
    "rad2_nearest = initdata['rad2'].values.flatten()[inds]"
   ]
  },
  {
   "cell_type": "code",
   "execution_count": 96,
   "metadata": {
    "collapsed": false
   },
   "outputs": [],
   "source": [
    "initdata_25km = initdata.copy(deep=True)"
   ]
  },
  {
   "cell_type": "code",
   "execution_count": 97,
   "metadata": {
    "collapsed": false
   },
   "outputs": [],
   "source": [
    "initdata_25km_reindexed = initdata_25km.reindex(np.arange(0, len(lon_25km)))\n",
    "initdata_25km_reindexed['shum'] = shum_nearest\n",
    "initdata_25km_reindexed['snow'] = snow_nearest\n",
    "initdata_25km_reindexed['rad1'] = rad1_nearest\n",
    "initdata_25km_reindexed['rad2'] = rad2_nearest"
   ]
  },
  {
   "cell_type": "markdown",
   "metadata": {},
   "source": [
    "try writing to text file"
   ]
  },
  {
   "cell_type": "code",
   "execution_count": 102,
   "metadata": {
    "collapsed": true
   },
   "outputs": [],
   "source": [
    "initdata_25km_reindexed.to_csv('test_write.txt', \n",
    "                               sep=' ', \n",
    "                               index=True,\n",
    "                               mode='w',\n",
    "                               header=False, \n",
    "                               encoding='utf-8', \n",
    "                               float_format='%1.4f')"
   ]
  },
  {
   "cell_type": "code",
   "execution_count": null,
   "metadata": {
    "collapsed": true
   },
   "outputs": [],
   "source": []
  }
 ],
 "metadata": {
  "kernelspec": {
   "display_name": "Python 3",
   "language": "python",
   "name": "python3"
  },
  "language_info": {
   "codemirror_mode": {
    "name": "ipython",
    "version": 3
   },
   "file_extension": ".py",
   "mimetype": "text/x-python",
   "name": "python",
   "nbconvert_exporter": "python",
   "pygments_lexer": "ipython3",
   "version": "3.5.0rc4"
  }
 },
 "nbformat": 4,
 "nbformat_minor": 0
}
