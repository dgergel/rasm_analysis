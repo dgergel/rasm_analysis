{
 "cells": [
  {
   "cell_type": "code",
   "execution_count": 36,
   "metadata": {
    "collapsed": false
   },
   "outputs": [],
   "source": [
    "%matplotlib inline\n",
    "from tonic.models.vic import (netcdf2vic, compare_soil_params, grid_params, \n",
    "                              ncparam2ascii, vic2netcdf)\n",
    "import numpy as np\n",
    "import argparse\n",
    "import subprocess\n",
    "import os\n",
    "from tonic import version\n",
    "from scipy.spatial import cKDTree\n",
    "from tonic.io import read_netcdf\n",
    "from netCDF4 import Dataset, default_fillvals\n",
    "import xarray as xr\n"
   ]
  },
  {
   "cell_type": "code",
   "execution_count": 37,
   "metadata": {
    "collapsed": true
   },
   "outputs": [],
   "source": [
    "# import NetCDF params file\n",
    "direc = '/Users/diana/Dropbox/UW/Research/rasm/25_km'\n",
    "ncparams_25km = 'vic_params_wr25b_vic5.0.dev_20170915.nc'\n",
    "ncparams_50km = 'vic_params_joe_copy.nc'\n",
    "params_25km = xr.open_dataset(os.path.join(direc, ncparams_25km))\n",
    "params_50km = xr.open_dataset(os.path.join(direc, ncparams_50km))\n",
    "domain = xr.open_dataset(os.path.join(direc, 'domain.lnd.wr25b_ar9v4.170413.nc'))"
   ]
  },
  {
   "cell_type": "markdown",
   "metadata": {},
   "source": [
    "root depth"
   ]
  },
  {
   "cell_type": "code",
   "execution_count": 38,
   "metadata": {
    "collapsed": false
   },
   "outputs": [],
   "source": [
    "direc_rootdepth = '/Users/diana/Dropbox/UW/Research/rasm/25_km/root_depth'\n",
    "filename = 'root_depth.1.25km.nc'\n",
    "rd1 = xr.open_dataset(os.path.join(direc_rootdepth, 'root_depth.0.25km.nc'))\n",
    "rd2 = xr.open_dataset(os.path.join(direc_rootdepth, 'root_depth.1.25km.nc'))\n",
    "rd3 = xr.open_dataset(os.path.join(direc_rootdepth, 'root_depth.2.25km.nc'))\n",
    "root_depth = xr.concat([rd1, rd2, rd3], data_vars={'root_depth'}, dim='root_zone')"
   ]
  },
  {
   "cell_type": "markdown",
   "metadata": {},
   "source": [
    "root fract"
   ]
  },
  {
   "cell_type": "code",
   "execution_count": 39,
   "metadata": {
    "collapsed": true
   },
   "outputs": [],
   "source": [
    "direc_rootdepth = '/Users/diana/Dropbox/UW/Research/rasm/25_km/root_fract'\n",
    "filename = 'root_fract.0.25km.nc'\n",
    "rd1 = xr.open_dataset(os.path.join(direc_rootdepth, 'root_fract.0.25km.nc'))\n",
    "rd2 = xr.open_dataset(os.path.join(direc_rootdepth, 'root_fract.1.25km.nc'))\n",
    "rd3 = xr.open_dataset(os.path.join(direc_rootdepth, 'root_fract.2.25km.nc'))\n",
    "root_fract = xr.concat([rd1, rd2, rd3], data_vars={'root_fract'}, dim='root_zone')"
   ]
  },
  {
   "cell_type": "markdown",
   "metadata": {},
   "source": [
    "displacement"
   ]
  },
  {
   "cell_type": "code",
   "execution_count": 40,
   "metadata": {
    "collapsed": false
   },
   "outputs": [],
   "source": [
    "direc = '/Users/diana/Dropbox/UW/Research/rasm/25_km/displacement'\n",
    "filename = 'displacement.0.25km.nc'\n",
    "rd1 = xr.open_dataset(os.path.join(direc, 'displacement.0.25km.nc'))\n",
    "rd2 = xr.open_dataset(os.path.join(direc, 'displacement.1.25km.nc'))\n",
    "rd3 = xr.open_dataset(os.path.join(direc, 'displacement.2.25km.nc'))\n",
    "rd4 = xr.open_dataset(os.path.join(direc, 'displacement.3.25km.nc'))\n",
    "rd5 = xr.open_dataset(os.path.join(direc, 'displacement.4.25km.nc'))\n",
    "rd6 = xr.open_dataset(os.path.join(direc, 'displacement.5.25km.nc'))\n",
    "rd7 = xr.open_dataset(os.path.join(direc, 'displacement.6.25km.nc'))\n",
    "rd8 = xr.open_dataset(os.path.join(direc, 'displacement.7.25km.nc'))\n",
    "rd9 = xr.open_dataset(os.path.join(direc, 'displacement.8.25km.nc'))\n",
    "rd10 = xr.open_dataset(os.path.join(direc, 'displacement.9.25km.nc'))\n",
    "rd11 = xr.open_dataset(os.path.join(direc, 'displacement.10.25km.nc'))\n",
    "rd12 = xr.open_dataset(os.path.join(direc, 'displacement.11.25km.nc'))\n",
    "displacement = xr.concat([rd1, rd2, rd3, rd4, rd5, rd6, rd7, rd8, rd9, rd10, rd11, rd12], \n",
    "                         data_vars={'displacement'},\n",
    "                         dim='month')"
   ]
  },
  {
   "cell_type": "markdown",
   "metadata": {},
   "source": [
    "albedo"
   ]
  },
  {
   "cell_type": "code",
   "execution_count": 41,
   "metadata": {
    "collapsed": true
   },
   "outputs": [],
   "source": [
    "direc = '/Users/diana/Dropbox/UW/Research/rasm/25_km/albedo'\n",
    "filename = 'albedo.0.25km.nc'\n",
    "rd1 = xr.open_dataset(os.path.join(direc, 'albedo.0.25km.nc'))\n",
    "rd2 = xr.open_dataset(os.path.join(direc, 'albedo.1.25km.nc'))\n",
    "rd3 = xr.open_dataset(os.path.join(direc, 'albedo.2.25km.nc'))\n",
    "rd4 = xr.open_dataset(os.path.join(direc, 'albedo.3.25km.nc'))\n",
    "rd5 = xr.open_dataset(os.path.join(direc, 'albedo.4.25km.nc'))\n",
    "rd6 = xr.open_dataset(os.path.join(direc, 'albedo.5.25km.nc'))\n",
    "rd7 = xr.open_dataset(os.path.join(direc, 'albedo.6.25km.nc'))\n",
    "rd8 = xr.open_dataset(os.path.join(direc, 'albedo.7.25km.nc'))\n",
    "rd9 = xr.open_dataset(os.path.join(direc, 'albedo.8.25km.nc'))\n",
    "rd10 = xr.open_dataset(os.path.join(direc, 'albedo.9.25km.nc'))\n",
    "rd11 = xr.open_dataset(os.path.join(direc, 'albedo.10.25km.nc'))\n",
    "rd12 = xr.open_dataset(os.path.join(direc, 'albedo.11.25km.nc'))\n",
    "albedo = xr.concat([rd1, rd2, rd3, rd4, rd5, rd6, rd7, rd8, rd9, rd10, rd11, rd12], \n",
    "                    data_vars={'albedo'},\n",
    "                    dim='month')"
   ]
  },
  {
   "cell_type": "markdown",
   "metadata": {},
   "source": [
    "veg rough"
   ]
  },
  {
   "cell_type": "code",
   "execution_count": 42,
   "metadata": {
    "collapsed": false
   },
   "outputs": [],
   "source": [
    "direc = '/Users/diana/Dropbox/UW/Research/rasm/25_km/veg_rough'\n",
    "filename = 'veg_rough.0.25km.nc'\n",
    "rd1 = xr.open_dataset(os.path.join(direc, 'veg_rough.0.25km.nc'))\n",
    "rd2 = xr.open_dataset(os.path.join(direc, 'veg_rough.1.25km.nc'))\n",
    "rd3 = xr.open_dataset(os.path.join(direc, 'veg_rough.2.25km.nc'))\n",
    "rd4 = xr.open_dataset(os.path.join(direc, 'veg_rough.3.25km.nc'))\n",
    "rd5 = xr.open_dataset(os.path.join(direc, 'veg_rough.4.25km.nc'))\n",
    "rd6 = xr.open_dataset(os.path.join(direc, 'veg_rough.5.25km.nc'))\n",
    "rd7 = xr.open_dataset(os.path.join(direc, 'veg_rough.6.25km.nc'))\n",
    "rd8 = xr.open_dataset(os.path.join(direc, 'veg_rough.7.25km.nc'))\n",
    "rd9 = xr.open_dataset(os.path.join(direc, 'veg_rough.8.25km.nc'))\n",
    "rd10 = xr.open_dataset(os.path.join(direc, 'veg_rough.9.25km.nc'))\n",
    "rd11 = xr.open_dataset(os.path.join(direc, 'veg_rough.10.25km.nc'))\n",
    "rd12 = xr.open_dataset(os.path.join(direc, 'veg_rough.11.25km.nc'))\n",
    "veg_rough = xr.concat([rd1, rd2, rd3, rd4, rd5, rd6, rd7, rd8, rd9, rd10, rd11, rd12], \n",
    "                       data_vars={'veg_rough'},\n",
    "                       dim='month')"
   ]
  },
  {
   "cell_type": "markdown",
   "metadata": {},
   "source": [
    "LAI"
   ]
  },
  {
   "cell_type": "code",
   "execution_count": 43,
   "metadata": {
    "collapsed": false
   },
   "outputs": [],
   "source": [
    "direc = '/Users/diana/Dropbox/UW/Research/rasm/25_km/LAI'\n",
    "filename = 'LAI.0.25km.nc'\n",
    "rd1 = xr.open_dataset(os.path.join(direc, 'LAI.0.25km.nc'))\n",
    "rd2 = xr.open_dataset(os.path.join(direc, 'LAI.1.25km.nc'))\n",
    "rd3 = xr.open_dataset(os.path.join(direc, 'LAI.2.25km.nc'))\n",
    "rd4 = xr.open_dataset(os.path.join(direc, 'LAI.3.25km.nc'))\n",
    "rd5 = xr.open_dataset(os.path.join(direc, 'LAI.4.25km.nc'))\n",
    "rd6 = xr.open_dataset(os.path.join(direc, 'LAI.5.25km.nc'))\n",
    "rd7 = xr.open_dataset(os.path.join(direc, 'LAI.6.25km.nc'))\n",
    "rd8 = xr.open_dataset(os.path.join(direc, 'LAI.7.25km.nc'))\n",
    "rd9 = xr.open_dataset(os.path.join(direc, 'LAI.8.25km.nc'))\n",
    "rd10 = xr.open_dataset(os.path.join(direc, 'LAI.9.25km.nc'))\n",
    "rd11 = xr.open_dataset(os.path.join(direc, 'LAI.10.25km.nc'))\n",
    "rd12 = xr.open_dataset(os.path.join(direc, 'LAI.11.25km.nc'))\n",
    "LAI = xr.concat([rd1, rd2, rd3, rd4, rd5, rd6, rd7, rd8, rd9, rd10, rd11, rd12], \n",
    "                data_vars={'LAI'},        \n",
    "                dim='month')"
   ]
  },
  {
   "cell_type": "markdown",
   "metadata": {},
   "source": [
    "add the 4-D variables to the remapped 25km Dataset"
   ]
  },
  {
   "cell_type": "code",
   "execution_count": 44,
   "metadata": {
    "collapsed": false
   },
   "outputs": [],
   "source": [
    "params_25km['root_depth'] = root_depth['root_depth']\n",
    "params_25km['root_fract'] = root_fract['root_fract']\n",
    "params_25km['displacement'] = displacement['displacement']\n",
    "params_25km['albedo'] = albedo['albedo']\n",
    "params_25km['veg_rough'] = veg_rough['veg_rough']\n",
    "params_25km['LAI'] = LAI['LAI']"
   ]
  },
  {
   "cell_type": "markdown",
   "metadata": {},
   "source": [
    "make sure dimensions are in the correct order for the 4-D variables"
   ]
  },
  {
   "cell_type": "code",
   "execution_count": 53,
   "metadata": {
    "collapsed": false
   },
   "outputs": [],
   "source": [
    "params_25km['root_depth'] = params_25km['root_depth'].transpose('veg_class', 'root_zone', 'nj', 'ni')\n",
    "params_25km['root_fract'] = params_25km['root_fract'].transpose('veg_class', 'root_zone', 'nj', 'ni')\n",
    "params_25km['displacement'] = params_25km['displacement'].transpose('veg_class', 'month', 'nj', 'ni')\n",
    "params_25km['albedo'] = params_25km['albedo'].transpose('veg_class', 'month', 'nj', 'ni')\n",
    "params_25km['veg_rough'] = params_25km['veg_rough'].transpose('veg_class', 'month', 'nj', 'ni')\n",
    "params_25km['LAI'] = params_25km['LAI'].transpose('veg_class', 'month', 'nj', 'ni')"
   ]
  },
  {
   "cell_type": "code",
   "execution_count": 54,
   "metadata": {
    "collapsed": false
   },
   "outputs": [],
   "source": [
    "# params_25km.data_vars"
   ]
  },
  {
   "cell_type": "code",
   "execution_count": 55,
   "metadata": {
    "collapsed": true
   },
   "outputs": [],
   "source": [
    "params_25km['run_cell'].values = params_25km['run_cell'].where(domain['mask'] == 1)\n",
    "params_25km['gridcell'].values = params_25km['gridcell'].where(domain['mask'] == 1)\n",
    "params_25km['infilt'].values = params_25km['infilt'].where(domain['mask'] == 1)\n",
    "params_25km['Ds'].values = params_25km['Ds'].where(domain['mask'] == 1)\n",
    "params_25km['Dsmax'].values = params_25km['Dsmax'].where(domain['mask'] == 1)\n",
    "params_25km['Ws'].values = params_25km['Ws'].where(domain['mask'] == 1)\n",
    "params_25km['c'].values = params_25km['c'].where(domain['mask'] == 1)\n",
    "params_25km['expt'].values = params_25km['expt'].where(domain['mask'] == 1)\n",
    "params_25km['Ksat'].values = params_25km['Ksat'].where(domain['mask'] == 1)\n",
    "params_25km['phi_s'].values = params_25km['phi_s'].where(domain['mask'] == 1)\n",
    "params_25km['init_moist'].values = params_25km['init_moist'].where(domain['mask'] == 1)\n",
    "params_25km['elev'].values = params_25km['elev'].where(domain['mask'] == 1)\n",
    "params_25km['depth'].values = params_25km['depth'].where(domain['mask'] == 1)\n",
    "params_25km['avg_T'].values = params_25km['avg_T'].where(domain['mask'] == 1)\n",
    "params_25km['dp'].values = params_25km['dp'].where(domain['mask'] == 1)\n",
    "params_25km['bubble'].values = params_25km['bubble'].where(domain['mask'] == 1)\n",
    "params_25km['quartz'].values = params_25km['quartz'].where(domain['mask'] == 1)\n",
    "params_25km['bulk_density'].values = params_25km['bulk_density'].where(domain['mask'] == 1)\n",
    "params_25km['soil_density'].values = params_25km['soil_density'].where(domain['mask'] == 1)\n",
    "params_25km['off_gmt'].values = params_25km['off_gmt'].where(domain['mask'] == 1)\n",
    "params_25km['Wcr_FRACT'].values = params_25km['Wcr_FRACT'].where(domain['mask'] == 1)\n",
    "params_25km['Wpwp_FRACT'].values = params_25km['Wpwp_FRACT'].where(domain['mask'] == 1)\n",
    "params_25km['rough'].values = params_25km['rough'].where(domain['mask'] == 1)\n",
    "params_25km['snow_rough'].values = params_25km['snow_rough'].where(domain['mask'] == 1)\n",
    "params_25km['annual_prec'].values = params_25km['annual_prec'].where(domain['mask'] == 1)\n",
    "params_25km['resid_moist'].values = params_25km['resid_moist'].where(domain['mask'] == 1)\n",
    "params_25km['fs_active'].values = params_25km['fs_active'].where(domain['mask'] == 1)\n",
    "params_25km['cellnum'].values = params_25km['cellnum'].where(domain['mask'] == 1)\n",
    "params_25km['AreaFract'].values = params_25km['AreaFract'].where(domain['mask'] == 1)\n",
    "params_25km['elevation'].values = params_25km['elevation'].where(domain['mask'] == 1)\n",
    "params_25km['Pfactor'].values = params_25km['Pfactor'].where(domain['mask'] == 1)\n",
    "params_25km['Nveg'].values = params_25km['Nveg'].where(domain['mask'] == 1)\n",
    "params_25km['Cv'].values = params_25km['Cv'].where(domain['mask'] == 1)\n",
    "params_25km['overstory'].values = params_25km['overstory'].where(domain['mask'] == 1)\n",
    "params_25km['rarc'].values = params_25km['rarc'].where(domain['mask'] == 1)\n",
    "params_25km['rmin'].values = params_25km['rmin'].where(domain['mask'] == 1)\n",
    "params_25km['wind_h'].values = params_25km['wind_h'].where(domain['mask'] == 1)\n",
    "params_25km['RGL'].values = params_25km['RGL'].where(domain['mask'] == 1)\n",
    "params_25km['rad_atten'].values = params_25km['rad_atten'].where(domain['mask'] == 1)\n",
    "params_25km['wind_atten'].values = params_25km['wind_atten'].where(domain['mask'] == 1)\n",
    "params_25km['trunk_ratio'].values = params_25km['trunk_ratio'].where(domain['mask'] == 1)\n",
    "params_25km['snow_albedo'].values = params_25km['snow_albedo'].where(domain['mask'] == 1)\n",
    "params_25km['root_depth'].values = params_25km['root_depth'].where(domain['mask'] == 1)\n",
    "params_25km['root_fract'].values = params_25km['root_fract'].where(domain['mask'] == 1)\n",
    "params_25km['displacement'].values = params_25km['displacement'].where(domain['mask'] == 1)\n",
    "params_25km['albedo'].values = params_25km['albedo'].where(domain['mask'] == 1)\n",
    "params_25km['veg_rough'].values = params_25km['veg_rough'].where(domain['mask'] == 1)\n",
    "params_25km['LAI'].values = params_25km['LAI'].where(domain['mask'] == 1)"
   ]
  },
  {
   "cell_type": "code",
   "execution_count": 56,
   "metadata": {
    "collapsed": false
   },
   "outputs": [
    {
     "data": {
      "text/plain": [
       "<matplotlib.collections.QuadMesh at 0x10fcd7940>"
      ]
     },
     "execution_count": 56,
     "metadata": {},
     "output_type": "execute_result"
    },
    {
     "name": "stderr",
     "output_type": "stream",
     "text": [
      "//anaconda/envs/vic_test_env/lib/python3.5/site-packages/matplotlib/figure.py:1744: UserWarning: This figure includes Axes that are not compatible with tight_layout, so its results might be incorrect.\n",
      "  warnings.warn(\"This figure includes Axes that are not \"\n"
     ]
    },
    {
     "data": {
      "image/png": "[encoded data removed]",
      "text/plain": [
       "<matplotlib.figure.Figure at 0x112d21f98>"
      ]
     },
     "metadata": {},
     "output_type": "display_data"
    }
   ],
   "source": [
    "(params_25km['run_cell'] - domain.mask).plot()"
   ]
  },
  {
   "cell_type": "markdown",
   "metadata": {},
   "source": [
    "adjust dtype for `run_cell`"
   ]
  },
  {
   "cell_type": "code",
   "execution_count": 57,
   "metadata": {
    "collapsed": false
   },
   "outputs": [],
   "source": [
    "# adjust dtype for \n",
    "params_25km['run_cell'].values = params_25km['run_cell'].values.astype(np.int32)\n",
    "params_25km['gridcell'].values = params_25km['gridcell'].values.astype(np.int32)\n",
    "params_25km['fs_active'].values = params_25km['fs_active'].values.astype(np.int32)\n",
    "params_25km['Nveg'].values = params_25km['Nveg'].values.astype(np.int32)\n",
    "params_25km['overstory'].values = params_25km['overstory'].values.astype(np.int32)"
   ]
  },
  {
   "cell_type": "code",
   "execution_count": 58,
   "metadata": {
    "collapsed": false
   },
   "outputs": [],
   "source": [
    "params_25km.to_netcdf('params_25km_full.nc', format='NETCDF4_CLASSIC', encoding={'run_cell': {'dtype': 'int32'},\n",
    "                                                                                 'gridcell': {'dtype': 'int32'},\n",
    "                                                                                 'fs_active': {'dtype': 'int32'},\n",
    "                                                                                 'Nveg': {'dtype': 'int32'},\n",
    "                                                                                 'overstory': {'dtype': 'int32'},\n",
    "                                                                                 })"
   ]
  },
  {
   "cell_type": "code",
   "execution_count": 59,
   "metadata": {
    "collapsed": true
   },
   "outputs": [],
   "source": [
    "u = xr.open_dataset('params_25km_full.nc')"
   ]
  },
  {
   "cell_type": "code",
   "execution_count": 60,
   "metadata": {
    "collapsed": false
   },
   "outputs": [
    {
     "name": "stdout",
     "output_type": "stream",
     "text": [
      "('veg_class', 'month', 'nj', 'ni')\n",
      "('veg_class', 'month', 'nj', 'ni')\n"
     ]
    }
   ],
   "source": [
    "print(u.albedo.dims)\n",
    "print(params_50km.albedo.dims)"
   ]
  },
  {
   "cell_type": "markdown",
   "metadata": {
    "collapsed": true
   },
   "source": [
    "## NOTE: after the above processing, also need to rename `xc_bnds` and `yc_bnds` dimensions, using the following: \n",
    "\n",
    "`ncrename -v xc_bnds,xv params_25km_full.nc`\n",
    "\n",
    "`ncrename -v yc_bnds,yv params_25km_full.nc`"
   ]
  },
  {
   "cell_type": "code",
   "execution_count": null,
   "metadata": {
    "collapsed": true
   },
   "outputs": [],
   "source": []
  },
  {
   "cell_type": "code",
   "execution_count": null,
   "metadata": {
    "collapsed": true
   },
   "outputs": [],
   "source": []
  }
 ],
 "metadata": {
  "kernelspec": {
   "display_name": "Python 3",
   "language": "python",
   "name": "python3"
  },
  "language_info": {
   "codemirror_mode": {
    "name": "ipython",
    "version": 3
   },
   "file_extension": ".py",
   "mimetype": "text/x-python",
   "name": "python",
   "nbconvert_exporter": "python",
   "pygments_lexer": "ipython3",
   "version": "3.5.0rc4"
  }
 },
 "nbformat": 4,
 "nbformat_minor": 0
}
