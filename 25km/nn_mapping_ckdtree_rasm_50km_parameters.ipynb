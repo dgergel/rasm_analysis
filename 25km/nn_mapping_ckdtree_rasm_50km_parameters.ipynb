{
 "cells": [
  {
   "cell_type": "code",
   "execution_count": 1,
   "metadata": {
    "collapsed": true
   },
   "outputs": [],
   "source": [
    "%matplotlib inline\n",
    "import matplotlib.pyplot as plt\n",
    "import numpy as np\n",
    "import argparse\n",
    "import subprocess\n",
    "import os\n",
    "from scipy.spatial import cKDTree\n",
    "from netCDF4 import Dataset, default_fillvals\n",
    "import xarray as xr"
   ]
  },
  {
   "cell_type": "code",
   "execution_count": 2,
   "metadata": {
    "collapsed": false
   },
   "outputs": [
    {
     "data": {
      "text/plain": [
       "{'S1': '\\x00',\n",
       " 'f4': 9.969209968386869e+36,\n",
       " 'f8': 9.969209968386869e+36,\n",
       " 'i1': -127,\n",
       " 'i2': -32767,\n",
       " 'i4': -2147483647,\n",
       " 'i8': -9223372036854775806,\n",
       " 'u1': 255,\n",
       " 'u2': 65535,\n",
       " 'u4': 4294967295,\n",
       " 'u8': 18446744073709551614}"
      ]
     },
     "execution_count": 2,
     "metadata": {},
     "output_type": "execute_result"
    }
   ],
   "source": [
    "default_fillvals"
   ]
  },
  {
   "cell_type": "code",
   "execution_count": 3,
   "metadata": {
    "collapsed": false
   },
   "outputs": [],
   "source": [
    "fillval_f = default_fillvals['f8']\n",
    "fillval_i = default_fillvals['i4']"
   ]
  },
  {
   "cell_type": "markdown",
   "metadata": {},
   "source": [
    "load 25km domain file"
   ]
  },
  {
   "cell_type": "code",
   "execution_count": 4,
   "metadata": {
    "collapsed": true
   },
   "outputs": [],
   "source": [
    "domain_25km_filename = 'domain.lnd.wr25b_ar9v4.170413.nc'\n",
    "direc = '/Users/diana/Dropbox/UW/Research/rasm/25_km'\n",
    "domain_25km = xr.open_dataset(os.path.join(direc, domain_25km_filename))\n",
    "lon_25km = domain_25km['xc'].values\n",
    "lat_25km = domain_25km['yc'].values\n",
    "mask_25km = domain_25km['mask'].values"
   ]
  },
  {
   "cell_type": "markdown",
   "metadata": {},
   "source": [
    "look at the mask and be sure it makes sense"
   ]
  },
  {
   "cell_type": "code",
   "execution_count": 5,
   "metadata": {
    "collapsed": false
   },
   "outputs": [
    {
     "data": {
      "text/plain": [
       "<matplotlib.collections.QuadMesh at 0x1108158d0>"
      ]
     },
     "execution_count": 5,
     "metadata": {},
     "output_type": "execute_result"
    },
    {
     "data": {
      "image/png": "[encoded data removed]",
      "text/plain": [
       "<matplotlib.figure.Figure at 0x104388278>"
      ]
     },
     "metadata": {},
     "output_type": "display_data"
    }
   ],
   "source": [
    "domain_25km['mask'].plot()"
   ]
  },
  {
   "cell_type": "markdown",
   "metadata": {},
   "source": [
    "load 50km domain file"
   ]
  },
  {
   "cell_type": "code",
   "execution_count": 6,
   "metadata": {
    "collapsed": true
   },
   "outputs": [],
   "source": [
    "domain_50km_filename = 'domain.lnd.wr50a_ar9v4.100920.nc'\n",
    "domain_50km = xr.open_dataset(os.path.join(direc, domain_50km_filename))\n",
    "lon_50km = domain_50km['xc'].values\n",
    "lat_50km = domain_50km['yc'].values\n",
    "mask_50km = domain_50km['mask'].values"
   ]
  },
  {
   "cell_type": "markdown",
   "metadata": {},
   "source": [
    "This is the function used for converting lat/lon to x, y, z: "
   ]
  },
  {
   "cell_type": "code",
   "execution_count": 7,
   "metadata": {
    "collapsed": true
   },
   "outputs": [],
   "source": [
    "def lon_lat_to_cartesian(lon, lat, R = 1):\n",
    "    \"\"\"\n",
    "    calculates lon, lat coordinates of a point on a sphere with\n",
    "    radius R\n",
    "    \"\"\"\n",
    "    lon_r = np.radians(lon)\n",
    "    lat_r = np.radians(lat)\n",
    "\n",
    "    x = R * np.cos(lat_r) * np.cos(lon_r)\n",
    "    y = R * np.cos(lat_r) * np.sin(lon_r)\n",
    "    z = R * np.sin(lat_r)\n",
    "\n",
    "    return x, y, z"
   ]
  },
  {
   "cell_type": "markdown",
   "metadata": {},
   "source": [
    "nearest neighbor interpolation with only land lats/lons"
   ]
  },
  {
   "cell_type": "code",
   "execution_count": 8,
   "metadata": {
    "collapsed": false
   },
   "outputs": [],
   "source": [
    "lat_25km_land = lat_25km[mask_25km > 0]\n",
    "lon_25km_land = lon_25km[mask_25km > 0]\n",
    "mask_25km_land = mask_25km[mask_25km > 0]\n",
    "nj_inds_25km, ni_inds_25km = np.nonzero(mask_25km)\n",
    "\n",
    "lat_50km_land = lat_50km[mask_50km > 0]\n",
    "lon_50km_land = lon_50km[mask_50km > 0]\n",
    "nj_inds_50km, ni_inds_50km = np.nonzero(mask_50km)"
   ]
  },
  {
   "cell_type": "code",
   "execution_count": 9,
   "metadata": {
    "collapsed": false
   },
   "outputs": [
    {
     "name": "stdout",
     "output_type": "stream",
     "text": [
      "83.6407822419\n",
      "83.6523202138\n"
     ]
    }
   ],
   "source": [
    "print(lat_25km_land.max())\n",
    "print(lat_50km_land.max())"
   ]
  },
  {
   "cell_type": "code",
   "execution_count": 10,
   "metadata": {
    "collapsed": false
   },
   "outputs": [
    {
     "name": "stdout",
     "output_type": "stream",
     "text": [
      "18.1974976742\n",
      "21.8469808793\n"
     ]
    }
   ],
   "source": [
    "print(lat_25km_land.min())\n",
    "print(lat_50km_land.min())"
   ]
  },
  {
   "cell_type": "code",
   "execution_count": 11,
   "metadata": {
    "collapsed": false
   },
   "outputs": [
    {
     "name": "stdout",
     "output_type": "stream",
     "text": [
      "179.996896063\n",
      "179.999809265\n"
     ]
    }
   ],
   "source": [
    "print(lon_25km_land.max())\n",
    "print(lon_50km_land.max() - 180)"
   ]
  },
  {
   "cell_type": "code",
   "execution_count": 12,
   "metadata": {
    "collapsed": false
   },
   "outputs": [
    {
     "name": "stdout",
     "output_type": "stream",
     "text": [
      "-179.955178535\n",
      "-179.996505737\n"
     ]
    }
   ],
   "source": [
    "print(lon_25km_land.min())\n",
    "print(lon_50km_land.min() - 180)"
   ]
  },
  {
   "cell_type": "code",
   "execution_count": 13,
   "metadata": {
    "collapsed": false
   },
   "outputs": [],
   "source": [
    "# lon, lat from coarser res data\n",
    "xs, ys, zs = lon_lat_to_cartesian(lon_50km_land, lat_50km_land) \n",
    "# lon, lat from higher res data\n",
    "xt, yt, zt = lon_lat_to_cartesian(lon_25km_land, lat_25km_land)"
   ]
  },
  {
   "cell_type": "code",
   "execution_count": 14,
   "metadata": {
    "collapsed": false
   },
   "outputs": [],
   "source": [
    "# build KD tree\n",
    "zipped_50km = np.dstack(([xs, ys, zs]))[0]\n",
    "tree = cKDTree(zipped_50km)"
   ]
  },
  {
   "cell_type": "code",
   "execution_count": 15,
   "metadata": {
    "collapsed": false
   },
   "outputs": [],
   "source": [
    "# find indices of the nearest neighbors in the flattened array \n",
    "zipped_25km = np.dstack(([xt, yt, zt]))[0]\n",
    "d, inds = tree.query(zipped_25km, k=1)"
   ]
  },
  {
   "cell_type": "code",
   "execution_count": 167,
   "metadata": {
    "collapsed": false
   },
   "outputs": [],
   "source": [
    "# use indices to get 50km values for 25km grid\n",
    "mask_50km_land = mask_50km[mask_50km > 0]\n",
    "mask_nearest = mask_50km_land.flatten()[inds]\n",
    "\n",
    "domain_25km['mask_interp'] = xr.DataArray(domain_25km['mask'].values)\n",
    "domain_25km['mask_interp'].values[nj_inds_25km, ni_inds_25km] = mask_nearest "
   ]
  },
  {
   "cell_type": "markdown",
   "metadata": {},
   "source": [
    "load 50km parameters"
   ]
  },
  {
   "cell_type": "code",
   "execution_count": 168,
   "metadata": {
    "collapsed": true
   },
   "outputs": [],
   "source": [
    "ncparams_50km = 'vic_params_joe_copy.nc'\n",
    "params_50km = xr.open_dataset(os.path.join(direc, ncparams_50km))"
   ]
  },
  {
   "cell_type": "markdown",
   "metadata": {},
   "source": [
    "check to be sure that the mask isn't getting altered (it was before somehow) "
   ]
  },
  {
   "cell_type": "code",
   "execution_count": 169,
   "metadata": {
    "collapsed": false
   },
   "outputs": [
    {
     "data": {
      "text/plain": [
       "<matplotlib.collections.QuadMesh at 0x114c2a908>"
      ]
     },
     "execution_count": 169,
     "metadata": {},
     "output_type": "execute_result"
    },
    {
     "data": {
      "image/png": "[encoded data removed]",
      "text/plain": [
       "<matplotlib.figure.Figure at 0x1505b2080>"
      ]
     },
     "metadata": {},
     "output_type": "display_data"
    }
   ],
   "source": [
    "domain_25km['mask_interp'].plot()"
   ]
  },
  {
   "cell_type": "code",
   "execution_count": 170,
   "metadata": {
    "collapsed": false
   },
   "outputs": [
    {
     "data": {
      "text/plain": [
       "<matplotlib.collections.QuadMesh at 0x10463cdd8>"
      ]
     },
     "execution_count": 170,
     "metadata": {},
     "output_type": "execute_result"
    },
    {
     "data": {
      "image/png": "[encoded data removed]",
      "text/plain": [
       "<matplotlib.figure.Figure at 0x13b0e6a20>"
      ]
     },
     "metadata": {},
     "output_type": "display_data"
    }
   ],
   "source": [
    "domain_25km.mask.plot()"
   ]
  },
  {
   "cell_type": "code",
   "execution_count": 258,
   "metadata": {
    "collapsed": false
   },
   "outputs": [
    {
     "data": {
      "text/plain": [
       "<xarray.DataArray 'phi_s' (nlayer: 3, nj: 205, ni: 275)>\n",
       "array([[[   nan,    nan, ...,    nan,    nan],\n",
       "        [   nan,    nan, ...,    nan,    nan],\n",
       "        ..., \n",
       "        [   nan,    nan, ..., -9999., -9999.],\n",
       "        [   nan,    nan, ..., -9999., -9999.]],\n",
       "\n",
       "       [[   nan,    nan, ...,    nan,    nan],\n",
       "        [   nan,    nan, ...,    nan,    nan],\n",
       "        ..., \n",
       "        [   nan,    nan, ..., -9999., -9999.],\n",
       "        [   nan,    nan, ..., -9999., -9999.]],\n",
       "\n",
       "       [[   nan,    nan, ...,    nan,    nan],\n",
       "        [   nan,    nan, ...,    nan,    nan],\n",
       "        ..., \n",
       "        [   nan,    nan, ..., -9999., -9999.],\n",
       "        [   nan,    nan, ..., -9999., -9999.]]])\n",
       "Coordinates:\n",
       "    yc       (nj, ni) float64 16.53 16.78 17.02 17.27 17.51 17.76 18.0 18.25 ...\n",
       "    xc       (nj, ni) float64 -170.8 -170.6 -170.4 -170.3 -170.1 -169.9 ...\n",
       "Dimensions without coordinates: nlayer, nj, ni\n",
       "Attributes:\n",
       "    units:        mm/mm\n",
       "    description:  Soil moisture diffusion parameter\n",
       "    long_name:    phi_s"
      ]
     },
     "execution_count": 258,
     "metadata": {},
     "output_type": "execute_result"
    }
   ],
   "source": [
    "params_50km.phi_s"
   ]
  },
  {
   "cell_type": "markdown",
   "metadata": {},
   "source": [
    "print domain file data variables"
   ]
  },
  {
   "cell_type": "code",
   "execution_count": 171,
   "metadata": {
    "collapsed": false
   },
   "outputs": [
    {
     "data": {
      "text/plain": [
       "Data variables:\n",
       "    xv           (nj, ni, nv) float64 -170.6 -170.5 -170.6 -170.7 -170.5 ...\n",
       "    yv           (nj, ni, nv) float64 16.15 16.27 16.35 16.23 16.27 16.4 ...\n",
       "    mask         (nj, ni) int32 0 0 0 0 0 0 0 0 0 0 0 0 0 0 0 0 0 0 0 0 0 0 ...\n",
       "    area         (nj, ni) float64 6.398e-06 6.417e-06 6.437e-06 6.458e-06 ...\n",
       "    frac         (nj, ni) float64 0.0 0.0 0.0 0.0 0.0 0.0 0.0 0.0 0.0 0.0 ...\n",
       "    mask_interp  (dim_0, dim_1) int32 0 0 0 0 0 0 0 0 0 0 0 0 0 0 0 0 0 0 0 ..."
      ]
     },
     "execution_count": 171,
     "metadata": {},
     "output_type": "execute_result"
    }
   ],
   "source": [
    "domain_25km.data_vars"
   ]
  },
  {
   "cell_type": "markdown",
   "metadata": {},
   "source": [
    "print 50km parameter file data variables"
   ]
  },
  {
   "cell_type": "code",
   "execution_count": 172,
   "metadata": {
    "collapsed": false
   },
   "outputs": [
    {
     "data": {
      "text/plain": [
       "Data variables:\n",
       "    xv            (nv4, nj, ni) float64 189.3 189.4 189.2 189.0 189.4 189.6 ...\n",
       "    yv            (nv4, nj, ni) float64 16.33 16.58 16.74 16.49 16.58 16.82 ...\n",
       "    mask          (nj, ni) float64 0.0 0.0 0.0 0.0 0.0 0.0 0.0 0.0 0.0 0.0 ...\n",
       "    run_cell      (nj, ni) float64 nan nan nan nan nan nan nan nan nan nan ...\n",
       "    gridcell      (nj, ni) float64 nan nan nan nan nan nan nan nan nan nan ...\n",
       "    lats          (nj, ni) float64 nan nan nan nan nan nan nan nan nan nan ...\n",
       "    lons          (nj, ni) float64 nan nan nan nan nan nan nan nan nan nan ...\n",
       "    infilt        (nj, ni) float64 nan nan nan nan nan nan nan nan nan nan ...\n",
       "    Ds            (nj, ni) float64 nan nan nan nan nan nan nan nan nan nan ...\n",
       "    Dsmax         (nj, ni) float64 nan nan nan nan nan nan nan nan nan nan ...\n",
       "    Ws            (nj, ni) float64 nan nan nan nan nan nan nan nan nan nan ...\n",
       "    c             (nj, ni) float64 nan nan nan nan nan nan nan nan nan nan ...\n",
       "    expt          (nlayer, nj, ni) float64 nan nan nan nan nan nan nan nan ...\n",
       "    Ksat          (nlayer, nj, ni) float64 nan nan nan nan nan nan nan nan ...\n",
       "    phi_s         (nlayer, nj, ni) float64 nan nan nan nan nan nan nan nan ...\n",
       "    init_moist    (nlayer, nj, ni) float64 nan nan nan nan nan nan nan nan ...\n",
       "    elev          (nj, ni) float64 nan nan nan nan nan nan nan nan nan nan ...\n",
       "    depth         (nlayer, nj, ni) float64 nan nan nan nan nan nan nan nan ...\n",
       "    avg_T         (nj, ni) float64 nan nan nan nan nan nan nan nan nan nan ...\n",
       "    dp            (nj, ni) float64 nan nan nan nan nan nan nan nan nan nan ...\n",
       "    bubble        (nlayer, nj, ni) float64 nan nan nan nan nan nan nan nan ...\n",
       "    quartz        (nlayer, nj, ni) float64 nan nan nan nan nan nan nan nan ...\n",
       "    bulk_density  (nlayer, nj, ni) float64 nan nan nan nan nan nan nan nan ...\n",
       "    soil_density  (nlayer, nj, ni) float64 nan nan nan nan nan nan nan nan ...\n",
       "    off_gmt       (nj, ni) timedelta64[ns] NaT NaT NaT NaT NaT NaT NaT NaT ...\n",
       "    Wcr_FRACT     (nlayer, nj, ni) float64 nan nan nan nan nan nan nan nan ...\n",
       "    Wpwp_FRACT    (nlayer, nj, ni) float64 nan nan nan nan nan nan nan nan ...\n",
       "    rough         (nj, ni) float64 nan nan nan nan nan nan nan nan nan nan ...\n",
       "    snow_rough    (nj, ni) float64 nan nan nan nan nan nan nan nan nan nan ...\n",
       "    annual_prec   (nj, ni) float64 nan nan nan nan nan nan nan nan nan nan ...\n",
       "    resid_moist   (nlayer, nj, ni) float64 nan nan nan nan nan nan nan nan ...\n",
       "    fs_active     (nj, ni) float64 nan nan nan nan nan nan nan nan nan nan ...\n",
       "    cellnum       (nj, ni) float64 nan nan nan nan nan nan nan nan nan nan ...\n",
       "    AreaFract     (snow_band, nj, ni) float64 nan nan nan nan nan nan nan ...\n",
       "    elevation     (snow_band, nj, ni) float64 nan nan nan nan nan nan nan ...\n",
       "    Pfactor       (snow_band, nj, ni) float64 nan nan nan nan nan nan nan ...\n",
       "    Nveg          (nj, ni) float64 nan nan nan nan nan nan nan nan nan nan ...\n",
       "    Cv            (veg_class, nj, ni) float64 nan nan nan nan nan nan nan ...\n",
       "    root_depth    (veg_class, root_zone, nj, ni) float64 nan nan nan nan nan ...\n",
       "    root_fract    (veg_class, root_zone, nj, ni) float64 nan nan nan nan nan ...\n",
       "    LAI           (veg_class, month, nj, ni) float64 nan nan nan nan nan nan ...\n",
       "    overstory     (veg_class, nj, ni) float64 nan nan nan nan nan nan nan ...\n",
       "    rarc          (veg_class, nj, ni) float64 nan nan nan nan nan nan nan ...\n",
       "    rmin          (veg_class, nj, ni) float64 nan nan nan nan nan nan nan ...\n",
       "    wind_h        (veg_class, nj, ni) float64 nan nan nan nan nan nan nan ...\n",
       "    RGL           (veg_class, nj, ni) float64 nan nan nan nan nan nan nan ...\n",
       "    rad_atten     (veg_class, nj, ni) float64 nan nan nan nan nan nan nan ...\n",
       "    wind_atten    (veg_class, nj, ni) float64 nan nan nan nan nan nan nan ...\n",
       "    trunk_ratio   (veg_class, nj, ni) float64 nan nan nan nan nan nan nan ...\n",
       "    snow_albedo   (veg_class, nj, ni) float64 nan nan nan nan nan nan nan ...\n",
       "    albedo        (veg_class, month, nj, ni) float64 nan nan nan nan nan nan ...\n",
       "    veg_rough     (veg_class, month, nj, ni) float64 nan nan nan nan nan nan ...\n",
       "    displacement  (veg_class, month, nj, ni) float64 nan nan nan nan nan nan ..."
      ]
     },
     "execution_count": 172,
     "metadata": {},
     "output_type": "execute_result"
    }
   ],
   "source": [
    "params_50km.data_vars"
   ]
  },
  {
   "cell_type": "code",
   "execution_count": 259,
   "metadata": {
    "collapsed": false
   },
   "outputs": [],
   "source": [
    "params_25km = xr.Dataset()\n",
    "\n",
    "domain_25km = xr.open_dataset(os.path.join(direc, domain_25km_filename))\n",
    "\n",
    "# define fillvals\n",
    "fillval_f = default_fillvals['f8']\n",
    "fillval_i = default_fillvals['i4']\n",
    "\n",
    "# fill in data from the domain file\n",
    "\n",
    "params_25km['run_cell'] = xr.DataArray(domain_25km['mask'].values, \n",
    "                                       dims=('nj', 'ni'),\n",
    "                                       coords={'xc': domain_25km.xc, 'yc': domain_25km.yc},\n",
    "                                       attrs={'units': \"N/A\", 'long_name': \"run_cell\"},\n",
    "                                       encoding={\"_FillValue\": fillval_i,\n",
    "                                                 \"Coordinates\": \"xc yc\",\n",
    "                                                 \"dtype\": \"int32\"})\n",
    "\n",
    "params_25km['mask'] = xr.DataArray(domain_25km['mask'].values,\n",
    "                                   dims=('nj', 'ni'),\n",
    "                                   coords={'xc': domain_25km.xc, 'yc': domain_25km.yc},\n",
    "                                   attrs={'description': \"0 value indicates cell is not active\", \n",
    "                                          'units': \"N/A\", 'long_name': \"mask\", 'bounds': 'yv'},\n",
    "                                   encoding={\"_FillValue\": fillval_i,\n",
    "                                                 \"Coordinates\": \"xc yc\",\n",
    "                                                 \"dtype\": \"int32\"})\n",
    "\n",
    "masknan_vals = params_25km['mask'].where(params_25km['mask'] == 1).values\n",
    "\n",
    "# rename nv dimension to nv4 in 25km domain file (this is necessary for using it as a coordinate in the parameter file)\n",
    "domain_25km = domain_25km.rename({'nv': 'nv4'})\n",
    "params_25km['xv'] = xr.DataArray(np.rollaxis(domain_25km['xv'].values, axis=2),\n",
    "                                 dims=('nv4', 'nj', 'ni'),\n",
    "                                 attrs={'units': \"degrees_east\", \n",
    "                                        'long_name': \"longitude of grid cell vertices\"})\n",
    "\n",
    "params_25km['yv'] = xr.DataArray(np.rollaxis(domain_25km['yv'].values, axis=2),\n",
    "                                 dims=('nv4', 'nj', 'ni'),\n",
    "                                 attrs={'units': \"degrees_north\", \n",
    "                                        'long_name': \"latitude of grid cell vertices\"})\n",
    "\n",
    "# gridcell\n",
    "gridcell_land = params_50km['gridcell'].values[mask_50km > 0]\n",
    "nearest_gridcell = gridcell_land.flatten()[inds]\n",
    "gridcell_vals = np.copy(masknan_vals)\n",
    "params_25km['gridcell'] = xr.DataArray(gridcell_vals, \n",
    "                                       dims=('nj', 'ni'),\n",
    "                                       coords={'xc': domain_25km.xc, 'yc': domain_25km.yc},\n",
    "                                       attrs={'description': \"Grid cell number\", \n",
    "                                              'units': \"N/A\", 'long_name': \"gridcell\"},\n",
    "                                       encoding={\"_FillValue\": fillval_i,\n",
    "                                                 \"Coordinates\": \"xc yc\", \"dtype\": \"int32\"})\n",
    "params_25km['gridcell'].values[nj_inds_25km, ni_inds_25km] = nearest_gridcell\n",
    "\n",
    "# lats\n",
    "lats_land = params_50km['lats'].values[mask_50km > 0]\n",
    "nearest_lats = lats_land.flatten()[inds]\n",
    "lats_vals = np.copy(masknan_vals)\n",
    "params_25km['lats'] = xr.DataArray(lats_vals, \n",
    "                                   dims=('nj', 'ni'),\n",
    "                                   coords={'xc': domain_25km.xc, 'yc': domain_25km.yc},\n",
    "                                   attrs={'description': \"Latitude of grid cell\", \n",
    "                                              'units': \"degrees\", 'long_name': \"lats\"})\n",
    "params_25km['lats'].values[nj_inds_25km, ni_inds_25km] = nearest_lats\n",
    "\n",
    "# lons\n",
    "lons_land = params_50km['lons'].values[mask_50km > 0]\n",
    "nearest_lons = lons_land.flatten()[inds]\n",
    "lons_vals = np.copy(masknan_vals)\n",
    "params_25km['lons'] = xr.DataArray(lons_vals,\n",
    "                                   dims=('nj', 'ni'),\n",
    "                                   coords={'xc': domain_25km.xc, 'yc': domain_25km.yc},\n",
    "                                   attrs={'description': \"Longitude of grid cell\", \n",
    "                                          'units': \"degrees\", 'long_name': \"lons\"})\n",
    "params_25km['lons'].values[nj_inds_25km, ni_inds_25km] = nearest_lons\n",
    "\n",
    "# infilt\n",
    "infilt_land = params_50km['infilt'].values[mask_50km > 0]\n",
    "nearest_infilt = infilt_land.flatten()[inds]\n",
    "infilt_vals = np.copy(masknan_vals)\n",
    "params_25km['infilt'] = xr.DataArray(infilt_vals,\n",
    "                                     dims=('nj', 'ni'),\n",
    "                                     coords={'xc': domain_25km.xc, 'yc': domain_25km.yc},\n",
    "                                     attrs={'description': \"Latitude of grid cell\", \n",
    "                                            'units': \"mm/day\", \n",
    "                                            'long_name': \"Variable infiltration curve parameter (binfilt)\"},\n",
    "                                     encoding={\"_FillValue\": fillval_f,\n",
    "                                               \"Coordinates\": \"xc yc\"})\n",
    "params_25km['infilt'].values[nj_inds_25km, ni_inds_25km] = nearest_infilt\n",
    "\n",
    "# Ds\n",
    "ds_land = params_50km['Ds'].values[mask_50km > 0]\n",
    "nearest_ds = ds_land.flatten()[inds]\n",
    "ds_vals = np.copy(masknan_vals)\n",
    "params_25km['Ds'] = xr.DataArray(ds_vals,\n",
    "                                 dims=('nj', 'ni'),\n",
    "                                 coords={'xc': domain_25km.xc, 'yc': domain_25km.yc},\n",
    "                                 attrs={'description': \"Fraction of Dsmax where non-linear baseflow begins\", \n",
    "                                         'units': \"fraction\", 'long_name': \"Ds\"},\n",
    "                                 encoding={\"_FillValue\": fillval_f,\n",
    "                                           \"Coordinates\": \"xc yc\"})\n",
    "params_25km['Ds'].values[nj_inds_25km, ni_inds_25km] = nearest_ds\n",
    "\n",
    "# Dsmax\n",
    "dsmax_land = params_50km['Dsmax'].values[mask_50km > 0]\n",
    "nearest_dsmax = dsmax_land.flatten()[inds]\n",
    "dsmax_vals = np.copy(masknan_vals)\n",
    "params_25km['Dsmax'] = xr.DataArray(dsmax_vals,\n",
    "                                    dims=('nj', 'ni'),\n",
    "                                    coords={'xc': domain_25km.xc, 'yc': domain_25km.yc},\n",
    "                                    attrs={'description': \"Maximum velocity of baseflow\", \n",
    "                                              'units': \"mm/day\", 'long_name': \"Dsmax\"},\n",
    "                                    encoding={\"_FillValue\": fillval_f,\n",
    "                                              \"Coordinates\": \"xc yc\"})\n",
    "params_25km['Dsmax'].values[nj_inds_25km, ni_inds_25km] = nearest_dsmax\n",
    "\n",
    "# Ws\n",
    "ws_land = params_50km['Ws'].values[mask_50km > 0]\n",
    "nearest_ws = ws_land.flatten()[inds]\n",
    "ws_vals = np.copy(masknan_vals)\n",
    "params_25km['Ws'] = xr.DataArray(ws_vals,\n",
    "                                 dims=('nj', 'ni'),\n",
    "                                 coords={'xc': domain_25km.xc, 'yc': domain_25km.yc},\n",
    "                                 attrs={'description': \"Fraction of maximum soil moisture where non-linear baseflow occurs\", \n",
    "                                              'units': \"fraction\", 'long_name': \"Ws\"},\n",
    "                                 encoding={\"_FillValue\": fillval_f,\n",
    "                                           \"Coordinates\": \"xc yc\"})\n",
    "params_25km['Ws'].values[nj_inds_25km, ni_inds_25km] = nearest_ws\n",
    "\n",
    "# c\n",
    "c_land = params_50km['c'].values[mask_50km > 0]\n",
    "nearest_c = c_land.flatten()[inds]\n",
    "c_vals = np.copy(masknan_vals)\n",
    "params_25km['c'] = xr.DataArray(c_vals,\n",
    "                                dims=('nj', 'ni'),\n",
    "                                coords={'xc': domain_25km.xc, 'yc': domain_25km.yc},\n",
    "                                attrs={'description': \"Exponent used in baseflow curve, normally set to 2\", \n",
    "                                              'units': \"N/A\", 'long_name': \"c\"},\n",
    "                                encoding={\"_FillValue\": fillval_f,\n",
    "                                          \"Coordinates\": \"xc yc\"})\n",
    "params_25km['c'].values[nj_inds_25km, ni_inds_25km] = nearest_c\n",
    "\n",
    "# nlayer\n",
    "params_25km['nlayer'] = xr.DataArray(params_50km.nlayer.values, dims='nlayer')\n",
    "\n",
    "# array for 3d parameters\n",
    "arr_nlayer = np.rollaxis(np.dstack((masknan_vals, masknan_vals, masknan_vals)), \n",
    "                        axis=2)\n",
    "\n",
    "# expt\n",
    "expt_land = params_50km['expt'].values[:, mask_50km > 0]\n",
    "nearest_expt = expt_land.reshape(3, len(c_land))[:, inds]\n",
    "expt_vals = np.copy(arr_nlayer)\n",
    "params_25km['expt'] = xr.DataArray(expt_vals,\n",
    "                                   dims=('nlayer','nj', 'ni'),\n",
    "                                   coords={'xc': domain_25km.xc, 'yc': domain_25km.yc},\n",
    "                                   attrs={'description': \"Exponent n (=3+2/lambda) in Campbell's eqt for Ksat, HBH 5.6 \\\n",
    "                                           where lambda = soil pore size distribution parameter\", \n",
    "                                           'units': \"N/A\", 'long_name': \"expt\"},\n",
    "                                   encoding={\"_FillValue\": fillval_f,\n",
    "                                             \"Coordinates\": \"xc yc\"})\n",
    "params_25km['expt'].values[:, nj_inds_25km, ni_inds_25km] = nearest_expt\n",
    "\n",
    "# Ksat\n",
    "ksat_land = params_50km['Ksat'].values[:, mask_50km > 0]\n",
    "nearest_ksat = ksat_land.reshape(3, len(c_land))[:, inds]\n",
    "ksat_vals = np.copy(arr_nlayer)\n",
    "params_25km['Ksat'] = xr.DataArray(ksat_vals, \n",
    "                                   dims=('nlayer','nj', 'ni'),\n",
    "                                   coords={'xc': domain_25km.xc, 'yc': domain_25km.yc},\n",
    "                                   attrs={'description': \"Saturated hydraulic conductivity\",\n",
    "                                           'units': \"mm/day\", 'long_name': \"Ksat\"},\n",
    "                                   encoding={\"_FillValue\": fillval_f,\n",
    "                                             \"Coordinates\": \"xc yc\"})\n",
    "params_25km['Ksat'].values[:, nj_inds_25km, ni_inds_25km] = nearest_ksat\n",
    "\n",
    "# phi_s\n",
    "phis_land = params_50km['phi_s'].values[:, mask_50km > 0]\n",
    "nearest_phis = phis_land.reshape(3, len(c_land))[:, inds]\n",
    "phis_vals = np.copy(arr_nlayer)\n",
    "params_25km['phi_s'] = xr.DataArray(phis_vals,\n",
    "                                    dims=('nlayer','nj', 'ni'),\n",
    "                                    coords={'xc': domain_25km.xc, 'yc': domain_25km.yc},\n",
    "                                    attrs={'description': \"Soil moisture diffusion parameter\",\n",
    "                                           'units': \"mm/mm\", 'long_name': \"phi_s\"},\n",
    "                                    encoding={\"_FillValue\": fillval_f,\n",
    "                                              \"Coordinates\": \"xc yc\"})\n",
    "params_25km['phi_s'].values[:, nj_inds_25km, ni_inds_25km] = nearest_phis\n",
    "\n",
    "# init moist \n",
    "initmoist_land = params_50km['init_moist'].values[:, mask_50km > 0]\n",
    "nearest_initmoist = initmoist_land.reshape(3, len(c_land))[:, inds]\n",
    "initmoist_vals = np.copy(arr_nlayer)\n",
    "params_25km['init_moist'] = xr.DataArray(initmoist_vals,\n",
    "                                         dims=('nlayer','nj', 'ni'),\n",
    "                                         coords={'xc': domain_25km.xc, 'yc': domain_25km.yc},\n",
    "                                         attrs={'description': \"Initial layer moisture content\",\n",
    "                                           'units': \"mm\", 'long_name': \"init_moist\"},\n",
    "                                         encoding={\"_FillValue\": fillval_f,\n",
    "                                                   \"Coordinates\": \"xc yc\"})\n",
    "params_25km['init_moist'].values[:, nj_inds_25km, ni_inds_25km] = nearest_initmoist\n",
    "\n",
    "# elev\n",
    "elev_land = params_50km['elev'].values[mask_50km > 0]\n",
    "nearest_elev = elev_land.flatten()[inds]\n",
    "elev_vals = np.copy(masknan_vals)\n",
    "params_25km['elev'] = xr.DataArray(elev_vals,\n",
    "                                dims=('nj', 'ni'),\n",
    "                                coords={'xc': domain_25km.xc, 'yc': domain_25km.yc},\n",
    "                                attrs={'description': \"Average elevation of grid cell\", \n",
    "                                              'units': \"m\", 'long_name': \"elev\"},\n",
    "                                encoding={\"_FillValue\": fillval_f,\n",
    "                                               \"Coordinates\": \"xc yc\"})\n",
    "params_25km['elev'].values[nj_inds_25km, ni_inds_25km] = nearest_elev\n",
    "\n",
    "# depth\n",
    "depth_land = params_50km['depth'].values[:, mask_50km > 0]\n",
    "nearest_depth = depth_land.reshape(3, len(c_land))[:, inds]\n",
    "depth_vals = np.copy(arr_nlayer)\n",
    "params_25km['depth'] = xr.DataArray(depth_vals,\n",
    "                                         dims=('nlayer','nj', 'ni'),\n",
    "                                         coords={'xc': domain_25km.xc, 'yc': domain_25km.yc},\n",
    "                                         attrs={'description': \"Thickness of each soil moisture layer\",\n",
    "                                           'units': \"m\", 'long_name': \"depth\"},\n",
    "                                         encoding={\"_FillValue\": fillval_f,\n",
    "                                               \"Coordinates\": \"xc yc\"})\n",
    "params_25km['depth'].values[:, nj_inds_25km, ni_inds_25km] = nearest_depth\n",
    "\n",
    "# avg_T\n",
    "avgt_land = params_50km['avg_T'].values[mask_50km > 0]\n",
    "nearest_avgt = avgt_land.flatten()[inds]\n",
    "avgt_vals = np.copy(masknan_vals)\n",
    "params_25km['avg_T'] = xr.DataArray(avgt_vals,\n",
    "                                dims=('nj', 'ni'),\n",
    "                                coords={'xc': domain_25km.xc, 'yc': domain_25km.yc},\n",
    "                                attrs={'description': \"Average soil temperature, used as the bottom boundary \\\n",
    "                                        for soil heat flux solutions\", \n",
    "                                        'units': \"C\", 'long_name': \"avg_T\"},\n",
    "                                encoding={\"_FillValue\": fillval_f,\n",
    "                                               \"Coordinates\": \"xc yc\"})\n",
    "params_25km['avg_T'].values[nj_inds_25km, ni_inds_25km] = nearest_avgt\n",
    "\n",
    "# dp\n",
    "dp_land = params_50km['dp'].values[mask_50km > 0]\n",
    "nearest_dp = dp_land.flatten()[inds]\n",
    "dp_vals = np.copy(masknan_vals)\n",
    "params_25km['dp'] = xr.DataArray(dp_vals,\n",
    "                                dims=('nj', 'ni'),\n",
    "                                coords={'xc': domain_25km.xc, 'yc': domain_25km.yc},\n",
    "                                attrs={'description': \"Soil thermal damping depth (depth at which soil temperature) \\\n",
    "                                        remains constant through the year, ~4 m\", \n",
    "                                              'units': \"m\", 'long_name': \"dp\"},\n",
    "                                encoding={\"_FillValue\": fillval_f,\n",
    "                                               \"Coordinates\": \"xc yc\"})\n",
    "params_25km['dp'].values[nj_inds_25km, ni_inds_25km] = nearest_dp\n",
    "\n",
    "# bubble\n",
    "bubble_land = params_50km['bubble'].values[:, mask_50km > 0]\n",
    "nearest_bubble = bubble_land.reshape(3, len(c_land))[:, inds]\n",
    "bubble_vals = np.copy(arr_nlayer)\n",
    "params_25km['bubble'] = xr.DataArray(bubble_vals,\n",
    "                                         dims=('nlayer','nj', 'ni'),\n",
    "                                         coords={'xc': domain_25km.xc, 'yc': domain_25km.yc},\n",
    "                                         attrs={'description': \"Bubbling pressure of soil. Values should be > 0\",\n",
    "                                           'units': \"cm\", 'long_name': \"bubble\"},\n",
    "                                encoding={\"_FillValue\": fillval_f,\n",
    "                                               \"Coordinates\": \"xc yc\"})\n",
    "params_25km['bubble'].values[:, nj_inds_25km, ni_inds_25km] = nearest_bubble\n",
    "\n",
    "# quartz\n",
    "quartz_land = params_50km['quartz'].values[:, mask_50km > 0]\n",
    "nearest_quartz = quartz_land.reshape(3, len(c_land))[:, inds]\n",
    "quartz_vals = np.copy(arr_nlayer)\n",
    "params_25km['quartz'] = xr.DataArray(quartz_vals,\n",
    "                                         dims=('nlayer','nj', 'ni'),\n",
    "                                         coords={'xc': domain_25km.xc, 'yc': domain_25km.yc},\n",
    "                                         attrs={'description': \"Quartz content of soil\",\n",
    "                                           'units': \"cm\", 'long_name': \"quartz\"},\n",
    "                                         encoding={\"_FillValue\": fillval_f,\n",
    "                                               \"Coordinates\": \"xc yc\"})\n",
    "params_25km['quartz'].values[:, nj_inds_25km, ni_inds_25km] = nearest_quartz\n",
    "\n",
    "# bulk density\n",
    "bd_land = params_50km['bulk_density'].values[:, mask_50km > 0]\n",
    "nearest_bd = bd_land.reshape(3, len(c_land))[:, inds]\n",
    "bd_vals = np.copy(arr_nlayer)\n",
    "params_25km['bulk_density'] = xr.DataArray(bd_vals,\n",
    "                                         dims=('nlayer','nj', 'ni'),\n",
    "                                         coords={'xc': domain_25km.xc, 'yc': domain_25km.yc},\n",
    "                                         attrs={'description': \"Bulk density of soil layer\",\n",
    "                                           'units': \"kg/m3\", 'long_name': \"bulk_density\"},\n",
    "                                         encoding={\"_FillValue\": fillval_f,\n",
    "                                               \"Coordinates\": \"xc yc\"})\n",
    "params_25km['bulk_density'].values[:, nj_inds_25km, ni_inds_25km] = nearest_bd\n",
    "\n",
    "# soil density\n",
    "sd_land = params_50km['soil_density'].values[:, mask_50km > 0]\n",
    "nearest_sd = sd_land.reshape(3, len(c_land))[:, inds]\n",
    "sd_vals = np.copy(arr_nlayer)\n",
    "params_25km['soil_density'] = xr.DataArray(sd_vals,\n",
    "                                         dims=('nlayer','nj', 'ni'),\n",
    "                                         coords={'xc': domain_25km.xc, 'yc': domain_25km.yc},\n",
    "                                         attrs={'description': \"Soil particle density, normally 2685 kg/m3\",\n",
    "                                           'units': \"kg/m3\", 'long_name': \"soil_density\"},\n",
    "                                         encoding={\"_FillValue\": fillval_f,\n",
    "                                               \"Coordinates\": \"xc yc\"})\n",
    "params_25km['soil_density'].values[:, nj_inds_25km, ni_inds_25km] = nearest_sd\n",
    "\n",
    "# off_gmt\n",
    "gmt_land = params_50km['off_gmt'].values[mask_50km > 0]\n",
    "nearest_gmt = gmt_land.flatten()[inds]\n",
    "gmt_vals = np.copy(masknan_vals)\n",
    "params_25km['off_gmt'] = xr.DataArray(gmt_vals,\n",
    "                                dims=('nj', 'ni'),\n",
    "                                coords={'xc': domain_25km.xc, 'yc': domain_25km.yc},\n",
    "                                attrs={'description': \"Time zone offset from GMT. This parameter determines how \\\n",
    "                                        VIC interprets sub-daily time steps relative to the model start date and time.\", \n",
    "                                        'units': \"hours\", 'long_name': \"off_gmt\"},\n",
    "                                encoding={\"_FillValue\": fillval_f,\n",
    "                                               \"Coordinates\": \"xc yc\"})\n",
    "params_25km['off_gmt'].values[nj_inds_25km, ni_inds_25km] = nearest_gmt\n",
    "\n",
    "# Wcr_FRACT\n",
    "wcr_land = params_50km['Wcr_FRACT'].values[:, mask_50km > 0]\n",
    "nearest_wcr = wcr_land.reshape(3, len(c_land))[:, inds]\n",
    "wcr_vals = np.copy(arr_nlayer)\n",
    "params_25km['Wcr_FRACT'] = xr.DataArray(wcr_vals,\n",
    "                                         dims=('nlayer','nj', 'ni'),\n",
    "                                         coords={'xc': domain_25km.xc, 'yc': domain_25km.yc},\n",
    "                                         attrs={'description': \"Fractional soil moisture content at the critical point \\\n",
    "                                                (~70%% of field capacity) (fraction of maximum moisture)\",\n",
    "                                           'units': \"fraction\", 'long_name': \"Wcr_FRACT\"},\n",
    "                                         encoding={\"_FillValue\": fillval_f,\n",
    "                                               \"Coordinates\": \"xc yc\"})\n",
    "params_25km['Wcr_FRACT'].values[:, nj_inds_25km, ni_inds_25km] = nearest_wcr\n",
    "\n",
    "# Wpwp_FRACT\n",
    "wp_land = params_50km['Wpwp_FRACT'].values[:, mask_50km > 0]\n",
    "nearest_wp = wp_land.reshape(3, len(c_land))[:, inds]\n",
    "wp_vals = np.copy(arr_nlayer)\n",
    "params_25km['Wpwp_FRACT'] = xr.DataArray(wp_vals,\n",
    "                                         dims=('nlayer','nj', 'ni'),\n",
    "                                         coords={'xc': domain_25km.xc, 'yc': domain_25km.yc},\n",
    "                                         attrs={'description': \"Fractional soil moisture content at the \\\n",
    "                                                wilting point (fraction of maximum moisture)\",\n",
    "                                           'units': \"fraction\", 'long_name': \"Wpwp_FRACT\"},\n",
    "                                         encoding={\"_FillValue\": fillval_f,\n",
    "                                               \"Coordinates\": \"xc yc\"})\n",
    "params_25km['Wpwp_FRACT'].values[:, nj_inds_25km, ni_inds_25km] = nearest_wp\n",
    "\n",
    "# rough\n",
    "rough_land = params_50km['rough'].values[mask_50km > 0]\n",
    "nearest_rough = rough_land.flatten()[inds]\n",
    "rough_vals = np.copy(masknan_vals)\n",
    "params_25km['rough'] = xr.DataArray(rough_vals,\n",
    "                                dims=('nj', 'ni'),\n",
    "                                coords={'xc': domain_25km.xc, 'yc': domain_25km.yc},\n",
    "                                attrs={'description': \"Surface roughness of bare soil\", \n",
    "                                              'units': \"m\", 'long_name': \"rough\"},\n",
    "                                encoding={\"_FillValue\": fillval_f,\n",
    "                                               \"Coordinates\": \"xc yc\"})\n",
    "params_25km['rough'].values[nj_inds_25km, ni_inds_25km] = nearest_rough\n",
    "\n",
    "# snow rough\n",
    "snowrough_land = params_50km['snow_rough'].values[mask_50km > 0]\n",
    "nearest_snowrough = snowrough_land.flatten()[inds]\n",
    "snowrough_vals = np.copy(masknan_vals)\n",
    "params_25km['snow_rough'] = xr.DataArray(snowrough_vals,\n",
    "                                dims=('nj', 'ni'),\n",
    "                                coords={'xc': domain_25km.xc, 'yc': domain_25km.yc},\n",
    "                                attrs={'description': \"Surface roughness of snowpack\", \n",
    "                                              'units': \"m\", 'long_name': \"snow_rough\"},\n",
    "                                encoding={\"_FillValue\": fillval_f,\n",
    "                                               \"Coordinates\": \"xc yc\"})\n",
    "params_25km['snow_rough'].values[nj_inds_25km, ni_inds_25km] = nearest_snowrough\n",
    "\n",
    "# annual prec\n",
    "prec_land = params_50km['annual_prec'].values[mask_50km > 0]\n",
    "nearest_prec = prec_land.flatten()[inds]\n",
    "prec_vals = np.copy(masknan_vals)\n",
    "params_25km['annual_prec'] = xr.DataArray(prec_vals,\n",
    "                                dims=('nj', 'ni'),\n",
    "                                coords={'xc': domain_25km.xc, 'yc': domain_25km.yc},\n",
    "                                attrs={'description': \"Average annual precipitation\", \n",
    "                                              'units': \"mm\", 'long_name': \"annual_prec\"},\n",
    "                                encoding={\"_FillValue\": fillval_f,\n",
    "                                               \"Coordinates\": \"xc yc\"})\n",
    "params_25km['annual_prec'].values[nj_inds_25km, ni_inds_25km] = nearest_prec\n",
    "\n",
    "# resid moist\n",
    "resid_land = params_50km['resid_moist'].values[:, mask_50km > 0]\n",
    "nearest_resid = resid_land.reshape(3, len(c_land))[:, inds]\n",
    "resid_vals = np.copy(arr_nlayer)\n",
    "params_25km['resid_moist'] = xr.DataArray(resid_vals,\n",
    "                                         dims=('nlayer','nj', 'ni'),\n",
    "                                         coords={'xc': domain_25km.xc, 'yc': domain_25km.yc},\n",
    "                                         attrs={'description': \"Soil moisture layer residual moisture\",\n",
    "                                           'units': \"fraction\", 'long_name': \"resid_moist\"},\n",
    "                                         encoding={\"_FillValue\": fillval_f,\n",
    "                                               \"Coordinates\": \"xc yc\"})\n",
    "params_25km['resid_moist'].values[:, nj_inds_25km, ni_inds_25km] = nearest_resid\n",
    "\n",
    "# fs_active\n",
    "fs_land = params_50km['fs_active'].values[mask_50km > 0]\n",
    "nearest_fs = fs_land.flatten()[inds]\n",
    "fs_vals = np.copy(masknan_vals)\n",
    "params_25km['fs_active'] = xr.DataArray(fs_vals,\n",
    "                                dims=('nj', 'ni'),\n",
    "                                coords={'xc': domain_25km.xc, 'yc': domain_25km.yc},\n",
    "                                attrs={'description': \"If set to 1, then frozen soil algorithm is activated for the \\\n",
    "                                        grid cell. A 0 indicates that frozen soils are not computed if soil \\\n",
    "                                        temperatures fall below 0C.\", \n",
    "                                        'units': \"binary\", 'long_name': \"fs_active\"},\n",
    "                                encoding={\"_FillValue\": fillval_i,\n",
    "                                               \"Coordinates\": \"xc yc\", 'dtype': 'int32'})\n",
    "params_25km['fs_active'].values[nj_inds_25km, ni_inds_25km] = nearest_fs\n",
    "\n",
    "# cellnum\n",
    "cellnum_land = params_50km['cellnum'].values[mask_50km > 0]\n",
    "nearest_cellnum = cellnum_land.flatten()[inds]\n",
    "cellnum_vals = np.copy(masknan_vals)\n",
    "params_25km['cellnum'] = xr.DataArray(cellnum_vals,\n",
    "                                dims=('nj', 'ni'),\n",
    "                                coords={'xc': domain_25km.xc, 'yc': domain_25km.yc},\n",
    "                                attrs={'description': \"Grid cell number (should match numbers assigned in \\\n",
    "                                        soil parameter file)\", \n",
    "                                        'units': \"N/A\", 'long_name': \"cellnum\"},\n",
    "                                encoding={\"_FillValue\": fillval_i,\n",
    "                                               \"Coordinates\": \"xc yc\", 'dtype': 'int32'})\n",
    "params_25km['cellnum'].values[nj_inds_25km, ni_inds_25km] = nearest_cellnum\n",
    "\n",
    "# array for parameters with snow bands\n",
    "arr_snowband = np.rollaxis(np.dstack((masknan_vals, masknan_vals, masknan_vals, masknan_vals, masknan_vals)), \n",
    "                           axis=2)\n",
    "# snow_band\n",
    "params_25km['snow_band'] = xr.DataArray(params_50km.snow_band.values, dims='snow_band')\n",
    "\n",
    "# AreaFract\n",
    "areafract_land = params_50km['AreaFract'].values[:, mask_50km > 0]\n",
    "nearest_areafract = areafract_land.reshape(5, len(c_land))[:, inds]\n",
    "areafract_vals = np.copy(arr_snowband)\n",
    "params_25km['AreaFract'] = xr.DataArray(areafract_vals,\n",
    "                                         dims=('snow_band','nj', 'ni'),\n",
    "                                         coords={'xc': domain_25km.xc, 'yc': domain_25km.yc},\n",
    "                                         attrs={'description': \"Fraction of grid cell covered by each elevation band. \\\n",
    "                                                Sum of the fractions must equal 1.\",\n",
    "                                                'units': \"fraction\", 'long_name': \"AreaFract\"},\n",
    "                                         encoding={\"_FillValue\": fillval_f,\n",
    "                                               \"Coordinates\": \"xc yc\"})\n",
    "params_25km['AreaFract'].values[:, nj_inds_25km, ni_inds_25km] = nearest_areafract\n",
    "\n",
    "# elevation\n",
    "elevation_land = params_50km['elevation'].values[:, mask_50km > 0]\n",
    "nearest_elevation = elevation_land.reshape(5, len(c_land))[:, inds]\n",
    "elevation_vals = np.copy(arr_snowband)\n",
    "params_25km['elevation'] = xr.DataArray(elevation_vals,\n",
    "                                         dims=('snow_band','nj', 'ni'),\n",
    "                                         coords={'xc': domain_25km.xc, 'yc': domain_25km.yc},\n",
    "                                         attrs={'description': \"Mean (or median) elevation of elevation band. This is \\\n",
    "                                                 used to compute the change in air temperature from the grid cell \\\n",
    "                                                 mean elevation\",\n",
    "                                                'units': \"m\", 'long_name': \"elevation\"},\n",
    "                                         encoding={\"_FillValue\": fillval_f,\n",
    "                                               \"Coordinates\": \"xc yc\"})\n",
    "params_25km['elevation'].values[:, nj_inds_25km, ni_inds_25km] = nearest_elevation\n",
    "\n",
    "# Pfactor\n",
    "pfactor_land = params_50km['Pfactor'].values[:, mask_50km > 0]\n",
    "nearest_pfactor = pfactor_land.reshape(5, len(c_land))[:, inds]\n",
    "pfactor_vals = np.copy(arr_snowband)\n",
    "params_25km['Pfactor'] = xr.DataArray(pfactor_vals,\n",
    "                                         dims=('snow_band','nj', 'ni'),\n",
    "                                         coords={'xc': domain_25km.xc, 'yc': domain_25km.yc},\n",
    "                                         attrs={'description': \"Fraction of cell precipitation that falls on each \\\n",
    "                                                elevation band. Total must equal 1. To ignore effects of elevation \\\n",
    "                                                on precipitation, set these fractions equal to the area fractions.\",\n",
    "                                                'units': \"fraction\", 'long_name': \"Pfactor\"},\n",
    "                                         encoding={\"_FillValue\": fillval_f,\n",
    "                                               \"Coordinates\": \"xc yc\"})\n",
    "params_25km['Pfactor'].values[:, nj_inds_25km, ni_inds_25km] = nearest_pfactor\n",
    "\n",
    "# month\n",
    "# array for parameters with months\n",
    "arr_months = np.rollaxis(np.dstack((masknan_vals, masknan_vals, masknan_vals, masknan_vals, masknan_vals, masknan_vals,\n",
    "                                    masknan_vals, masknan_vals, masknan_vals, masknan_vals, masknan_vals, masknan_vals)), \n",
    "                        axis=2)\n",
    "params_25km['month'] = xr.DataArray(params_50km.month.values, dims='month', \n",
    "                                    attrs={'long_name': \"month of year\"})\n",
    "\n",
    "# veg class\n",
    "# array for parameters with veg classes\n",
    "arr_veg_classes = np.rollaxis(np.dstack((masknan_vals, masknan_vals, masknan_vals, masknan_vals, masknan_vals, masknan_vals,\n",
    "                                    masknan_vals, masknan_vals, masknan_vals, masknan_vals, masknan_vals, masknan_vals)), \n",
    "                              axis=2)\n",
    "params_25km['veg_class'] = xr.DataArray(params_50km.veg_class.values, dims='veg_class', \n",
    "                                    attrs={'long_name': \"vegetation class\"})\n",
    "\n",
    "# Nveg\n",
    "nveg_land = params_50km['Nveg'].values[mask_50km > 0]\n",
    "nearest_nveg = nveg_land.flatten()[inds]\n",
    "nveg_vals = np.copy(masknan_vals)\n",
    "params_25km['Nveg'] = xr.DataArray(nveg_vals,\n",
    "                                   dims=('nj', 'ni'),\n",
    "                                   coords={'xc': domain_25km.xc, 'yc': domain_25km.yc},\n",
    "                                   attrs={'description': \"Number of vegetation tiles in the grid cell\", \n",
    "                                          'units': \"N/A\", 'long_name': \"Nveg\"},\n",
    "                                   encoding={\"_FillValue\": fillval_i,\n",
    "                                               \"Coordinates\": \"xc yc\", 'dtype': 'int32'})\n",
    "params_25km['Nveg'].values[nj_inds_25km, ni_inds_25km] = nearest_nveg\n",
    "\n",
    "# Cv\n",
    "cv_land = params_50km['Cv'].values[:, mask_50km > 0]\n",
    "nearest_cv = cv_land.reshape(12, len(c_land))[:, inds]\n",
    "cv_vals = np.copy(arr_veg_classes)\n",
    "params_25km['Cv'] = xr.DataArray(cv_vals,\n",
    "                                 dims=('veg_class','nj', 'ni'),\n",
    "                                 coords={'xc': domain_25km.xc, 'yc': domain_25km.yc},\n",
    "                                 attrs={'description': \"Fraction of grid cell covered by vegetation tile\",\n",
    "                                        'units': \"fraction\", 'long_name': \"Cv\"},\n",
    "                                 encoding={\"_FillValue\": fillval_f,\n",
    "                                               \"Coordinates\": \"xc yc\"})\n",
    "params_25km['Cv'].values[:, nj_inds_25km, ni_inds_25km] = nearest_cv\n",
    "\n",
    "# veg class and root zone\n",
    "# 4-d array (veg_class, root_zone, nj, ni)\n",
    "arr_veg_classes_rootzone = np.vstack((arr_nlayer, arr_nlayer, arr_nlayer, arr_nlayer, arr_nlayer, arr_nlayer,\n",
    "                                      arr_nlayer, arr_nlayer, arr_nlayer, arr_nlayer, \n",
    "                                      arr_nlayer, arr_nlayer)).reshape(12, 3, 413, 551)\n",
    "\n",
    "params_25km['root_zone'] = xr.DataArray(params_50km.root_zone.values, dims='root_zone', \n",
    "                                    attrs={'long_name': \"root zone\"})\n",
    "\n",
    "# root depth\n",
    "rootd_land = params_50km['root_depth'].values[:, :, mask_50km > 0]\n",
    "nearest_rootd = rootd_land.reshape(12, 3, len(c_land))[:, :, inds]\n",
    "rootd_vals = np.copy(arr_veg_classes_rootzone)\n",
    "params_25km['root_depth'] = xr.DataArray(rootd_vals,\n",
    "                                         dims=('veg_class','root_zone','nj', 'ni'),\n",
    "                                         coords={'xc': domain_25km.xc, 'yc': domain_25km.yc},\n",
    "                                         attrs={'description': \"Root zone thickness (sum of depths is total depth of \\\n",
    "                                                 root penetration)\",\n",
    "                                                'units': \"m\", 'long_name': \"root_depth\"},\n",
    "                                         encoding={\"_FillValue\": fillval_f,\n",
    "                                               \"Coordinates\": \"xc yc\"})\n",
    "params_25km['root_depth'].values[:, :, nj_inds_25km, ni_inds_25km] = nearest_rootd\n",
    "\n",
    "# root fract\n",
    "rootfract_land = params_50km['root_fract'].values[:, :, mask_50km > 0]\n",
    "nearest_rootfract = rootfract_land.reshape(12, 3, len(c_land))[:, :, inds]\n",
    "rootfract_vals = np.copy(arr_veg_classes_rootzone)\n",
    "params_25km['root_fract'] = xr.DataArray(rootfract_vals,\n",
    "                                         dims=('veg_class','root_zone','nj', 'ni'),\n",
    "                                         coords={'xc': domain_25km.xc, 'yc': domain_25km.yc},\n",
    "                                         attrs={'description': \"Fraction of root in the current root zone\",\n",
    "                                                'units': \"fraction\", 'long_name': \"root_fract\"},\n",
    "                                         encoding={\"_FillValue\": fillval_f,\n",
    "                                               \"Coordinates\": \"xc yc\"})\n",
    "params_25km['root_fract'].values[:, :, nj_inds_25km, ni_inds_25km] = nearest_rootfract\n",
    "\n",
    "# veg class and month\n",
    "# 4-d array (veg_class, month, nj, ni)\n",
    "arr_veg_classes_month = np.vstack((arr_months, arr_months, arr_months, arr_months, arr_months, arr_months,\n",
    "                                      arr_months, arr_months, arr_months, arr_months, \n",
    "                                      arr_months, arr_months)).reshape(12, 12, 413, 551)\n",
    "\n",
    "# LAI \n",
    "lai_land = params_50km['LAI'].values[:, :, mask_50km > 0]\n",
    "nearest_lai = lai_land.reshape(12, 12, len(c_land))[:, :, inds]\n",
    "lai_vals = np.copy(arr_veg_classes_month)\n",
    "params_25km['LAI'] = xr.DataArray(lai_vals,\n",
    "                                 dims=('veg_class','month','nj', 'ni'),\n",
    "                                 coords={'xc': domain_25km.xc, 'yc': domain_25km.yc, 'month': params_25km.month},\n",
    "                                 attrs={'description': \"Leaf Area Index, one per month\",\n",
    "                                        'units': \"N/A\", 'long_name': \"LAI\"},\n",
    "                                 encoding={\"_FillValue\": fillval_f,\n",
    "                                               \"Coordinates\": \"xc yc\"})\n",
    "params_25km['LAI'].values[:, :, nj_inds_25km, ni_inds_25km] = nearest_lai\n",
    "\n",
    "# overstory\n",
    "overstory_land = params_50km['overstory'].values[:, mask_50km > 0]\n",
    "nearest_overstory = overstory_land.reshape(12, len(c_land))[:, inds]\n",
    "overstory_vals = np.copy(arr_veg_classes)\n",
    "params_25km['overstory'] = xr.DataArray(overstory_vals,\n",
    "                                 dims=('veg_class','nj', 'ni'),\n",
    "                                 coords={'xc': domain_25km.xc, 'yc': domain_25km.yc},\n",
    "                                 attrs={'description': \"Flag to indicate whether or not the current vegetation type \\\n",
    "                                        has an overstory (TRUE for overstory present (e.g. trees), FALSE for \\\n",
    "                                        overstory not present (e.g. grass))\",\n",
    "                                        'units': \"N/A\", 'long_name': \"overstory\"},\n",
    "                                 encoding={\"_FillValue\": fillval_i,\n",
    "                                               \"Coordinates\": \"xc yc\", 'dtype': 'int32'})\n",
    "params_25km['overstory'].values[:, nj_inds_25km, ni_inds_25km] = nearest_overstory\n",
    "\n",
    "# rarc\n",
    "rarc_land = params_50km['rarc'].values[:, mask_50km > 0]\n",
    "nearest_rarc = rarc_land.reshape(12, len(c_land))[:, inds]\n",
    "rarc_vals = np.copy(arr_veg_classes)\n",
    "params_25km['rarc'] = xr.DataArray(rarc_vals,\n",
    "                                 dims=('veg_class','nj', 'ni'),\n",
    "                                 coords={'xc': domain_25km.xc, 'yc': domain_25km.yc},\n",
    "                                 attrs={'description': \"Architectural resistance of vegetation type (~2 s/m)\",\n",
    "                                        'units': \"s/m\", 'long_name': \"rarc\"},\n",
    "                                 encoding={\"_FillValue\": fillval_f,\n",
    "                                               \"Coordinates\": \"xc yc\"})\n",
    "params_25km['rarc'].values[:, nj_inds_25km, ni_inds_25km] = nearest_rarc\n",
    "\n",
    "# rmin\n",
    "rmin_land = params_50km['rmin'].values[:, mask_50km > 0]\n",
    "nearest_rmin = rmin_land.reshape(12, len(c_land))[:, inds]\n",
    "rmin_vals = np.copy(arr_veg_classes)\n",
    "params_25km['rmin'] = xr.DataArray(rmin_vals,\n",
    "                                 dims=('veg_class','nj', 'ni'),\n",
    "                                 coords={'xc': domain_25km.xc, 'yc': domain_25km.yc},\n",
    "                                 attrs={'description': \"Minimum stomatal resistance of vegetation type (~100 s/m)\",\n",
    "                                        'units': \"s/m\", 'long_name': \"rmin\"},\n",
    "                                 encoding={\"_FillValue\": fillval_f,\n",
    "                                               \"Coordinates\": \"xc yc\"})\n",
    "params_25km['rmin'].values[:, nj_inds_25km, ni_inds_25km] = nearest_rmin\n",
    "\n",
    "# windh\n",
    "windh_land = params_50km['wind_h'].values[:, mask_50km > 0]\n",
    "nearest_windh = windh_land.reshape(12, len(c_land))[:, inds]\n",
    "windh_vals = np.copy(arr_veg_classes)\n",
    "params_25km['wind_h'] = xr.DataArray(windh_vals,\n",
    "                                 dims=('veg_class','nj', 'ni'),\n",
    "                                 coords={'xc': domain_25km.xc, 'yc': domain_25km.yc},\n",
    "                                 attrs={'description': \"Height at which wind speed is measured\",\n",
    "                                        'units': \"m\", 'long_name': \"wind_h\"},\n",
    "                                 encoding={\"_FillValue\": fillval_f,\n",
    "                                               \"Coordinates\": \"xc yc\"})\n",
    "params_25km['wind_h'].values[:, nj_inds_25km, ni_inds_25km] = nearest_windh\n",
    "\n",
    "# RGL\n",
    "rgl_land = params_50km['RGL'].values[:, mask_50km > 0]\n",
    "nearest_rgl = rgl_land.reshape(12, len(c_land))[:, inds]\n",
    "rgl_vals = np.copy(arr_veg_classes)\n",
    "params_25km['RGL'] = xr.DataArray(rgl_vals,\n",
    "                                 dims=('veg_class','nj', 'ni'),\n",
    "                                 coords={'xc': domain_25km.xc, 'yc': domain_25km.yc},\n",
    "                                 attrs={'description': \"Minimum incoming shortwave radiation at which there will be \\\n",
    "                                        transpiration. For trees this is about 30 W/m^2, for crops about 100 W/m^2\",\n",
    "                                        'units': \"W/m^2\", 'long_name': \"RGL\"},\n",
    "                                 encoding={\"_FillValue\": fillval_f,\n",
    "                                               \"Coordinates\": \"xc yc\"})\n",
    "params_25km['RGL'].values[:, nj_inds_25km, ni_inds_25km] = nearest_rgl\n",
    "\n",
    "# rad_atten\n",
    "rad_land = params_50km['rad_atten'].values[:, mask_50km > 0]\n",
    "nearest_rad = rad_land.reshape(12, len(c_land))[:, inds]\n",
    "rad_vals = np.copy(arr_veg_classes)\n",
    "params_25km['rad_atten'] = xr.DataArray(rad_vals,\n",
    "                                 dims=('veg_class','nj', 'ni'),\n",
    "                                 coords={'xc': domain_25km.xc, 'yc': domain_25km.yc},\n",
    "                                 attrs={'description': \"Radiation attenuation factor. Normally set to 0.5, though may \\\n",
    "                                        need to be adjusted for high latitudes\",\n",
    "                                        'units': \"fraction\", 'long_name': \"rad_atten\"},\n",
    "                                 encoding={\"_FillValue\": fillval_f,\n",
    "                                               \"Coordinates\": \"xc yc\"})\n",
    "params_25km['rad_atten'].values[:, nj_inds_25km, ni_inds_25km] = nearest_rad\n",
    "\n",
    "# wind_atten\n",
    "wind_land = params_50km['wind_atten'].values[:, mask_50km > 0]\n",
    "nearest_wind = wind_land.reshape(12, len(c_land))[:, inds]\n",
    "wind_vals = np.copy(arr_veg_classes)\n",
    "params_25km['wind_atten'] = xr.DataArray(wind_vals,\n",
    "                                 dims=('veg_class','nj', 'ni'),\n",
    "                                 coords={'xc': domain_25km.xc, 'yc': domain_25km.yc},\n",
    "                                 attrs={'description': \"Wind speed attenuation through the overstory. The default value \\\n",
    "                                        has been 0.5\",\n",
    "                                        'units': \"fraction\", 'long_name': \"wind_atten\"},\n",
    "                                 encoding={\"_FillValue\": fillval_f,\n",
    "                                               \"Coordinates\": \"xc yc\"})\n",
    "params_25km['wind_atten'].values[:, nj_inds_25km, ni_inds_25km] = nearest_wind\n",
    "\n",
    "# trunk ratio\n",
    "trunk_land = params_50km['trunk_ratio'].values[:, mask_50km > 0]\n",
    "nearest_trunk = trunk_land.reshape(12, len(c_land))[:, inds]\n",
    "trunk_vals = np.copy(arr_veg_classes)\n",
    "params_25km['trunk_ratio'] = xr.DataArray(trunk_vals,\n",
    "                                 dims=('veg_class','nj', 'ni'),\n",
    "                                 coords={'xc': domain_25km.xc, 'yc': domain_25km.yc},\n",
    "                                 attrs={'description': \"Ratio of total tree height htat is trunk (no branches) \\\n",
    "                                        The default value has been 0.2\",\n",
    "                                        'units': \"fraction\", 'long_name': \"Cv\"},\n",
    "                                 encoding={\"_FillValue\": fillval_f,\n",
    "                                               \"Coordinates\": \"xc yc\"})\n",
    "params_25km['trunk_ratio'].values[:, nj_inds_25km, ni_inds_25km] = nearest_trunk\n",
    "\n",
    "# snow albedo\n",
    "snowalb_land = params_50km['snow_albedo'].values[:, mask_50km > 0]\n",
    "nearest_snowalb = snowalb_land.reshape(12, len(c_land))[:, inds]\n",
    "snowalb_vals = np.copy(arr_veg_classes)\n",
    "params_25km['snow_albedo'] = xr.DataArray(snowalb_vals,\n",
    "                                 dims=('veg_class','nj', 'ni'),\n",
    "                                 coords={'xc': domain_25km.xc, 'yc': domain_25km.yc},\n",
    "                                 attrs={'description': \"Maximum vegetation snow albedo\",\n",
    "                                        'units': \"fraction\", 'long_name': \"snow_albedo\"},\n",
    "                                 encoding={\"_FillValue\": fillval_f,\n",
    "                                               \"Coordinates\": \"xc yc\"})\n",
    "params_25km['snow_albedo'].values[:, nj_inds_25km, ni_inds_25km] = nearest_snowalb\n",
    "\n",
    "# albedo\n",
    "albedo_land = params_50km['albedo'].values[:, :, mask_50km > 0]\n",
    "nearest_albedo = albedo_land.reshape(12, 12, len(c_land))[:, :, inds]\n",
    "albedo_vals = np.copy(arr_veg_classes_month)\n",
    "params_25km['albedo'] = xr.DataArray(albedo_vals,\n",
    "                                         dims=('veg_class','month','nj', 'ni'),\n",
    "                                         coords={'xc': domain_25km.xc, 'yc': domain_25km.yc},\n",
    "                                         attrs={'description': \"Shortwave albedo for vegetation type\",\n",
    "                                                'units': \"fraction\", 'long_name': \"albedo\"},\n",
    "                                         encoding={\"_FillValue\": fillval_f,\n",
    "                                               \"Coordinates\": \"xc yc\"})\n",
    "params_25km['albedo'].values[:, :, nj_inds_25km, ni_inds_25km] = nearest_albedo\n",
    "\n",
    "# veg_rough \n",
    "vegrough_land = params_50km['veg_rough'].values[:, :, mask_50km > 0]\n",
    "nearest_vegrough = vegrough_land.reshape(12, 12, len(c_land))[:, :, inds]\n",
    "vegrough_vals = np.copy(arr_veg_classes_month)\n",
    "params_25km['veg_rough'] = xr.DataArray(vegrough_vals,\n",
    "                                         dims=('veg_class','month','nj', 'ni'),\n",
    "                                         coords={'xc': domain_25km.xc, 'yc': domain_25km.yc},\n",
    "                                         attrs={'description': \"Vegetation roughness length (typically 0.123 \\\n",
    "                                                * vegetation height)\",\n",
    "                                                'units': \"m\", 'long_name': \"veg_rough\"},\n",
    "                                         encoding={\"_FillValue\": fillval_f,\n",
    "                                               \"Coordinates\": \"xc yc\"})\n",
    "params_25km['veg_rough'].values[:, :, nj_inds_25km, ni_inds_25km] = nearest_vegrough\n",
    "\n",
    "# displacement\n",
    "disp_land = params_50km['displacement'].values[:, :, mask_50km > 0]\n",
    "nearest_disp = disp_land.reshape(12, 12, len(c_land))[:, :, inds]\n",
    "disp_vals = np.copy(arr_veg_classes_month)\n",
    "params_25km['displacement'] = xr.DataArray(disp_vals,\n",
    "                                         dims=('veg_class','month','nj', 'ni'),\n",
    "                                         coords={'month': params_25km['month'], 'xc': domain_25km.xc, \n",
    "                                                 'yc': domain_25km.yc},\n",
    "                                         attrs={'description': \"Vegetation displacement height (typically 0.67 \\\n",
    "                                                * vegetation height)\",\n",
    "                                                'units': \"m\", 'long_name': \"displacement\"},\n",
    "                                         encoding={\"_FillValue\": fillval_f,\n",
    "                                               \"Coordinates\": \"xc yc\"})\n",
    "params_25km['displacement'].values[:, :, nj_inds_25km, ni_inds_25km] = nearest_disp\n",
    "\n",
    "params_25km['xc'] = xr.DataArray(domain_25km['xc'].values,\n",
    "                                 dims=('nj', 'ni'),\n",
    "                                 attrs={'units': \"degrees_east\", 'long_name': \"longitude of gridcell center\",\n",
    "                                        'bounds': 'xv'})\n",
    "\n",
    "params_25km['yc'] = xr.DataArray(domain_25km['yc'].values,\n",
    "                                 dims=('nj', 'ni'),\n",
    "                                 attrs={'units': \"degrees_north\", 'long_name': \"latitude of gridcell center\",\n",
    "                                        'bounds': 'yv'})"
   ]
  },
  {
   "cell_type": "code",
   "execution_count": 260,
   "metadata": {
    "collapsed": false,
    "scrolled": true
   },
   "outputs": [
    {
     "data": {
      "text/plain": [
       "{'Coordinates': 'xc yc', '_FillValue': -2147483647, 'dtype': 'int32'}"
      ]
     },
     "execution_count": 260,
     "metadata": {},
     "output_type": "execute_result"
    }
   ],
   "source": [
    "params_25km.run_cell.encoding"
   ]
  },
  {
   "cell_type": "code",
   "execution_count": 261,
   "metadata": {
    "collapsed": false
   },
   "outputs": [
    {
     "data": {
      "text/plain": [
       "<xarray.DataArray 'displacement' (veg_class: 12, month: 12, nj: 205, ni: 275)>\n",
       "array([[[[  nan, ...,   nan],\n",
       "         ..., \n",
       "         [  nan, ...,  8.04]],\n",
       "\n",
       "        ..., \n",
       "        [[  nan, ...,   nan],\n",
       "         ..., \n",
       "         [  nan, ...,  8.04]]],\n",
       "\n",
       "\n",
       "       ..., \n",
       "       [[[  nan, ...,   nan],\n",
       "         ..., \n",
       "         [  nan, ...,  0.  ]],\n",
       "\n",
       "        ..., \n",
       "        [[  nan, ...,   nan],\n",
       "         ..., \n",
       "         [  nan, ...,  0.  ]]]])\n",
       "Coordinates:\n",
       "    yc       (nj, ni) float64 16.53 16.78 17.02 17.27 17.51 17.76 18.0 18.25 ...\n",
       "    xc       (nj, ni) float64 -170.8 -170.6 -170.4 -170.3 -170.1 -169.9 ...\n",
       "  * month    (month) int32 1 2 3 4 5 6 7 8 9 10 11 12\n",
       "Dimensions without coordinates: veg_class, nj, ni\n",
       "Attributes:\n",
       "    long_name:    displacement\n",
       "    units:        m\n",
       "    description:  Vegetation displacement height (typically 0.67 * vegetation..."
      ]
     },
     "execution_count": 261,
     "metadata": {},
     "output_type": "execute_result"
    }
   ],
   "source": [
    "params_50km.displacement"
   ]
  },
  {
   "cell_type": "code",
   "execution_count": 262,
   "metadata": {
    "collapsed": false
   },
   "outputs": [],
   "source": [
    "params_25km.to_netcdf('params_25km_full.nc', format='NETCDF4_CLASSIC')"
   ]
  },
  {
   "cell_type": "code",
   "execution_count": 263,
   "metadata": {
    "collapsed": false
   },
   "outputs": [
    {
     "data": {
      "text/plain": [
       "<matplotlib.collections.QuadMesh at 0x15b62ecf8>"
      ]
     },
     "execution_count": 263,
     "metadata": {},
     "output_type": "execute_result"
    },
    {
     "data": {
      "image/png": "[encoded data removed]",
      "text/plain": [
       "<matplotlib.figure.Figure at 0x1437ed0b8>"
      ]
     },
     "metadata": {},
     "output_type": "display_data"
    }
   ],
   "source": [
    "params_25km.expt.isel(nlayer=0).plot()"
   ]
  },
  {
   "cell_type": "code",
   "execution_count": 62,
   "metadata": {
    "collapsed": false
   },
   "outputs": [],
   "source": [
    "arr_3d = np.ones(shape=(3, domain_25km.mask.values.shape[0], domain_25km.mask.values.shape[1]))\n",
    "domain_25km['arr_3d'] = xr.DataArray(arr_3d)"
   ]
  },
  {
   "cell_type": "code",
   "execution_count": 151,
   "metadata": {
    "collapsed": false
   },
   "outputs": [
    {
     "data": {
      "text/plain": [
       "<xarray.Dataset>\n",
       "Dimensions:      (dim_0: 413, dim_1: 551, ni: 551, nj: 413, nv4: 4)\n",
       "Coordinates:\n",
       "    xc           (nj, ni) float64 -170.6 -170.5 -170.4 -170.4 -170.3 -170.2 ...\n",
       "    yc           (nj, ni) float64 16.25 16.38 16.5 16.62 16.74 16.86 16.98 ...\n",
       "Dimensions without coordinates: dim_0, dim_1, ni, nj, nv4\n",
       "Data variables:\n",
       "    xv           (nj, ni, nv4) float64 -170.6 -170.5 -170.6 -170.7 -170.5 ...\n",
       "    yv           (nj, ni, nv4) float64 16.15 16.27 16.35 16.23 16.27 16.4 ...\n",
       "    mask         (nj, ni) int32 -2147483648 -2147483648 -2147483648 ...\n",
       "    area         (nj, ni) float64 6.398e-06 6.417e-06 6.437e-06 6.458e-06 ...\n",
       "    frac         (nj, ni) float64 0.0 0.0 0.0 0.0 0.0 0.0 0.0 0.0 0.0 0.0 ...\n",
       "    mask_interp  (dim_0, dim_1) int32 -2147483648 -2147483648 -2147483648 ...\n",
       "Attributes:\n",
       "    title:               CESM domain data:\n",
       "    Conventions:         CF-1.0\n",
       "    source_code:         SVN $Id: gen_domain.F90 41914 2012-11-13 21:58:37Z m...\n",
       "    SVN_url:              $URL: https://svn-ccsm-models.cgd.ucar.edu/tools/ma...\n",
       "    Compiler_Optimized:  FALSE\n",
       "    hostname:            geyser03\n",
       "    history:             created by tcraig, 2017-04-13 19:33:31\n",
       "    source:              /glade/p/cesmdata/cseg/inputdata/cpl/cpl6/map_ar9v4_...\n",
       "    map_domain_a:        /glade/p/cesmdata/cseg/mapping/grids/ar9v4_100920.nc\n",
       "    map_domain_b:        /glade/p/cesmdata/cseg/mapping/grids/wr25b_170413.nc\n",
       "    map_grid_file_ocn:   /glade/p/cesmdata/cseg/mapping/grids/ar9v4_100920.nc\n",
       "    map_grid_file_atm:   /glade/p/cesmdata/cseg/mapping/grids/wr25b_170413.nc"
      ]
     },
     "execution_count": 151,
     "metadata": {},
     "output_type": "execute_result"
    }
   ],
   "source": [
    "domain_25km = domain_25km.rename({'nv': 'nv4'})\n",
    "domain_25km"
   ]
  },
  {
   "cell_type": "code",
   "execution_count": 134,
   "metadata": {
    "collapsed": false
   },
   "outputs": [
    {
     "data": {
      "text/plain": [
       "(4, 413, 551)"
      ]
     },
     "execution_count": 134,
     "metadata": {},
     "output_type": "execute_result"
    }
   ],
   "source": [
    "np.rollaxis(domain_25km.xv.values, axis=2).shape"
   ]
  },
  {
   "cell_type": "code",
   "execution_count": 98,
   "metadata": {
    "collapsed": false
   },
   "outputs": [
    {
     "data": {
      "text/plain": [
       "array([ 0,  1,  2,  3,  4,  5,  6,  7,  8,  9, 10, 11])"
      ]
     },
     "execution_count": 98,
     "metadata": {},
     "output_type": "execute_result"
    }
   ],
   "source": [
    "params_50km.veg_class.values"
   ]
  },
  {
   "cell_type": "code",
   "execution_count": null,
   "metadata": {
    "collapsed": true
   },
   "outputs": [],
   "source": []
  }
 ],
 "metadata": {
  "kernelspec": {
   "display_name": "Python 3",
   "language": "python",
   "name": "python3"
  },
  "language_info": {
   "codemirror_mode": {
    "name": "ipython",
    "version": 3
   },
   "file_extension": ".py",
   "mimetype": "text/x-python",
   "name": "python",
   "nbconvert_exporter": "python",
   "pygments_lexer": "ipython3",
   "version": "3.5.0rc4"
  }
 },
 "nbformat": 4,
 "nbformat_minor": 0
}
