{
 "cells": [
  {
   "cell_type": "code",
   "execution_count": 1,
   "metadata": {},
   "outputs": [],
   "source": [
    "%matplotlib inline\n",
    "import matplotlib.pyplot as plt\n",
    "\n",
    "import numpy as np\n",
    "import argparse\n",
    "import subprocess\n",
    "from scipy.spatial import cKDTree\n",
    "import os\n",
    "from netCDF4 import Dataset, default_fillvals\n",
    "\n",
    "# define fill value \n",
    "FILL_VALUE = -9999\n",
    "NC_DOUBLE = 'f8'\n",
    "FILLVALUE_F = default_fillvals[NC_DOUBLE]\n",
    "\n",
    "import pandas as pd\n",
    "import xarray as xr\n",
    "\n",
    "from collections import OrderedDict"
   ]
  },
  {
   "cell_type": "code",
   "execution_count": 2,
   "metadata": {},
   "outputs": [],
   "source": [
    "# import NetCDF params file\n",
    "direc = '/Users/diana/Dropbox/UW/Research/rasm/data/25km'\n",
    "ncparams_25km_filename = \"vic_params_wr25b_vic4.dev_20180307.nc\"\n",
    "ncparams_25km = os.path.join(direc, ncparams_25km_filename)\n",
    "\n",
    "# filenames for ASCII parameters\n",
    "soil_file = os.path.join('/Users/diana/Dropbox/UW/Research/rasm/data/25km/new_25km_ascii_params', \n",
    "                              'soil_params_25km.txt')\n",
    "veg_file = os.path.join('/Users/diana/Dropbox/UW/Research/rasm/data/25km/new_25km_ascii_params', \n",
    "                              'veg_params_25km.txt')\n",
    "snow_file = os.path.join('/Users/diana/Dropbox/UW/Research/rasm/data/25km/new_25km_ascii_params', \n",
    "                              'snow_params_25km.txt')"
   ]
  },
  {
   "cell_type": "code",
   "execution_count": 3,
   "metadata": {},
   "outputs": [],
   "source": [
    "soil_50km = pd.read_csv(os.path.join('/Users/diana/Dropbox/UW/Research/rasm/data/25km', \n",
    "                                                 'rasm.vic.soil.1090.20140818'), \n",
    "                       delim_whitespace=True, \n",
    "                       index_col=None,\n",
    "                       header=None\n",
    "                       )"
   ]
  },
  {
   "cell_type": "code",
   "execution_count": 4,
   "metadata": {},
   "outputs": [],
   "source": [
    "snow_50km = pd.read_csv(os.path.join('/Users/diana/Dropbox/UW/Research/rasm/data/25km', \n",
    "                                                 'snow_param_wr50a.062012'), \n",
    "                       delim_whitespace=True, \n",
    "                       index_col=None,\n",
    "                       header=None\n",
    "                       )"
   ]
  },
  {
   "cell_type": "code",
   "execution_count": 46,
   "metadata": {},
   "outputs": [],
   "source": [
    "veg_50km = pd.read_csv(os.path.join('/Users/diana/Dropbox/UW/Research/rasm/data/25km',\n",
    "                                      'veg_param_wr50a.100924'),\n",
    "                       sep='\\t',\n",
    "                       header=None)"
   ]
  },
  {
   "cell_type": "code",
   "execution_count": 6,
   "metadata": {},
   "outputs": [],
   "source": [
    "initdata_50km = pd.read_csv(os.path.join('/Users/diana/Dropbox/UW/Research/rasm/data/25km', \n",
    "                                                 'vic_initdata_wr50a.08311989'), \n",
    "                       delim_whitespace=True, \n",
    "                       index_col=None,\n",
    "                       header=None\n",
    "                       )"
   ]
  },
  {
   "cell_type": "code",
   "execution_count": 7,
   "metadata": {},
   "outputs": [],
   "source": [
    "domain_25km_filename = 'domain.lnd.wr25b_ar9v4.170413.nc'\n",
    "direc = '/Users/diana/Dropbox/UW/Research/rasm/data/25km'\n",
    "domain_25km = xr.open_dataset(os.path.join(direc, domain_25km_filename))\n",
    "lon_25km = domain_25km['xc'].values\n",
    "lat_25km = domain_25km['yc'].values\n",
    "mask_25km = domain_25km['mask'].values\n",
    "\n",
    "domain_50km_filename = 'domain.lnd.wr50a_ar9v4.100920.nc'\n",
    "domain_50km = xr.open_dataset(os.path.join(direc, domain_50km_filename))\n",
    "lon_50km = domain_50km['xc'].values\n",
    "lat_50km = domain_50km['yc'].values\n",
    "mask_50km = domain_50km['mask'].values"
   ]
  },
  {
   "cell_type": "code",
   "execution_count": 8,
   "metadata": {},
   "outputs": [],
   "source": [
    "def lon_lat_to_cartesian(lon, lat, R = 1):\n",
    "    \"\"\"\n",
    "    calculates lon, lat coordinates of a point on a sphere with\n",
    "    radius R\n",
    "    \"\"\"\n",
    "    lon_r = np.radians(lon)\n",
    "    lat_r = np.radians(lat)\n",
    "\n",
    "    x = R * np.cos(lat_r) * np.cos(lon_r)\n",
    "    y = R * np.cos(lat_r) * np.sin(lon_r)\n",
    "    z = R * np.sin(lat_r)\n",
    "\n",
    "    return x, y, z"
   ]
  },
  {
   "cell_type": "code",
   "execution_count": 9,
   "metadata": {},
   "outputs": [],
   "source": [
    "# lon, lat from coarser res data\n",
    "xs, ys, zs = lon_lat_to_cartesian(lon_50km.flatten(), lat_50km.flatten()) \n",
    "\n",
    "# lon, lat from higher res data\n",
    "xt, yt, zt = lon_lat_to_cartesian(lon_25km.flatten(), lat_25km.flatten())\n",
    "\n",
    "# build KD tree\n",
    "zipped_50km = np.dstack(([xs, ys, zs]))[0]\n",
    "tree = cKDTree(zipped_50km)\n",
    "\n",
    "# find indices of the nearest neighbors in the flattened array \n",
    "zipped_25km = np.dstack(([xt, yt, zt]))[0]\n",
    "d, inds = tree.query(zipped_25km, k=1)"
   ]
  },
  {
   "cell_type": "markdown",
   "metadata": {},
   "source": [
    "soil parameters file"
   ]
  },
  {
   "cell_type": "code",
   "execution_count": 10,
   "metadata": {},
   "outputs": [],
   "source": [
    "# create DataFrame for soil parameters\n",
    "soil_params = pd.DataFrame()"
   ]
  },
  {
   "cell_type": "code",
   "execution_count": 11,
   "metadata": {},
   "outputs": [],
   "source": [
    "num_columns = len(soil_50km.columns)\n",
    "for column in range(num_columns):\n",
    "    var_50km = soil_50km[soil_50km.columns[column]].values.reshape(205, 275)\n",
    "    nearest_var = var_50km.flatten()[inds]\n",
    "    soil_params[column] = nearest_var"
   ]
  },
  {
   "cell_type": "code",
   "execution_count": 12,
   "metadata": {},
   "outputs": [],
   "source": [
    "# create gridcell numbers array for first column of soil parameters\n",
    "gridcell_nums_25km = np.linspace(1, len(nearest_var), num=len(nearest_var), dtype='int')\n",
    "\n",
    "# replace gridcell number column \n",
    "soil_params[2] = gridcell_nums_25km\n",
    "\n",
    "# replace 50km lats with 25km lats \n",
    "soil_params[3] = lat_25km.flatten()\n",
    "\n",
    "# replace 50km lons with 25km lons\n",
    "soil_params[4] = lon_25km.flatten()"
   ]
  },
  {
   "cell_type": "code",
   "execution_count": 18,
   "metadata": {},
   "outputs": [],
   "source": [
    "# save soil parameter file\n",
    "direc = '/Users/diana/Dropbox/UW/Research/rasm/data/25km'\n",
    "soil_params[3] = soil_params[3].round(4)\n",
    "soil_params[4] = soil_params[4].round(4)\n",
    "soil_params[26] = soil_params[26].round(4)\n",
    "soil_params[32] = soil_params[32].round(4)\n",
    "soil_params[33] = soil_params[33].round(4)\n",
    "soil_params[41] = soil_params[41].round(4)\n",
    "soil_params[44] = soil_params[44].round(4)\n",
    "soil_params.to_csv(os.path.join(direc, 'soil_params_20190329.txt'), sep=' ', index=False, header=False)"
   ]
  },
  {
   "cell_type": "markdown",
   "metadata": {},
   "source": [
    "snow bands file "
   ]
  },
  {
   "cell_type": "code",
   "execution_count": 21,
   "metadata": {},
   "outputs": [],
   "source": [
    "# create DataFrame for snow parameters\n",
    "snow_params = pd.DataFrame()"
   ]
  },
  {
   "cell_type": "code",
   "execution_count": 22,
   "metadata": {},
   "outputs": [],
   "source": [
    "num_columns = len(snow_50km.columns)\n",
    "for column in range(num_columns):\n",
    "    var_50km = snow_50km[snow_50km.columns[column]].values.reshape(205, 275)\n",
    "    nearest_var = var_50km.flatten()[inds]\n",
    "    snow_params[column] = nearest_var"
   ]
  },
  {
   "cell_type": "code",
   "execution_count": 23,
   "metadata": {},
   "outputs": [],
   "source": [
    "# replace first column with gridcell number in 25km array instead of nearest neighbor gridcell number\n",
    "snow_params[0] = gridcell_nums_25km"
   ]
  },
  {
   "cell_type": "code",
   "execution_count": 24,
   "metadata": {},
   "outputs": [],
   "source": [
    "# save snow bands file\n",
    "direc = '/Users/diana/Dropbox/UW/Research/rasm/data/25km'\n",
    "# update number of decimal places in snow state to match the original file \n",
    "snow_params[6] = snow_params[6].round(5)\n",
    "snow_params.to_csv(os.path.join(direc, 'snow_bands_20190124.txt'), sep=' ', index=False, header=False)"
   ]
  },
  {
   "cell_type": "markdown",
   "metadata": {},
   "source": [
    "init data file (initial state)"
   ]
  },
  {
   "cell_type": "code",
   "execution_count": 25,
   "metadata": {},
   "outputs": [],
   "source": [
    "# create DataFrame for snow parameters\n",
    "init_state = pd.DataFrame()"
   ]
  },
  {
   "cell_type": "code",
   "execution_count": 26,
   "metadata": {},
   "outputs": [],
   "source": [
    "num_columns = len(initdata_50km.columns)\n",
    "for column in range(num_columns):\n",
    "    var_50km = initdata_50km[initdata_50km.columns[column]].values.reshape(205, 275)\n",
    "    nearest_var = var_50km.flatten()[inds]\n",
    "    init_state[column] = nearest_var\n",
    "    \n",
    "# replace first column with gridcell number in 25km array instead of nearest neighbor gridcell number\n",
    "init_state[0] = gridcell_nums_25km"
   ]
  },
  {
   "cell_type": "code",
   "execution_count": 27,
   "metadata": {},
   "outputs": [],
   "source": [
    "# save initial state file\n",
    "direc = '/Users/diana/Dropbox/UW/Research/rasm/data/25km'\n",
    "# update number of decimal places in snow state to match the original file \n",
    "init_state[1] = init_state[1].round(4)\n",
    "init_state[2] = init_state[2].round(4)\n",
    "init_state[3] = init_state[3].round(4)\n",
    "init_state[4] = init_state[4].round(3)\n",
    "init_state.to_csv(os.path.join(direc, 'init_state_20190124.txt'), sep=' ', index=False, header=False)"
   ]
  },
  {
   "cell_type": "markdown",
   "metadata": {},
   "source": [
    "veg parameter file"
   ]
  },
  {
   "cell_type": "code",
   "execution_count": 47,
   "metadata": {},
   "outputs": [],
   "source": [
    "veg_50km_split = veg_50km.iloc[:, 0].str.split(' ', expand=True)\n",
    "veg_50km_split.rename(columns={ veg_50km_split.columns[0]: \"gridcell_number\" }, inplace=True)"
   ]
  },
  {
   "cell_type": "code",
   "execution_count": 31,
   "metadata": {},
   "outputs": [],
   "source": [
    "nn_gridcells = inds + 1"
   ]
  },
  {
   "cell_type": "code",
   "execution_count": 23,
   "metadata": {},
   "outputs": [],
   "source": [
    "veg = False\n",
    "if veg:\n",
    "    veg_params = OrderedDict()\n",
    "\n",
    "    # array of 25km gridcell nums: gridcell_nums_25km\n",
    "    # array of nearest neighbor indices: inds\n",
    "    # veg param gridcells go from 1-56375. So nearest neighbor gridcells are inds + 1\n",
    "\n",
    "    start = time.clock()\n",
    "\n",
    "    gridcell_nums_25km = gridcell_nums_25km\n",
    "\n",
    "    veg_params_row_count = 0\n",
    "    for i, num_gc_25km in enumerate(gridcell_nums_25km):\n",
    "        nn_gc = nn_gridcells[i]\n",
    "\n",
    "        if nn_gc <= 34: \n",
    "            veg_params[veg_params_row_count] = np.array('%s 0' %num_gc_25km)\n",
    "            veg_params_row_count += 1\n",
    "        elif (nn_gc > 34):\n",
    "            row_num = veg_50km_split[veg_50km_split['gridcell_number'].values == str(nn_gc)].index[0]\n",
    "            active_veg_types = veg_50km.values[row_num][0].split()[1]\n",
    "            print(\"gridcell num is %f, nn gc is %f, row num is %f and avt is %s\" %(num_gc_25km, \n",
    "                                                                                   nn_gc, \n",
    "                                                                                   row_num, \n",
    "                                                                                   active_veg_types))\n",
    "            if active_veg_types == '0':\n",
    "                veg_params[veg_params_row_count] = np.array('%s 0' %num_gc_25km)\n",
    "                veg_params_row_count += 1\n",
    "            else: \n",
    "                veg_params[veg_params_row_count] = np.array('%s %s' %(num_gc_25km, active_veg_types))\n",
    "                veg_params_row_count += 1\n",
    "                param_loop_num = row_num + 1\n",
    "                while len(veg_50km.values[param_loop_num][0].split()) > 2:\n",
    "                    veg_params[veg_params_row_count] = veg_50km.values[param_loop_num][0]\n",
    "                    param_loop_num += 1\n",
    "                    veg_params_row_count += 1\n",
    "\n",
    "    print(time.clock() - start)\n",
    "\n",
    "    df_veg_params = pd.DataFrame.from_dict(veg_params, orient='index')"
   ]
  },
  {
   "cell_type": "code",
   "execution_count": 24,
   "metadata": {},
   "outputs": [],
   "source": [
    "if veg:\n",
    "    direc = '/Users/diana/Dropbox/UW/Research/rasm/data/25km'\n",
    "    df_veg_params.to_csv(os.path.join(direc, 'veg_params_20190327.txt'), index=False, header=False)\n",
    "    print(\"finished making veg parameter file\")"
   ]
  },
  {
   "cell_type": "code",
   "execution_count": null,
   "metadata": {},
   "outputs": [],
   "source": []
  }
 ],
 "metadata": {
  "kernelspec": {
   "display_name": "Python 3",
   "language": "python",
   "name": "python3"
  },
  "language_info": {
   "codemirror_mode": {
    "name": "ipython",
    "version": 3
   },
   "file_extension": ".py",
   "mimetype": "text/x-python",
   "name": "python",
   "nbconvert_exporter": "python",
   "pygments_lexer": "ipython3",
   "version": "3.5.5"
  }
 },
 "nbformat": 4,
 "nbformat_minor": 2
}
