{
 "cells": [
  {
   "cell_type": "code",
   "execution_count": null,
   "metadata": {
    "collapsed": true
   },
   "outputs": [],
   "source": [
    "def interp_dataset(x):\n",
    "    direc_statefile = '/u/home/gergel/agu_runs'\n",
    "    state_filename = 'vic5.RI_CRUNCEP.agu_run.20171119a.19940901_00000.nc'\n",
    "    states = xr.open_dataset(os.path.join(direc_statefile, state_filename))\n",
    "    node_depths_arr = states.node_depth.values\n",
    "    node_depths_arr_time = np.repeat(node_depths_arr[np.newaxis, :, :, :], repeats=len(fluxes.time), axis=0)\n",
    "    print(x.shape)\n",
    "    m = interp1d(node_depths_arr_time, x.values, axis=1)\n",
    "    node_temp_interp = float(m(3.5))\n",
    "    return(node_temp_interp)"
   ]
  },
  {
   "cell_type": "code",
   "execution_count": null,
   "metadata": {
    "collapsed": true
   },
   "outputs": [],
   "source": [
    "# create an example dataset\n",
    "da = xr.DataArray(np.random.rand(10,30,40), dims=['time', 'lat', 'lon'])\n",
    "\n",
    "# define a function to compute a linear trend of a timeseries\n",
    "def linear_trend(x):\n",
    "    pf = np.polyfit(x.time, x, 1)\n",
    "    # we need to return a dataarray or else xarray's groupby won't be happy\n",
    "    return xr.DataArray(pf[0])\n",
    "\n",
    "# stack lat and lon into a single dimension called allpoints\n",
    "stacked = da.stack(allpoints=['lat','lon'])\n",
    "# apply the function over allpoints to calculate the trend at each point\n",
    "trend = stacked.groupby('allpoints').apply(linear_trend)\n",
    "# unstack back to lat lon coordinates\n",
    "trend_unstacked = trend.unstack('allpoints')"
   ]
  }
 ],
 "metadata": {
  "kernelspec": {
   "display_name": "Python 3",
   "language": "python",
   "name": "python3"
  },
  "language_info": {
   "codemirror_mode": {
    "name": "ipython",
    "version": 3
   },
   "file_extension": ".py",
   "mimetype": "text/x-python",
   "name": "python",
   "nbconvert_exporter": "python",
   "pygments_lexer": "ipython3",
   "version": "3.6.2"
  }
 },
 "nbformat": 4,
 "nbformat_minor": 2
}
